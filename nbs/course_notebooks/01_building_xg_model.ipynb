{
 "cells": [
  {
   "cell_type": "markdown",
   "source": [
    "# Building an Expected Goals Model\n",
    "\n",
    "In this notebook, we will create a model for computing the probability of a shot being a goal. This probability is referred to as *Expected Goals* (xG) and it is a popular metric in football today to understand how good a team is at creating chances.\n",
    "\n",
    "Based on the videos by [Prof. David Sumpter](https://uppsala.instructure.com/courses/28112/pages/2-statistical-models-of-actions), we will fit a *Logistic Regression* model to estimate xG. This model will have two input variables - distance of a shot from goal and angle of the shot to the width of the goal. To fit the model, we will use [event data](https://github.com/statsbomb/open-data) from La Liga (Spanish league) matches provided by Statsbomb.\n",
    "\n",
    "## Imports\n",
    "\n",
    "To load and inspect this data, we will need the `json` and `pandas` packages. We will need `numpy` for intermediate transformations and `statsmodels` for fitting the Logistic Regression model."
   ],
   "metadata": {
    "collapsed": false
   }
  },
  {
   "cell_type": "code",
   "execution_count": 8,
   "outputs": [],
   "source": [
    "import json\n",
    "import os\n",
    "import pickle\n",
    "from typing import List, Optional\n",
    "\n",
    "import numpy as np\n",
    "import pandas as pd\n",
    "import statsmodels.api as sm\n",
    "import statsmodels.formula.api as smf\n",
    "from mplsoccer import Standardizer\n",
    "from sklearn.metrics import mean_absolute_error"
   ],
   "metadata": {
    "collapsed": false
   }
  },
  {
   "cell_type": "markdown",
   "source": [
    "## Data\n",
    "\n",
    "We have already downloaded the data and placed it in `../data/statsbomb/data` directory. Event data is available per match in a JSON file. So, in order to fetch data for all available La Liga matches, we first need to get the competition ID of La Liga. Let us do so by loading `competitions.json` and inspecting it."
   ],
   "metadata": {
    "collapsed": false
   }
  },
  {
   "cell_type": "code",
   "execution_count": 9,
   "outputs": [
    {
     "data": {
      "text/plain": "    competition_id  season_id              country_name  \\\n0               16          4                    Europe   \n1               16          1                    Europe   \n2               16          2                    Europe   \n3               16         27                    Europe   \n4               16         26                    Europe   \n5               16         25                    Europe   \n6               16         24                    Europe   \n7               16         23                    Europe   \n8               16         22                    Europe   \n9               16         21                    Europe   \n10              16         41                    Europe   \n11              16         39                    Europe   \n12              16         37                    Europe   \n13              16         44                    Europe   \n14              16         76                    Europe   \n15              37         90                   England   \n16              37         42                   England   \n17              37          4                   England   \n18              43          3             International   \n19            1238        108                     India   \n20              11         90                     Spain   \n21              11         42                     Spain   \n22              11          4                     Spain   \n23              11          1                     Spain   \n24              11          2                     Spain   \n25              11         27                     Spain   \n26              11         26                     Spain   \n27              11         25                     Spain   \n28              11         24                     Spain   \n29              11         23                     Spain   \n30              11         22                     Spain   \n31              11         21                     Spain   \n32              11         41                     Spain   \n33              11         40                     Spain   \n34              11         39                     Spain   \n35              11         38                     Spain   \n36              11         37                     Spain   \n37              49          3  United States of America   \n38               2         44                   England   \n39              55         43                    Europe   \n40              53        106                    Europe   \n41              72         30             International   \n\n           competition_name competition_gender  competition_youth  \\\n0          Champions League               male              False   \n1          Champions League               male              False   \n2          Champions League               male              False   \n3          Champions League               male              False   \n4          Champions League               male              False   \n5          Champions League               male              False   \n6          Champions League               male              False   \n7          Champions League               male              False   \n8          Champions League               male              False   \n9          Champions League               male              False   \n10         Champions League               male              False   \n11         Champions League               male              False   \n12         Champions League               male              False   \n13         Champions League               male              False   \n14         Champions League               male              False   \n15  FA Women's Super League             female              False   \n16  FA Women's Super League             female              False   \n17  FA Women's Super League             female              False   \n18           FIFA World Cup               male              False   \n19      Indian Super league               male              False   \n20                  La Liga               male              False   \n21                  La Liga               male              False   \n22                  La Liga               male              False   \n23                  La Liga               male              False   \n24                  La Liga               male              False   \n25                  La Liga               male              False   \n26                  La Liga               male              False   \n27                  La Liga               male              False   \n28                  La Liga               male              False   \n29                  La Liga               male              False   \n30                  La Liga               male              False   \n31                  La Liga               male              False   \n32                  La Liga               male              False   \n33                  La Liga               male              False   \n34                  La Liga               male              False   \n35                  La Liga               male              False   \n36                  La Liga               male              False   \n37                     NWSL             female              False   \n38           Premier League               male              False   \n39                UEFA Euro               male              False   \n40        UEFA Women's Euro             female              False   \n41        Women's World Cup             female              False   \n\n    competition_international season_name               match_updated  \\\n0                       False   2018/2019  2022-08-14T16:57:15.866765   \n1                       False   2017/2018  2021-08-27T11:26:39.802832   \n2                       False   2016/2017  2021-08-27T11:26:39.802832   \n3                       False   2015/2016  2021-08-27T11:26:39.802832   \n4                       False   2014/2015  2021-08-27T11:26:39.802832   \n5                       False   2013/2014  2021-08-27T11:26:39.802832   \n6                       False   2012/2013  2021-08-27T11:26:39.802832   \n7                       False   2011/2012  2021-08-27T11:26:39.802832   \n8                       False   2010/2011  2022-01-26T21:07:11.033473   \n9                       False   2009/2010  2022-02-12T16:13:49.294747   \n10                      False   2008/2009  2021-11-07T14:20:01.699993   \n11                      False   2006/2007  2021-03-31T04:18:30.437060   \n12                      False   2004/2005  2021-04-01T06:18:57.459032   \n13                      False   2003/2004  2021-04-01T00:34:59.472485   \n14                      False   1999/2000            2020-07-29T05:00   \n15                      False   2020/2021  2022-08-16T02:10:37.220648   \n16                      False   2019/2020     2021-06-01T13:01:18.188   \n17                      False   2018/2019  2022-09-12T21:06:25.061309   \n18                       True        2018  2022-09-05T17:17:56.670896   \n19                      False   2021/2022  2022-06-08T12:40:59.857067   \n20                      False   2020/2021     2022-02-11T14:56:09.076   \n21                      False   2019/2020  2022-07-15T23:27:24.260122   \n22                      False   2018/2019  2022-08-30T23:25:57.118855   \n23                      False   2017/2018  2022-08-13T23:18:38.928566   \n24                      False   2016/2017  2022-01-25T22:51:59.353598   \n25                      False   2015/2016  2022-08-30T13:15:37.855155   \n26                      False   2014/2015  2022-08-14T18:49:03.341489   \n27                      False   2013/2014  2022-07-23T12:18:49.547396   \n28                      False   2012/2013  2022-09-25T20:52:24.444609   \n29                      False   2011/2012            2020-07-29T05:00   \n30                      False   2010/2011  2021-11-11T22:57:42.361902   \n31                      False   2009/2010  2021-10-26T13:56:40.989214   \n32                      False   2008/2009            2020-07-29T05:00   \n33                      False   2007/2008  2021-10-26T13:13:56.180589   \n34                      False   2006/2007            2020-07-29T05:00   \n35                      False   2005/2006  2022-07-03T12:34:31.749038   \n36                      False   2004/2005            2020-07-29T05:00   \n37                      False        2018  2021-11-06T05:53:29.435016   \n38                      False   2003/2004  2021-11-14T22:29:00.646120   \n39                       True        2020  2022-02-01T17:20:34.319496   \n40                       True        2022  2022-08-01T07:46:11.595364   \n41                       True        2019  2022-07-13T20:21:27.033445   \n\n             match_updated_360         match_available_360  \\\n0      2021-06-13T16:17:31.694                        None   \n1      2021-06-13T16:17:31.694                        None   \n2      2021-06-13T16:17:31.694                        None   \n3      2021-06-13T16:17:31.694                        None   \n4      2021-06-13T16:17:31.694                        None   \n5      2021-06-13T16:17:31.694                        None   \n6      2021-06-13T16:17:31.694                        None   \n7      2021-06-13T16:17:31.694                        None   \n8      2021-06-13T16:17:31.694                        None   \n9      2021-06-13T16:17:31.694                        None   \n10     2021-06-13T16:17:31.694                        None   \n11     2021-06-13T16:17:31.694                        None   \n12     2021-06-13T16:17:31.694                        None   \n13     2021-06-13T16:17:31.694                        None   \n14     2021-06-13T16:17:31.694                        None   \n15     2021-06-13T16:17:31.694                        None   \n16     2021-06-13T16:17:31.694                        None   \n17     2021-06-13T16:17:31.694                        None   \n18     2021-06-13T16:17:31.694                        None   \n19                        None                        None   \n20  2022-08-16T21:50:36.812060  2022-08-16T21:50:36.812060   \n21     2021-06-13T16:17:31.694                        None   \n22  2021-07-09T14:53:22.103024                        None   \n23     2021-06-13T16:17:31.694                        None   \n24     2021-06-13T16:17:31.694                        None   \n25     2021-06-13T16:17:31.694                        None   \n26     2021-06-13T16:17:31.694                        None   \n27     2021-06-13T16:17:31.694                        None   \n28     2021-06-13T16:17:31.694                        None   \n29     2021-06-13T16:17:31.694                        None   \n30     2021-06-13T16:17:31.694                        None   \n31     2021-06-13T16:17:31.694                        None   \n32     2021-06-13T16:17:31.694                        None   \n33     2021-06-13T16:17:31.694                        None   \n34     2021-06-13T16:17:31.694                        None   \n35     2021-06-13T16:17:31.694                        None   \n36     2021-06-13T16:17:31.694                        None   \n37     2021-06-13T16:17:31.694                        None   \n38     2021-06-13T16:17:31.694                        None   \n39            2022-08-04T12:00            2022-08-04T12:00   \n40  2022-09-13T17:04:11.418708  2022-09-13T17:04:11.418708   \n41     2021-06-13T16:17:31.694                        None   \n\n               match_available  \n0   2022-08-14T16:57:15.866765  \n1   2021-01-23T21:55:30.425330  \n2             2020-07-29T05:00  \n3             2020-07-29T05:00  \n4             2020-07-29T05:00  \n5             2020-07-29T05:00  \n6      2021-07-10T13:41:45.751  \n7             2020-07-29T05:00  \n8   2022-01-26T21:07:11.033473  \n9   2022-02-12T16:13:49.294747  \n10  2021-11-07T14:20:01.699993  \n11  2021-03-31T04:18:30.437060  \n12  2021-04-01T06:18:57.459032  \n13  2021-04-01T00:34:59.472485  \n14            2020-07-29T05:00  \n15  2022-08-16T02:10:37.220648  \n16     2021-06-01T13:01:18.188  \n17  2022-09-12T21:06:25.061309  \n18  2022-09-05T17:17:56.670896  \n19  2022-06-08T12:40:59.857067  \n20     2022-02-11T14:56:09.076  \n21  2022-07-15T23:27:24.260122  \n22  2022-08-30T23:25:57.118855  \n23  2022-08-13T23:18:38.928566  \n24  2022-01-25T22:51:59.353598  \n25  2022-08-30T13:15:37.855155  \n26  2022-08-14T18:49:03.341489  \n27  2022-07-23T12:18:49.547396  \n28  2022-09-25T20:52:24.444609  \n29            2020-07-29T05:00  \n30  2021-11-11T22:57:42.361902  \n31  2021-10-26T13:56:40.989214  \n32            2020-07-29T05:00  \n33  2021-10-26T13:13:56.180589  \n34            2020-07-29T05:00  \n35  2022-07-03T12:34:31.749038  \n36            2020-07-29T05:00  \n37  2021-11-06T05:53:29.435016  \n38  2021-11-14T22:29:00.646120  \n39  2022-02-01T17:20:34.319496  \n40  2022-08-01T07:46:11.595364  \n41  2022-07-13T20:21:27.033445  ",
      "text/html": "<div>\n<style scoped>\n    .dataframe tbody tr th:only-of-type {\n        vertical-align: middle;\n    }\n\n    .dataframe tbody tr th {\n        vertical-align: top;\n    }\n\n    .dataframe thead th {\n        text-align: right;\n    }\n</style>\n<table border=\"1\" class=\"dataframe\">\n  <thead>\n    <tr style=\"text-align: right;\">\n      <th></th>\n      <th>competition_id</th>\n      <th>season_id</th>\n      <th>country_name</th>\n      <th>competition_name</th>\n      <th>competition_gender</th>\n      <th>competition_youth</th>\n      <th>competition_international</th>\n      <th>season_name</th>\n      <th>match_updated</th>\n      <th>match_updated_360</th>\n      <th>match_available_360</th>\n      <th>match_available</th>\n    </tr>\n  </thead>\n  <tbody>\n    <tr>\n      <th>0</th>\n      <td>16</td>\n      <td>4</td>\n      <td>Europe</td>\n      <td>Champions League</td>\n      <td>male</td>\n      <td>False</td>\n      <td>False</td>\n      <td>2018/2019</td>\n      <td>2022-08-14T16:57:15.866765</td>\n      <td>2021-06-13T16:17:31.694</td>\n      <td>None</td>\n      <td>2022-08-14T16:57:15.866765</td>\n    </tr>\n    <tr>\n      <th>1</th>\n      <td>16</td>\n      <td>1</td>\n      <td>Europe</td>\n      <td>Champions League</td>\n      <td>male</td>\n      <td>False</td>\n      <td>False</td>\n      <td>2017/2018</td>\n      <td>2021-08-27T11:26:39.802832</td>\n      <td>2021-06-13T16:17:31.694</td>\n      <td>None</td>\n      <td>2021-01-23T21:55:30.425330</td>\n    </tr>\n    <tr>\n      <th>2</th>\n      <td>16</td>\n      <td>2</td>\n      <td>Europe</td>\n      <td>Champions League</td>\n      <td>male</td>\n      <td>False</td>\n      <td>False</td>\n      <td>2016/2017</td>\n      <td>2021-08-27T11:26:39.802832</td>\n      <td>2021-06-13T16:17:31.694</td>\n      <td>None</td>\n      <td>2020-07-29T05:00</td>\n    </tr>\n    <tr>\n      <th>3</th>\n      <td>16</td>\n      <td>27</td>\n      <td>Europe</td>\n      <td>Champions League</td>\n      <td>male</td>\n      <td>False</td>\n      <td>False</td>\n      <td>2015/2016</td>\n      <td>2021-08-27T11:26:39.802832</td>\n      <td>2021-06-13T16:17:31.694</td>\n      <td>None</td>\n      <td>2020-07-29T05:00</td>\n    </tr>\n    <tr>\n      <th>4</th>\n      <td>16</td>\n      <td>26</td>\n      <td>Europe</td>\n      <td>Champions League</td>\n      <td>male</td>\n      <td>False</td>\n      <td>False</td>\n      <td>2014/2015</td>\n      <td>2021-08-27T11:26:39.802832</td>\n      <td>2021-06-13T16:17:31.694</td>\n      <td>None</td>\n      <td>2020-07-29T05:00</td>\n    </tr>\n    <tr>\n      <th>5</th>\n      <td>16</td>\n      <td>25</td>\n      <td>Europe</td>\n      <td>Champions League</td>\n      <td>male</td>\n      <td>False</td>\n      <td>False</td>\n      <td>2013/2014</td>\n      <td>2021-08-27T11:26:39.802832</td>\n      <td>2021-06-13T16:17:31.694</td>\n      <td>None</td>\n      <td>2020-07-29T05:00</td>\n    </tr>\n    <tr>\n      <th>6</th>\n      <td>16</td>\n      <td>24</td>\n      <td>Europe</td>\n      <td>Champions League</td>\n      <td>male</td>\n      <td>False</td>\n      <td>False</td>\n      <td>2012/2013</td>\n      <td>2021-08-27T11:26:39.802832</td>\n      <td>2021-06-13T16:17:31.694</td>\n      <td>None</td>\n      <td>2021-07-10T13:41:45.751</td>\n    </tr>\n    <tr>\n      <th>7</th>\n      <td>16</td>\n      <td>23</td>\n      <td>Europe</td>\n      <td>Champions League</td>\n      <td>male</td>\n      <td>False</td>\n      <td>False</td>\n      <td>2011/2012</td>\n      <td>2021-08-27T11:26:39.802832</td>\n      <td>2021-06-13T16:17:31.694</td>\n      <td>None</td>\n      <td>2020-07-29T05:00</td>\n    </tr>\n    <tr>\n      <th>8</th>\n      <td>16</td>\n      <td>22</td>\n      <td>Europe</td>\n      <td>Champions League</td>\n      <td>male</td>\n      <td>False</td>\n      <td>False</td>\n      <td>2010/2011</td>\n      <td>2022-01-26T21:07:11.033473</td>\n      <td>2021-06-13T16:17:31.694</td>\n      <td>None</td>\n      <td>2022-01-26T21:07:11.033473</td>\n    </tr>\n    <tr>\n      <th>9</th>\n      <td>16</td>\n      <td>21</td>\n      <td>Europe</td>\n      <td>Champions League</td>\n      <td>male</td>\n      <td>False</td>\n      <td>False</td>\n      <td>2009/2010</td>\n      <td>2022-02-12T16:13:49.294747</td>\n      <td>2021-06-13T16:17:31.694</td>\n      <td>None</td>\n      <td>2022-02-12T16:13:49.294747</td>\n    </tr>\n    <tr>\n      <th>10</th>\n      <td>16</td>\n      <td>41</td>\n      <td>Europe</td>\n      <td>Champions League</td>\n      <td>male</td>\n      <td>False</td>\n      <td>False</td>\n      <td>2008/2009</td>\n      <td>2021-11-07T14:20:01.699993</td>\n      <td>2021-06-13T16:17:31.694</td>\n      <td>None</td>\n      <td>2021-11-07T14:20:01.699993</td>\n    </tr>\n    <tr>\n      <th>11</th>\n      <td>16</td>\n      <td>39</td>\n      <td>Europe</td>\n      <td>Champions League</td>\n      <td>male</td>\n      <td>False</td>\n      <td>False</td>\n      <td>2006/2007</td>\n      <td>2021-03-31T04:18:30.437060</td>\n      <td>2021-06-13T16:17:31.694</td>\n      <td>None</td>\n      <td>2021-03-31T04:18:30.437060</td>\n    </tr>\n    <tr>\n      <th>12</th>\n      <td>16</td>\n      <td>37</td>\n      <td>Europe</td>\n      <td>Champions League</td>\n      <td>male</td>\n      <td>False</td>\n      <td>False</td>\n      <td>2004/2005</td>\n      <td>2021-04-01T06:18:57.459032</td>\n      <td>2021-06-13T16:17:31.694</td>\n      <td>None</td>\n      <td>2021-04-01T06:18:57.459032</td>\n    </tr>\n    <tr>\n      <th>13</th>\n      <td>16</td>\n      <td>44</td>\n      <td>Europe</td>\n      <td>Champions League</td>\n      <td>male</td>\n      <td>False</td>\n      <td>False</td>\n      <td>2003/2004</td>\n      <td>2021-04-01T00:34:59.472485</td>\n      <td>2021-06-13T16:17:31.694</td>\n      <td>None</td>\n      <td>2021-04-01T00:34:59.472485</td>\n    </tr>\n    <tr>\n      <th>14</th>\n      <td>16</td>\n      <td>76</td>\n      <td>Europe</td>\n      <td>Champions League</td>\n      <td>male</td>\n      <td>False</td>\n      <td>False</td>\n      <td>1999/2000</td>\n      <td>2020-07-29T05:00</td>\n      <td>2021-06-13T16:17:31.694</td>\n      <td>None</td>\n      <td>2020-07-29T05:00</td>\n    </tr>\n    <tr>\n      <th>15</th>\n      <td>37</td>\n      <td>90</td>\n      <td>England</td>\n      <td>FA Women's Super League</td>\n      <td>female</td>\n      <td>False</td>\n      <td>False</td>\n      <td>2020/2021</td>\n      <td>2022-08-16T02:10:37.220648</td>\n      <td>2021-06-13T16:17:31.694</td>\n      <td>None</td>\n      <td>2022-08-16T02:10:37.220648</td>\n    </tr>\n    <tr>\n      <th>16</th>\n      <td>37</td>\n      <td>42</td>\n      <td>England</td>\n      <td>FA Women's Super League</td>\n      <td>female</td>\n      <td>False</td>\n      <td>False</td>\n      <td>2019/2020</td>\n      <td>2021-06-01T13:01:18.188</td>\n      <td>2021-06-13T16:17:31.694</td>\n      <td>None</td>\n      <td>2021-06-01T13:01:18.188</td>\n    </tr>\n    <tr>\n      <th>17</th>\n      <td>37</td>\n      <td>4</td>\n      <td>England</td>\n      <td>FA Women's Super League</td>\n      <td>female</td>\n      <td>False</td>\n      <td>False</td>\n      <td>2018/2019</td>\n      <td>2022-09-12T21:06:25.061309</td>\n      <td>2021-06-13T16:17:31.694</td>\n      <td>None</td>\n      <td>2022-09-12T21:06:25.061309</td>\n    </tr>\n    <tr>\n      <th>18</th>\n      <td>43</td>\n      <td>3</td>\n      <td>International</td>\n      <td>FIFA World Cup</td>\n      <td>male</td>\n      <td>False</td>\n      <td>True</td>\n      <td>2018</td>\n      <td>2022-09-05T17:17:56.670896</td>\n      <td>2021-06-13T16:17:31.694</td>\n      <td>None</td>\n      <td>2022-09-05T17:17:56.670896</td>\n    </tr>\n    <tr>\n      <th>19</th>\n      <td>1238</td>\n      <td>108</td>\n      <td>India</td>\n      <td>Indian Super league</td>\n      <td>male</td>\n      <td>False</td>\n      <td>False</td>\n      <td>2021/2022</td>\n      <td>2022-06-08T12:40:59.857067</td>\n      <td>None</td>\n      <td>None</td>\n      <td>2022-06-08T12:40:59.857067</td>\n    </tr>\n    <tr>\n      <th>20</th>\n      <td>11</td>\n      <td>90</td>\n      <td>Spain</td>\n      <td>La Liga</td>\n      <td>male</td>\n      <td>False</td>\n      <td>False</td>\n      <td>2020/2021</td>\n      <td>2022-02-11T14:56:09.076</td>\n      <td>2022-08-16T21:50:36.812060</td>\n      <td>2022-08-16T21:50:36.812060</td>\n      <td>2022-02-11T14:56:09.076</td>\n    </tr>\n    <tr>\n      <th>21</th>\n      <td>11</td>\n      <td>42</td>\n      <td>Spain</td>\n      <td>La Liga</td>\n      <td>male</td>\n      <td>False</td>\n      <td>False</td>\n      <td>2019/2020</td>\n      <td>2022-07-15T23:27:24.260122</td>\n      <td>2021-06-13T16:17:31.694</td>\n      <td>None</td>\n      <td>2022-07-15T23:27:24.260122</td>\n    </tr>\n    <tr>\n      <th>22</th>\n      <td>11</td>\n      <td>4</td>\n      <td>Spain</td>\n      <td>La Liga</td>\n      <td>male</td>\n      <td>False</td>\n      <td>False</td>\n      <td>2018/2019</td>\n      <td>2022-08-30T23:25:57.118855</td>\n      <td>2021-07-09T14:53:22.103024</td>\n      <td>None</td>\n      <td>2022-08-30T23:25:57.118855</td>\n    </tr>\n    <tr>\n      <th>23</th>\n      <td>11</td>\n      <td>1</td>\n      <td>Spain</td>\n      <td>La Liga</td>\n      <td>male</td>\n      <td>False</td>\n      <td>False</td>\n      <td>2017/2018</td>\n      <td>2022-08-13T23:18:38.928566</td>\n      <td>2021-06-13T16:17:31.694</td>\n      <td>None</td>\n      <td>2022-08-13T23:18:38.928566</td>\n    </tr>\n    <tr>\n      <th>24</th>\n      <td>11</td>\n      <td>2</td>\n      <td>Spain</td>\n      <td>La Liga</td>\n      <td>male</td>\n      <td>False</td>\n      <td>False</td>\n      <td>2016/2017</td>\n      <td>2022-01-25T22:51:59.353598</td>\n      <td>2021-06-13T16:17:31.694</td>\n      <td>None</td>\n      <td>2022-01-25T22:51:59.353598</td>\n    </tr>\n    <tr>\n      <th>25</th>\n      <td>11</td>\n      <td>27</td>\n      <td>Spain</td>\n      <td>La Liga</td>\n      <td>male</td>\n      <td>False</td>\n      <td>False</td>\n      <td>2015/2016</td>\n      <td>2022-08-30T13:15:37.855155</td>\n      <td>2021-06-13T16:17:31.694</td>\n      <td>None</td>\n      <td>2022-08-30T13:15:37.855155</td>\n    </tr>\n    <tr>\n      <th>26</th>\n      <td>11</td>\n      <td>26</td>\n      <td>Spain</td>\n      <td>La Liga</td>\n      <td>male</td>\n      <td>False</td>\n      <td>False</td>\n      <td>2014/2015</td>\n      <td>2022-08-14T18:49:03.341489</td>\n      <td>2021-06-13T16:17:31.694</td>\n      <td>None</td>\n      <td>2022-08-14T18:49:03.341489</td>\n    </tr>\n    <tr>\n      <th>27</th>\n      <td>11</td>\n      <td>25</td>\n      <td>Spain</td>\n      <td>La Liga</td>\n      <td>male</td>\n      <td>False</td>\n      <td>False</td>\n      <td>2013/2014</td>\n      <td>2022-07-23T12:18:49.547396</td>\n      <td>2021-06-13T16:17:31.694</td>\n      <td>None</td>\n      <td>2022-07-23T12:18:49.547396</td>\n    </tr>\n    <tr>\n      <th>28</th>\n      <td>11</td>\n      <td>24</td>\n      <td>Spain</td>\n      <td>La Liga</td>\n      <td>male</td>\n      <td>False</td>\n      <td>False</td>\n      <td>2012/2013</td>\n      <td>2022-09-25T20:52:24.444609</td>\n      <td>2021-06-13T16:17:31.694</td>\n      <td>None</td>\n      <td>2022-09-25T20:52:24.444609</td>\n    </tr>\n    <tr>\n      <th>29</th>\n      <td>11</td>\n      <td>23</td>\n      <td>Spain</td>\n      <td>La Liga</td>\n      <td>male</td>\n      <td>False</td>\n      <td>False</td>\n      <td>2011/2012</td>\n      <td>2020-07-29T05:00</td>\n      <td>2021-06-13T16:17:31.694</td>\n      <td>None</td>\n      <td>2020-07-29T05:00</td>\n    </tr>\n    <tr>\n      <th>30</th>\n      <td>11</td>\n      <td>22</td>\n      <td>Spain</td>\n      <td>La Liga</td>\n      <td>male</td>\n      <td>False</td>\n      <td>False</td>\n      <td>2010/2011</td>\n      <td>2021-11-11T22:57:42.361902</td>\n      <td>2021-06-13T16:17:31.694</td>\n      <td>None</td>\n      <td>2021-11-11T22:57:42.361902</td>\n    </tr>\n    <tr>\n      <th>31</th>\n      <td>11</td>\n      <td>21</td>\n      <td>Spain</td>\n      <td>La Liga</td>\n      <td>male</td>\n      <td>False</td>\n      <td>False</td>\n      <td>2009/2010</td>\n      <td>2021-10-26T13:56:40.989214</td>\n      <td>2021-06-13T16:17:31.694</td>\n      <td>None</td>\n      <td>2021-10-26T13:56:40.989214</td>\n    </tr>\n    <tr>\n      <th>32</th>\n      <td>11</td>\n      <td>41</td>\n      <td>Spain</td>\n      <td>La Liga</td>\n      <td>male</td>\n      <td>False</td>\n      <td>False</td>\n      <td>2008/2009</td>\n      <td>2020-07-29T05:00</td>\n      <td>2021-06-13T16:17:31.694</td>\n      <td>None</td>\n      <td>2020-07-29T05:00</td>\n    </tr>\n    <tr>\n      <th>33</th>\n      <td>11</td>\n      <td>40</td>\n      <td>Spain</td>\n      <td>La Liga</td>\n      <td>male</td>\n      <td>False</td>\n      <td>False</td>\n      <td>2007/2008</td>\n      <td>2021-10-26T13:13:56.180589</td>\n      <td>2021-06-13T16:17:31.694</td>\n      <td>None</td>\n      <td>2021-10-26T13:13:56.180589</td>\n    </tr>\n    <tr>\n      <th>34</th>\n      <td>11</td>\n      <td>39</td>\n      <td>Spain</td>\n      <td>La Liga</td>\n      <td>male</td>\n      <td>False</td>\n      <td>False</td>\n      <td>2006/2007</td>\n      <td>2020-07-29T05:00</td>\n      <td>2021-06-13T16:17:31.694</td>\n      <td>None</td>\n      <td>2020-07-29T05:00</td>\n    </tr>\n    <tr>\n      <th>35</th>\n      <td>11</td>\n      <td>38</td>\n      <td>Spain</td>\n      <td>La Liga</td>\n      <td>male</td>\n      <td>False</td>\n      <td>False</td>\n      <td>2005/2006</td>\n      <td>2022-07-03T12:34:31.749038</td>\n      <td>2021-06-13T16:17:31.694</td>\n      <td>None</td>\n      <td>2022-07-03T12:34:31.749038</td>\n    </tr>\n    <tr>\n      <th>36</th>\n      <td>11</td>\n      <td>37</td>\n      <td>Spain</td>\n      <td>La Liga</td>\n      <td>male</td>\n      <td>False</td>\n      <td>False</td>\n      <td>2004/2005</td>\n      <td>2020-07-29T05:00</td>\n      <td>2021-06-13T16:17:31.694</td>\n      <td>None</td>\n      <td>2020-07-29T05:00</td>\n    </tr>\n    <tr>\n      <th>37</th>\n      <td>49</td>\n      <td>3</td>\n      <td>United States of America</td>\n      <td>NWSL</td>\n      <td>female</td>\n      <td>False</td>\n      <td>False</td>\n      <td>2018</td>\n      <td>2021-11-06T05:53:29.435016</td>\n      <td>2021-06-13T16:17:31.694</td>\n      <td>None</td>\n      <td>2021-11-06T05:53:29.435016</td>\n    </tr>\n    <tr>\n      <th>38</th>\n      <td>2</td>\n      <td>44</td>\n      <td>England</td>\n      <td>Premier League</td>\n      <td>male</td>\n      <td>False</td>\n      <td>False</td>\n      <td>2003/2004</td>\n      <td>2021-11-14T22:29:00.646120</td>\n      <td>2021-06-13T16:17:31.694</td>\n      <td>None</td>\n      <td>2021-11-14T22:29:00.646120</td>\n    </tr>\n    <tr>\n      <th>39</th>\n      <td>55</td>\n      <td>43</td>\n      <td>Europe</td>\n      <td>UEFA Euro</td>\n      <td>male</td>\n      <td>False</td>\n      <td>True</td>\n      <td>2020</td>\n      <td>2022-02-01T17:20:34.319496</td>\n      <td>2022-08-04T12:00</td>\n      <td>2022-08-04T12:00</td>\n      <td>2022-02-01T17:20:34.319496</td>\n    </tr>\n    <tr>\n      <th>40</th>\n      <td>53</td>\n      <td>106</td>\n      <td>Europe</td>\n      <td>UEFA Women's Euro</td>\n      <td>female</td>\n      <td>False</td>\n      <td>True</td>\n      <td>2022</td>\n      <td>2022-08-01T07:46:11.595364</td>\n      <td>2022-09-13T17:04:11.418708</td>\n      <td>2022-09-13T17:04:11.418708</td>\n      <td>2022-08-01T07:46:11.595364</td>\n    </tr>\n    <tr>\n      <th>41</th>\n      <td>72</td>\n      <td>30</td>\n      <td>International</td>\n      <td>Women's World Cup</td>\n      <td>female</td>\n      <td>False</td>\n      <td>True</td>\n      <td>2019</td>\n      <td>2022-07-13T20:21:27.033445</td>\n      <td>2021-06-13T16:17:31.694</td>\n      <td>None</td>\n      <td>2022-07-13T20:21:27.033445</td>\n    </tr>\n  </tbody>\n</table>\n</div>"
     },
     "execution_count": 9,
     "metadata": {},
     "output_type": "execute_result"
    }
   ],
   "source": [
    "competitions_fn: str = \"../data/statsbomb/data/competitions.json\"\n",
    "with open(competitions_fn, \"r\") as f:\n",
    "    competitions: pd.DataFrame = pd.read_json(f)\n",
    "competitions"
   ],
   "metadata": {
    "collapsed": false
   }
  },
  {
   "cell_type": "markdown",
   "source": [
    "We see that La Liga has the ID `11`. Let us now load the list of La Liga matches for which event data is available. In `./data/statsbomb/data/matches/11/`, we have one JSON file for every La Liga season. Each of the JSON files provides basic information about all matches in that season. We are interested in getting the ID of each match so that we can load event data for that match from `./data/statsbomb/data/events`. So, let us write function to get IDs of all matches for which we want to get event data."
   ],
   "metadata": {
    "collapsed": false
   }
  },
  {
   "cell_type": "code",
   "execution_count": 10,
   "outputs": [],
   "source": [
    "def get_competition_match_ids(comp_id: int, data_dir: str = \"../data/statsbomb/data/\") -> list:\n",
    "    \"\"\"\n",
    "    Get IDs of matches from all seasons of a competition e.g. La Liga.\n",
    "    :param comp_id:  Competition ID from one of those provided in `competitions.json`\n",
    "    :param data_dir: Path to directory containing `competitions.json` and `matches` directory\n",
    "    from Statsbomb open data.\n",
    "    :return: List of match IDs for all seasons.\n",
    "    \"\"\"\n",
    "    comp_dir: str = os.path.join(data_dir, \"matches\", str(comp_id))\n",
    "    season_fns: list = os.listdir(comp_dir)\n",
    "    season_fn: str\n",
    "    match: dict\n",
    "    match_ids: list = []\n",
    "    for season_fn in season_fns:\n",
    "        with open(os.path.join(comp_dir, season_fn), \"r\") as jf:\n",
    "            matches: list = json.load(jf)\n",
    "\n",
    "        for match in matches:\n",
    "            match_ids.append(match[\"match_id\"])\n",
    "\n",
    "    return match_ids"
   ],
   "metadata": {
    "collapsed": false
   }
  },
  {
   "cell_type": "code",
   "execution_count": 11,
   "outputs": [],
   "source": [
    "required_match_ids: list = get_competition_match_ids(11)"
   ],
   "metadata": {
    "collapsed": false
   }
  },
  {
   "cell_type": "markdown",
   "source": [
    "Let us write a quick test for our function. Let us pick one match ID at random from the following files:\n",
    "- `1.json`\n",
    "- `27.json`\n",
    "- `42.json`\n",
    "\n",
    "and verify that our list contains these IDs."
   ],
   "metadata": {
    "collapsed": false
   }
  },
  {
   "cell_type": "code",
   "execution_count": 12,
   "outputs": [],
   "source": [
    "assert 9609 in required_match_ids\n",
    "assert 266166 in required_match_ids\n",
    "assert 303532 in required_match_ids"
   ],
   "metadata": {
    "collapsed": false
   }
  },
  {
   "cell_type": "markdown",
   "source": [
    "Having fetched the match IDs, let us now incrementally load events from them. For our first model, let us only consider shots to goal from open play. To do so, we use our learnings from the [previous exploratory notebook](./00_loading_investigating_world_cup_data.ipynb)."
   ],
   "metadata": {
    "collapsed": false
   }
  },
  {
   "cell_type": "code",
   "execution_count": 13,
   "outputs": [
    {
     "data": {
      "text/plain": "                                      index  period     timestamp  minute  \\\nid                                                                          \nd0a3a318-9e65-4f79-9a78-1e65d4ea5b82    104       1  00:01:56.139       1   \n572ebe7b-7efb-4370-98d4-3d178ce0c59d    247       1  00:05:25.322       5   \n9f17a2a7-976c-4eb7-b4be-7cb6f2b9bdc1    311       1  00:06:29.899       6   \nbb3d8291-0dba-40a9-9ed0-f395eef891f6    662       1  00:15:56.988      15   \n71faa4ab-6734-4fa1-b309-29df1020285c    684       1  00:16:30.980      16   \n...                                     ...     ...           ...     ...   \n6653337b-5599-453f-872d-379cfb5823eb   3664       2  00:34:48.656      79   \n7afa362d-de22-4a37-ac93-7d2f7579c593   3730       2  00:36:38.351      81   \n36ec2b3a-e40c-40bb-8c60-fc92bebf3a93   3885       2  00:40:02.956      85   \n8645c39f-b071-4b79-ba36-ab433ef4d79b   4036       2  00:43:42.852      88   \n6ea4aa64-c880-40fb-94d6-970fd1925949   4088       2  00:45:21.080      90   \n\n                                      second  possession  duration  type_id  \\\nid                                                                            \nd0a3a318-9e65-4f79-9a78-1e65d4ea5b82      56           7  1.483300       16   \n572ebe7b-7efb-4370-98d4-3d178ce0c59d      25          15  0.446500       16   \n9f17a2a7-976c-4eb7-b4be-7cb6f2b9bdc1      29          19  1.162000       16   \nbb3d8291-0dba-40a9-9ed0-f395eef891f6      56          34  0.616861       16   \n71faa4ab-6734-4fa1-b309-29df1020285c      30          37  0.174000       16   \n...                                      ...         ...       ...      ...   \n6653337b-5599-453f-872d-379cfb5823eb      48         200  1.087292       16   \n7afa362d-de22-4a37-ac93-7d2f7579c593      38         204  0.293700       16   \n36ec2b3a-e40c-40bb-8c60-fc92bebf3a93       2         210  0.549300       16   \n8645c39f-b071-4b79-ba36-ab433ef4d79b      42         218  0.845001       16   \n6ea4aa64-c880-40fb-94d6-970fd1925949      21         223  0.840600       16   \n\n                                     type_name  possession_team_id  ...  \\\nid                                                                  ...   \nd0a3a318-9e65-4f79-9a78-1e65d4ea5b82      Shot                 217  ...   \n572ebe7b-7efb-4370-98d4-3d178ce0c59d      Shot                 217  ...   \n9f17a2a7-976c-4eb7-b4be-7cb6f2b9bdc1      Shot                 217  ...   \nbb3d8291-0dba-40a9-9ed0-f395eef891f6      Shot                 217  ...   \n71faa4ab-6734-4fa1-b309-29df1020285c      Shot                 217  ...   \n...                                        ...                 ...  ...   \n6653337b-5599-453f-872d-379cfb5823eb      Shot                 215  ...   \n7afa362d-de22-4a37-ac93-7d2f7579c593      Shot                 215  ...   \n36ec2b3a-e40c-40bb-8c60-fc92bebf3a93      Shot                 215  ...   \n8645c39f-b071-4b79-ba36-ab433ef4d79b      Shot                 217  ...   \n6ea4aa64-c880-40fb-94d6-970fd1925949      Shot                 217  ...   \n\n                                     goalkeeper_punched_out  \\\nid                                                            \nd0a3a318-9e65-4f79-9a78-1e65d4ea5b82                    NaN   \n572ebe7b-7efb-4370-98d4-3d178ce0c59d                    NaN   \n9f17a2a7-976c-4eb7-b4be-7cb6f2b9bdc1                    NaN   \nbb3d8291-0dba-40a9-9ed0-f395eef891f6                    NaN   \n71faa4ab-6734-4fa1-b309-29df1020285c                    NaN   \n...                                                     ...   \n6653337b-5599-453f-872d-379cfb5823eb                    NaN   \n7afa362d-de22-4a37-ac93-7d2f7579c593                    NaN   \n36ec2b3a-e40c-40bb-8c60-fc92bebf3a93                    NaN   \n8645c39f-b071-4b79-ba36-ab433ef4d79b                    NaN   \n6ea4aa64-c880-40fb-94d6-970fd1925949                    NaN   \n\n                                      shot_follows_dribble  \\\nid                                                           \nd0a3a318-9e65-4f79-9a78-1e65d4ea5b82                   NaN   \n572ebe7b-7efb-4370-98d4-3d178ce0c59d                   NaN   \n9f17a2a7-976c-4eb7-b4be-7cb6f2b9bdc1                   NaN   \nbb3d8291-0dba-40a9-9ed0-f395eef891f6                   NaN   \n71faa4ab-6734-4fa1-b309-29df1020285c                   NaN   \n...                                                    ...   \n6653337b-5599-453f-872d-379cfb5823eb                   NaN   \n7afa362d-de22-4a37-ac93-7d2f7579c593                   NaN   \n36ec2b3a-e40c-40bb-8c60-fc92bebf3a93                   NaN   \n8645c39f-b071-4b79-ba36-ab433ef4d79b                   NaN   \n6ea4aa64-c880-40fb-94d6-970fd1925949                   NaN   \n\n                                     goalkeeper_success_out  shot_redirect  \\\nid                                                                           \nd0a3a318-9e65-4f79-9a78-1e65d4ea5b82                    NaN            NaN   \n572ebe7b-7efb-4370-98d4-3d178ce0c59d                    NaN            NaN   \n9f17a2a7-976c-4eb7-b4be-7cb6f2b9bdc1                    NaN            NaN   \nbb3d8291-0dba-40a9-9ed0-f395eef891f6                    NaN            NaN   \n71faa4ab-6734-4fa1-b309-29df1020285c                    NaN            NaN   \n...                                                     ...            ...   \n6653337b-5599-453f-872d-379cfb5823eb                    NaN            NaN   \n7afa362d-de22-4a37-ac93-7d2f7579c593                    NaN            NaN   \n36ec2b3a-e40c-40bb-8c60-fc92bebf3a93                    NaN            NaN   \n8645c39f-b071-4b79-ba36-ab433ef4d79b                    NaN            NaN   \n6ea4aa64-c880-40fb-94d6-970fd1925949                    NaN            NaN   \n\n                                     half_end_early_video_end  \\\nid                                                              \nd0a3a318-9e65-4f79-9a78-1e65d4ea5b82                      NaN   \n572ebe7b-7efb-4370-98d4-3d178ce0c59d                      NaN   \n9f17a2a7-976c-4eb7-b4be-7cb6f2b9bdc1                      NaN   \nbb3d8291-0dba-40a9-9ed0-f395eef891f6                      NaN   \n71faa4ab-6734-4fa1-b309-29df1020285c                      NaN   \n...                                                       ...   \n6653337b-5599-453f-872d-379cfb5823eb                      NaN   \n7afa362d-de22-4a37-ac93-7d2f7579c593                      NaN   \n36ec2b3a-e40c-40bb-8c60-fc92bebf3a93                      NaN   \n8645c39f-b071-4b79-ba36-ab433ef4d79b                      NaN   \n6ea4aa64-c880-40fb-94d6-970fd1925949                      NaN   \n\n                                      goalkeeper_lost_in_play  \\\nid                                                              \nd0a3a318-9e65-4f79-9a78-1e65d4ea5b82                      NaN   \n572ebe7b-7efb-4370-98d4-3d178ce0c59d                      NaN   \n9f17a2a7-976c-4eb7-b4be-7cb6f2b9bdc1                      NaN   \nbb3d8291-0dba-40a9-9ed0-f395eef891f6                      NaN   \n71faa4ab-6734-4fa1-b309-29df1020285c                      NaN   \n...                                                       ...   \n6653337b-5599-453f-872d-379cfb5823eb                      NaN   \n7afa362d-de22-4a37-ac93-7d2f7579c593                      NaN   \n36ec2b3a-e40c-40bb-8c60-fc92bebf3a93                      NaN   \n8645c39f-b071-4b79-ba36-ab433ef4d79b                      NaN   \n6ea4aa64-c880-40fb-94d6-970fd1925949                      NaN   \n\n                                     player_off_permanent  \\\nid                                                          \nd0a3a318-9e65-4f79-9a78-1e65d4ea5b82                  NaN   \n572ebe7b-7efb-4370-98d4-3d178ce0c59d                  NaN   \n9f17a2a7-976c-4eb7-b4be-7cb6f2b9bdc1                  NaN   \nbb3d8291-0dba-40a9-9ed0-f395eef891f6                  NaN   \n71faa4ab-6734-4fa1-b309-29df1020285c                  NaN   \n...                                                   ...   \n6653337b-5599-453f-872d-379cfb5823eb                  NaN   \n7afa362d-de22-4a37-ac93-7d2f7579c593                  NaN   \n36ec2b3a-e40c-40bb-8c60-fc92bebf3a93                  NaN   \n8645c39f-b071-4b79-ba36-ab433ef4d79b                  NaN   \n6ea4aa64-c880-40fb-94d6-970fd1925949                  NaN   \n\n                                     goalkeeper_saved_to_post  \\\nid                                                              \nd0a3a318-9e65-4f79-9a78-1e65d4ea5b82                      NaN   \n572ebe7b-7efb-4370-98d4-3d178ce0c59d                      NaN   \n9f17a2a7-976c-4eb7-b4be-7cb6f2b9bdc1                      NaN   \nbb3d8291-0dba-40a9-9ed0-f395eef891f6                      NaN   \n71faa4ab-6734-4fa1-b309-29df1020285c                      NaN   \n...                                                       ...   \n6653337b-5599-453f-872d-379cfb5823eb                      NaN   \n7afa362d-de22-4a37-ac93-7d2f7579c593                      NaN   \n36ec2b3a-e40c-40bb-8c60-fc92bebf3a93                      NaN   \n8645c39f-b071-4b79-ba36-ab433ef4d79b                      NaN   \n6ea4aa64-c880-40fb-94d6-970fd1925949                      NaN   \n\n                                     goalkeeper_success_in_play pass_backheel  \nid                                                                             \nd0a3a318-9e65-4f79-9a78-1e65d4ea5b82                        NaN           NaN  \n572ebe7b-7efb-4370-98d4-3d178ce0c59d                        NaN           NaN  \n9f17a2a7-976c-4eb7-b4be-7cb6f2b9bdc1                        NaN           NaN  \nbb3d8291-0dba-40a9-9ed0-f395eef891f6                        NaN           NaN  \n71faa4ab-6734-4fa1-b309-29df1020285c                        NaN           NaN  \n...                                                         ...           ...  \n6653337b-5599-453f-872d-379cfb5823eb                        NaN           NaN  \n7afa362d-de22-4a37-ac93-7d2f7579c593                        NaN           NaN  \n36ec2b3a-e40c-40bb-8c60-fc92bebf3a93                        NaN           NaN  \n8645c39f-b071-4b79-ba36-ab433ef4d79b                        NaN           NaN  \n6ea4aa64-c880-40fb-94d6-970fd1925949                        NaN           NaN  \n\n[11700 rows x 147 columns]",
      "text/html": "<div>\n<style scoped>\n    .dataframe tbody tr th:only-of-type {\n        vertical-align: middle;\n    }\n\n    .dataframe tbody tr th {\n        vertical-align: top;\n    }\n\n    .dataframe thead th {\n        text-align: right;\n    }\n</style>\n<table border=\"1\" class=\"dataframe\">\n  <thead>\n    <tr style=\"text-align: right;\">\n      <th></th>\n      <th>index</th>\n      <th>period</th>\n      <th>timestamp</th>\n      <th>minute</th>\n      <th>second</th>\n      <th>possession</th>\n      <th>duration</th>\n      <th>type_id</th>\n      <th>type_name</th>\n      <th>possession_team_id</th>\n      <th>...</th>\n      <th>goalkeeper_punched_out</th>\n      <th>shot_follows_dribble</th>\n      <th>goalkeeper_success_out</th>\n      <th>shot_redirect</th>\n      <th>half_end_early_video_end</th>\n      <th>goalkeeper_lost_in_play</th>\n      <th>player_off_permanent</th>\n      <th>goalkeeper_saved_to_post</th>\n      <th>goalkeeper_success_in_play</th>\n      <th>pass_backheel</th>\n    </tr>\n    <tr>\n      <th>id</th>\n      <th></th>\n      <th></th>\n      <th></th>\n      <th></th>\n      <th></th>\n      <th></th>\n      <th></th>\n      <th></th>\n      <th></th>\n      <th></th>\n      <th></th>\n      <th></th>\n      <th></th>\n      <th></th>\n      <th></th>\n      <th></th>\n      <th></th>\n      <th></th>\n      <th></th>\n      <th></th>\n      <th></th>\n    </tr>\n  </thead>\n  <tbody>\n    <tr>\n      <th>d0a3a318-9e65-4f79-9a78-1e65d4ea5b82</th>\n      <td>104</td>\n      <td>1</td>\n      <td>00:01:56.139</td>\n      <td>1</td>\n      <td>56</td>\n      <td>7</td>\n      <td>1.483300</td>\n      <td>16</td>\n      <td>Shot</td>\n      <td>217</td>\n      <td>...</td>\n      <td>NaN</td>\n      <td>NaN</td>\n      <td>NaN</td>\n      <td>NaN</td>\n      <td>NaN</td>\n      <td>NaN</td>\n      <td>NaN</td>\n      <td>NaN</td>\n      <td>NaN</td>\n      <td>NaN</td>\n    </tr>\n    <tr>\n      <th>572ebe7b-7efb-4370-98d4-3d178ce0c59d</th>\n      <td>247</td>\n      <td>1</td>\n      <td>00:05:25.322</td>\n      <td>5</td>\n      <td>25</td>\n      <td>15</td>\n      <td>0.446500</td>\n      <td>16</td>\n      <td>Shot</td>\n      <td>217</td>\n      <td>...</td>\n      <td>NaN</td>\n      <td>NaN</td>\n      <td>NaN</td>\n      <td>NaN</td>\n      <td>NaN</td>\n      <td>NaN</td>\n      <td>NaN</td>\n      <td>NaN</td>\n      <td>NaN</td>\n      <td>NaN</td>\n    </tr>\n    <tr>\n      <th>9f17a2a7-976c-4eb7-b4be-7cb6f2b9bdc1</th>\n      <td>311</td>\n      <td>1</td>\n      <td>00:06:29.899</td>\n      <td>6</td>\n      <td>29</td>\n      <td>19</td>\n      <td>1.162000</td>\n      <td>16</td>\n      <td>Shot</td>\n      <td>217</td>\n      <td>...</td>\n      <td>NaN</td>\n      <td>NaN</td>\n      <td>NaN</td>\n      <td>NaN</td>\n      <td>NaN</td>\n      <td>NaN</td>\n      <td>NaN</td>\n      <td>NaN</td>\n      <td>NaN</td>\n      <td>NaN</td>\n    </tr>\n    <tr>\n      <th>bb3d8291-0dba-40a9-9ed0-f395eef891f6</th>\n      <td>662</td>\n      <td>1</td>\n      <td>00:15:56.988</td>\n      <td>15</td>\n      <td>56</td>\n      <td>34</td>\n      <td>0.616861</td>\n      <td>16</td>\n      <td>Shot</td>\n      <td>217</td>\n      <td>...</td>\n      <td>NaN</td>\n      <td>NaN</td>\n      <td>NaN</td>\n      <td>NaN</td>\n      <td>NaN</td>\n      <td>NaN</td>\n      <td>NaN</td>\n      <td>NaN</td>\n      <td>NaN</td>\n      <td>NaN</td>\n    </tr>\n    <tr>\n      <th>71faa4ab-6734-4fa1-b309-29df1020285c</th>\n      <td>684</td>\n      <td>1</td>\n      <td>00:16:30.980</td>\n      <td>16</td>\n      <td>30</td>\n      <td>37</td>\n      <td>0.174000</td>\n      <td>16</td>\n      <td>Shot</td>\n      <td>217</td>\n      <td>...</td>\n      <td>NaN</td>\n      <td>NaN</td>\n      <td>NaN</td>\n      <td>NaN</td>\n      <td>NaN</td>\n      <td>NaN</td>\n      <td>NaN</td>\n      <td>NaN</td>\n      <td>NaN</td>\n      <td>NaN</td>\n    </tr>\n    <tr>\n      <th>...</th>\n      <td>...</td>\n      <td>...</td>\n      <td>...</td>\n      <td>...</td>\n      <td>...</td>\n      <td>...</td>\n      <td>...</td>\n      <td>...</td>\n      <td>...</td>\n      <td>...</td>\n      <td>...</td>\n      <td>...</td>\n      <td>...</td>\n      <td>...</td>\n      <td>...</td>\n      <td>...</td>\n      <td>...</td>\n      <td>...</td>\n      <td>...</td>\n      <td>...</td>\n      <td>...</td>\n    </tr>\n    <tr>\n      <th>6653337b-5599-453f-872d-379cfb5823eb</th>\n      <td>3664</td>\n      <td>2</td>\n      <td>00:34:48.656</td>\n      <td>79</td>\n      <td>48</td>\n      <td>200</td>\n      <td>1.087292</td>\n      <td>16</td>\n      <td>Shot</td>\n      <td>215</td>\n      <td>...</td>\n      <td>NaN</td>\n      <td>NaN</td>\n      <td>NaN</td>\n      <td>NaN</td>\n      <td>NaN</td>\n      <td>NaN</td>\n      <td>NaN</td>\n      <td>NaN</td>\n      <td>NaN</td>\n      <td>NaN</td>\n    </tr>\n    <tr>\n      <th>7afa362d-de22-4a37-ac93-7d2f7579c593</th>\n      <td>3730</td>\n      <td>2</td>\n      <td>00:36:38.351</td>\n      <td>81</td>\n      <td>38</td>\n      <td>204</td>\n      <td>0.293700</td>\n      <td>16</td>\n      <td>Shot</td>\n      <td>215</td>\n      <td>...</td>\n      <td>NaN</td>\n      <td>NaN</td>\n      <td>NaN</td>\n      <td>NaN</td>\n      <td>NaN</td>\n      <td>NaN</td>\n      <td>NaN</td>\n      <td>NaN</td>\n      <td>NaN</td>\n      <td>NaN</td>\n    </tr>\n    <tr>\n      <th>36ec2b3a-e40c-40bb-8c60-fc92bebf3a93</th>\n      <td>3885</td>\n      <td>2</td>\n      <td>00:40:02.956</td>\n      <td>85</td>\n      <td>2</td>\n      <td>210</td>\n      <td>0.549300</td>\n      <td>16</td>\n      <td>Shot</td>\n      <td>215</td>\n      <td>...</td>\n      <td>NaN</td>\n      <td>NaN</td>\n      <td>NaN</td>\n      <td>NaN</td>\n      <td>NaN</td>\n      <td>NaN</td>\n      <td>NaN</td>\n      <td>NaN</td>\n      <td>NaN</td>\n      <td>NaN</td>\n    </tr>\n    <tr>\n      <th>8645c39f-b071-4b79-ba36-ab433ef4d79b</th>\n      <td>4036</td>\n      <td>2</td>\n      <td>00:43:42.852</td>\n      <td>88</td>\n      <td>42</td>\n      <td>218</td>\n      <td>0.845001</td>\n      <td>16</td>\n      <td>Shot</td>\n      <td>217</td>\n      <td>...</td>\n      <td>NaN</td>\n      <td>NaN</td>\n      <td>NaN</td>\n      <td>NaN</td>\n      <td>NaN</td>\n      <td>NaN</td>\n      <td>NaN</td>\n      <td>NaN</td>\n      <td>NaN</td>\n      <td>NaN</td>\n    </tr>\n    <tr>\n      <th>6ea4aa64-c880-40fb-94d6-970fd1925949</th>\n      <td>4088</td>\n      <td>2</td>\n      <td>00:45:21.080</td>\n      <td>90</td>\n      <td>21</td>\n      <td>223</td>\n      <td>0.840600</td>\n      <td>16</td>\n      <td>Shot</td>\n      <td>217</td>\n      <td>...</td>\n      <td>NaN</td>\n      <td>NaN</td>\n      <td>NaN</td>\n      <td>NaN</td>\n      <td>NaN</td>\n      <td>NaN</td>\n      <td>NaN</td>\n      <td>NaN</td>\n      <td>NaN</td>\n      <td>NaN</td>\n    </tr>\n  </tbody>\n</table>\n<p>11700 rows × 147 columns</p>\n</div>"
     },
     "execution_count": 13,
     "metadata": {},
     "output_type": "execute_result"
    }
   ],
   "source": [
    "def load_match_events(match_id: int, data_dir: str = \"../data/statsbomb/data/events\") -> List[dict]:\n",
    "    \"\"\"\n",
    "    Load event data of a match.\n",
    "    :param match_id: ID of the match which matches the name of the JSON file from which\n",
    "    to load events\n",
    "    :param data_dir: Path to the `events` directory of Statsbomb open data.\n",
    "    :return: A list of dictionaries with each dictionary denoting an event i.e. on-ball action.\n",
    "    \"\"\"\n",
    "    with open(os.path.join(data_dir, f\"{match_id}.json\"), \"r\") as jf:\n",
    "        return json.load(jf)\n",
    "\n",
    "def frame_events(e: list, match_id: int) -> pd.DataFrame:\n",
    "    \"\"\"\n",
    "    Convert a list of on-ball match events to a Pandas dataframe.\n",
    "    :param e:        List of dictionaries with each dictionary denoting an event.\n",
    "    :param match_id: ID of the match whose events are transformed.\n",
    "    :return: Pandas dataframe of events.\n",
    "    \"\"\"\n",
    "    return (pd.json_normalize(e, sep=\"_\")\n",
    "            .assign(match_id=match_id))\n",
    "\n",
    "def filter_events(e: pd.DataFrame, event_type: str, event_type_filter: Optional[dict] = None) -> pd.DataFrame:\n",
    "    \"\"\"\n",
    "    Filter events to include the specified actions. Supported event types are\n",
    "    one of `[\"Shot\", \"Pass\"]`. Further filters are supplied as key-value pairs\n",
    "    with the key of the dictionary interpreted as the column name and the\n",
    "    dictionary value as the value in the column that will be searched for.\n",
    "    :param e:                 Dataframe of on-ball match events.\n",
    "    :param event_type:        Type of events to filter out. Supported values are one\n",
    "    of `[\"Shot\", \"Pass\"]`.\n",
    "    :param event_type_filter: A dictionary specifying filters specific to the event\n",
    "    specified.\n",
    "    :return: A Pandas dataframe of events of the specified type.\n",
    "    \"\"\"\n",
    "    if not event_type_filter:\n",
    "        event_type_filter = {}\n",
    "\n",
    "    required_event: pd.DataFrame = e.loc[e[\"type_name\"] == event_type].set_index(\"id\")\n",
    "    col: str\n",
    "    val: str\n",
    "    for col, val in event_type_filter.items():\n",
    "        required_event = required_event.loc[required_event[col] == val]\n",
    "\n",
    "    return required_event\n",
    "\n",
    "m_id: int\n",
    "match_wise_shots: list = []\n",
    "for m_id in required_match_ids:\n",
    "    match_events: list = load_match_events(m_id)\n",
    "    events: pd.DataFrame = frame_events(match_events, m_id)\n",
    "    match_shots: pd.DataFrame = filter_events(events, \"Shot\", {\"shot_type_name\": \"Open Play\"})\n",
    "    match_wise_shots.append(match_shots)\n",
    "\n",
    "la_liga_shots: pd.DataFrame = pd.concat(match_wise_shots)\n",
    "la_liga_shots"
   ],
   "metadata": {
    "collapsed": false
   }
  },
  {
   "cell_type": "markdown",
   "source": [
    "## Baseline model\n",
    "\n",
    "Let us now construct a baseline Logistic Regression model. To do so, we require the following information:\n",
    "- X and Y coordinates from where the shot was taken\n",
    "- Whether the shot resulted in a goal\n",
    "\n",
    "From the X and Y coordinates, we will next create two more columns - one to compute the distance of the shot from goal and the other to compute the angle of the shot to the goal.\n",
    "\n",
    "Looking at the data above, we see a column named `shot_statsbomb_xg`. We can use this column as a reference for our model results, but we won't consider those values to be the ground truth.\n",
    "\n",
    "The X and Y coordinates are available as a list in the `location` column. We will need to extract them and put them in separate columns. The column `shot_outcome_id` tells us the outcome of the shot. Based on page 20 of the document `./data/statsbomb/doc/Open Data Events v4.0.0.pdf`, we can see that shots with `shot_outcome_id = 97` are goals while the others are not. So, we need to construct a boolean column from it accordingly. Let us define a function that will perform these steps.\n",
    "\n",
    "In addition, the [tutorial](https://www.youtube.com/watch?v=wHOgINJ5g54) we follow for building this model uses Wyscout data and the two data providers measure the pitch and thus record shot coordinates in different units. As we will use the logic used for Wyscout data to compute shot distance and angle, we make use of the `Standardizer` class of `mplsoccer` package to transform our coordinates from Statsbomb to Wyscout units."
   ],
   "metadata": {
    "collapsed": false
   }
  },
  {
   "cell_type": "code",
   "execution_count": 14,
   "outputs": [
    {
     "data": {
      "text/plain": "                                          X      Y  is_goal  statsbomb_xg\nid                                                                       \nd0a3a318-9e65-4f79-9a78-1e65d4ea5b82  69.02  35.80        0      0.010060\n572ebe7b-7efb-4370-98d4-3d178ce0c59d  91.60  69.30        0      0.062470\n9f17a2a7-976c-4eb7-b4be-7cb6f2b9bdc1  76.88  28.15        0      0.012832\nbb3d8291-0dba-40a9-9ed0-f395eef891f6  90.07  67.65        0      0.043368\n71faa4ab-6734-4fa1-b309-29df1020285c  82.95  44.90        0      0.144784\n...                                     ...    ...      ...           ...\n6653337b-5599-453f-872d-379cfb5823eb  79.06  57.40        0      0.023162\n7afa362d-de22-4a37-ac93-7d2f7579c593  90.93  33.70        0      0.110399\n36ec2b3a-e40c-40bb-8c60-fc92bebf3a93  83.11  23.05        0      0.012569\n8645c39f-b071-4b79-ba36-ab433ef4d79b  92.33  32.20        0      0.068940\n6ea4aa64-c880-40fb-94d6-970fd1925949  81.73  60.55        0      0.229089\n\n[11700 rows x 4 columns]",
      "text/html": "<div>\n<style scoped>\n    .dataframe tbody tr th:only-of-type {\n        vertical-align: middle;\n    }\n\n    .dataframe tbody tr th {\n        vertical-align: top;\n    }\n\n    .dataframe thead th {\n        text-align: right;\n    }\n</style>\n<table border=\"1\" class=\"dataframe\">\n  <thead>\n    <tr style=\"text-align: right;\">\n      <th></th>\n      <th>X</th>\n      <th>Y</th>\n      <th>is_goal</th>\n      <th>statsbomb_xg</th>\n    </tr>\n    <tr>\n      <th>id</th>\n      <th></th>\n      <th></th>\n      <th></th>\n      <th></th>\n    </tr>\n  </thead>\n  <tbody>\n    <tr>\n      <th>d0a3a318-9e65-4f79-9a78-1e65d4ea5b82</th>\n      <td>69.02</td>\n      <td>35.80</td>\n      <td>0</td>\n      <td>0.010060</td>\n    </tr>\n    <tr>\n      <th>572ebe7b-7efb-4370-98d4-3d178ce0c59d</th>\n      <td>91.60</td>\n      <td>69.30</td>\n      <td>0</td>\n      <td>0.062470</td>\n    </tr>\n    <tr>\n      <th>9f17a2a7-976c-4eb7-b4be-7cb6f2b9bdc1</th>\n      <td>76.88</td>\n      <td>28.15</td>\n      <td>0</td>\n      <td>0.012832</td>\n    </tr>\n    <tr>\n      <th>bb3d8291-0dba-40a9-9ed0-f395eef891f6</th>\n      <td>90.07</td>\n      <td>67.65</td>\n      <td>0</td>\n      <td>0.043368</td>\n    </tr>\n    <tr>\n      <th>71faa4ab-6734-4fa1-b309-29df1020285c</th>\n      <td>82.95</td>\n      <td>44.90</td>\n      <td>0</td>\n      <td>0.144784</td>\n    </tr>\n    <tr>\n      <th>...</th>\n      <td>...</td>\n      <td>...</td>\n      <td>...</td>\n      <td>...</td>\n    </tr>\n    <tr>\n      <th>6653337b-5599-453f-872d-379cfb5823eb</th>\n      <td>79.06</td>\n      <td>57.40</td>\n      <td>0</td>\n      <td>0.023162</td>\n    </tr>\n    <tr>\n      <th>7afa362d-de22-4a37-ac93-7d2f7579c593</th>\n      <td>90.93</td>\n      <td>33.70</td>\n      <td>0</td>\n      <td>0.110399</td>\n    </tr>\n    <tr>\n      <th>36ec2b3a-e40c-40bb-8c60-fc92bebf3a93</th>\n      <td>83.11</td>\n      <td>23.05</td>\n      <td>0</td>\n      <td>0.012569</td>\n    </tr>\n    <tr>\n      <th>8645c39f-b071-4b79-ba36-ab433ef4d79b</th>\n      <td>92.33</td>\n      <td>32.20</td>\n      <td>0</td>\n      <td>0.068940</td>\n    </tr>\n    <tr>\n      <th>6ea4aa64-c880-40fb-94d6-970fd1925949</th>\n      <td>81.73</td>\n      <td>60.55</td>\n      <td>0</td>\n      <td>0.229089</td>\n    </tr>\n  </tbody>\n</table>\n<p>11700 rows × 4 columns</p>\n</div>"
     },
     "execution_count": 14,
     "metadata": {},
     "output_type": "execute_result"
    }
   ],
   "source": [
    "def create_shot_modelling_data(df: pd.DataFrame) -> pd.DataFrame:\n",
    "    \"\"\"\n",
    "    Transform event data of shots for modelling. This includes:\n",
    "    - Splitting the `location` column into two - one for representing X coordinate and the other Y.\n",
    "    - Converting the coordinate values to Wyscout units as further computations assume\n",
    "    the coordinates to be in Wyscout units.\n",
    "    - Creating a boolean column representing if the shot resulted in a goal (1) or not (0).\n",
    "    - Dropping all column except the coordinates, boolean indicator of goal, and Statsbomb's xG value.\n",
    "    - Renaming Statsbomb's xG value column.\n",
    "    :param df: Pandas dataframe of event data for shots.\n",
    "    :return: A Pandas dataframe with columns - X and Y coordinate of the shot, boolean indicator of goal,\n",
    "    and Statsbomb's xG.\n",
    "    \"\"\"\n",
    "    statsbomb_to_wyscout = Standardizer(pitch_from=\"statsbomb\", pitch_to=\"wyscout\")\n",
    "    return (df.assign(X=lambda x: [l[0] for l in x[\"location\"]])\n",
    "            .assign(Y=lambda x: [l[1] for l in x[\"location\"]])\n",
    "            .assign(X=lambda x: [round(statsbomb_to_wyscout.transform([xi], [yi])[0][0], 2)\n",
    "                                 for xi, yi in zip(x[\"X\"], x[\"Y\"])])\n",
    "            .assign(Y=lambda x: [round(statsbomb_to_wyscout.transform([xi], [yi])[1][0], 2)\n",
    "                                 for xi, yi in zip(x[\"X\"], x[\"Y\"])])\n",
    "            .assign(is_goal=lambda x: (x[\"shot_outcome_id\"] == 97).astype(int))\n",
    "            .filter([\"X\", \"Y\", \"is_goal\", \"shot_statsbomb_xg\"], axis=1)\n",
    "            .rename(columns={\"shot_statsbomb_xg\": \"statsbomb_xg\"}))\n",
    "\n",
    "la_liga_shots_model_data: pd.DataFrame = create_shot_modelling_data(la_liga_shots)\n",
    "la_liga_shots_model_data"
   ],
   "metadata": {
    "collapsed": false
   }
  },
  {
   "cell_type": "markdown",
   "source": [
    "Let us now compute shot distance and angle."
   ],
   "metadata": {
    "collapsed": false
   }
  },
  {
   "cell_type": "code",
   "execution_count": 15,
   "outputs": [
    {
     "data": {
      "text/plain": "                                          X      Y  is_goal  statsbomb_xg  \\\nid                                                                          \nd0a3a318-9e65-4f79-9a78-1e65d4ea5b82  69.02  35.80        0      0.010060   \n572ebe7b-7efb-4370-98d4-3d178ce0c59d  91.60  69.30        0      0.062470   \n9f17a2a7-976c-4eb7-b4be-7cb6f2b9bdc1  76.88  28.15        0      0.012832   \nbb3d8291-0dba-40a9-9ed0-f395eef891f6  90.07  67.65        0      0.043368   \n71faa4ab-6734-4fa1-b309-29df1020285c  82.95  44.90        0      0.144784   \n...                                     ...    ...      ...           ...   \n6653337b-5599-453f-872d-379cfb5823eb  79.06  57.40        0      0.023162   \n7afa362d-de22-4a37-ac93-7d2f7579c593  90.93  33.70        0      0.110399   \n36ec2b3a-e40c-40bb-8c60-fc92bebf3a93  83.11  23.05        0      0.012569   \n8645c39f-b071-4b79-ba36-ab433ef4d79b  92.33  32.20        0      0.068940   \n6ea4aa64-c880-40fb-94d6-970fd1925949  81.73  60.55        0      0.229089   \n\n                                           dist     angle  \nid                                                         \nd0a3a318-9e65-4f79-9a78-1e65d4ea5b82  33.813145  0.207693  \n572ebe7b-7efb-4370-98d4-3d178ce0c59d  15.335235  0.283289  \n9f17a2a7-976c-4eb7-b4be-7cb6f2b9bdc1  28.125348  0.224655  \nbb3d8291-0dba-40a9-9ed0-f395eef891f6  15.502586  0.324434  \n71faa4ab-6734-4fa1-b309-29df1020285c  18.206832  0.390787  \n...                                         ...       ...  \n6653337b-5599-453f-872d-379cfb5823eb  22.506983  0.315451  \n7afa362d-de22-4a37-ac93-7d2f7579c593  14.246090  0.352413  \n36ec2b3a-e40c-40bb-8c60-fc92bebf3a93  24.927401  0.210362  \n8645c39f-b071-4b79-ba36-ab433ef4d79b  14.096942  0.307972  \n6ea4aa64-c880-40fb-94d6-970fd1925949  20.372334  0.336343  \n\n[11700 rows x 6 columns]",
      "text/html": "<div>\n<style scoped>\n    .dataframe tbody tr th:only-of-type {\n        vertical-align: middle;\n    }\n\n    .dataframe tbody tr th {\n        vertical-align: top;\n    }\n\n    .dataframe thead th {\n        text-align: right;\n    }\n</style>\n<table border=\"1\" class=\"dataframe\">\n  <thead>\n    <tr style=\"text-align: right;\">\n      <th></th>\n      <th>X</th>\n      <th>Y</th>\n      <th>is_goal</th>\n      <th>statsbomb_xg</th>\n      <th>dist</th>\n      <th>angle</th>\n    </tr>\n    <tr>\n      <th>id</th>\n      <th></th>\n      <th></th>\n      <th></th>\n      <th></th>\n      <th></th>\n      <th></th>\n    </tr>\n  </thead>\n  <tbody>\n    <tr>\n      <th>d0a3a318-9e65-4f79-9a78-1e65d4ea5b82</th>\n      <td>69.02</td>\n      <td>35.80</td>\n      <td>0</td>\n      <td>0.010060</td>\n      <td>33.813145</td>\n      <td>0.207693</td>\n    </tr>\n    <tr>\n      <th>572ebe7b-7efb-4370-98d4-3d178ce0c59d</th>\n      <td>91.60</td>\n      <td>69.30</td>\n      <td>0</td>\n      <td>0.062470</td>\n      <td>15.335235</td>\n      <td>0.283289</td>\n    </tr>\n    <tr>\n      <th>9f17a2a7-976c-4eb7-b4be-7cb6f2b9bdc1</th>\n      <td>76.88</td>\n      <td>28.15</td>\n      <td>0</td>\n      <td>0.012832</td>\n      <td>28.125348</td>\n      <td>0.224655</td>\n    </tr>\n    <tr>\n      <th>bb3d8291-0dba-40a9-9ed0-f395eef891f6</th>\n      <td>90.07</td>\n      <td>67.65</td>\n      <td>0</td>\n      <td>0.043368</td>\n      <td>15.502586</td>\n      <td>0.324434</td>\n    </tr>\n    <tr>\n      <th>71faa4ab-6734-4fa1-b309-29df1020285c</th>\n      <td>82.95</td>\n      <td>44.90</td>\n      <td>0</td>\n      <td>0.144784</td>\n      <td>18.206832</td>\n      <td>0.390787</td>\n    </tr>\n    <tr>\n      <th>...</th>\n      <td>...</td>\n      <td>...</td>\n      <td>...</td>\n      <td>...</td>\n      <td>...</td>\n      <td>...</td>\n    </tr>\n    <tr>\n      <th>6653337b-5599-453f-872d-379cfb5823eb</th>\n      <td>79.06</td>\n      <td>57.40</td>\n      <td>0</td>\n      <td>0.023162</td>\n      <td>22.506983</td>\n      <td>0.315451</td>\n    </tr>\n    <tr>\n      <th>7afa362d-de22-4a37-ac93-7d2f7579c593</th>\n      <td>90.93</td>\n      <td>33.70</td>\n      <td>0</td>\n      <td>0.110399</td>\n      <td>14.246090</td>\n      <td>0.352413</td>\n    </tr>\n    <tr>\n      <th>36ec2b3a-e40c-40bb-8c60-fc92bebf3a93</th>\n      <td>83.11</td>\n      <td>23.05</td>\n      <td>0</td>\n      <td>0.012569</td>\n      <td>24.927401</td>\n      <td>0.210362</td>\n    </tr>\n    <tr>\n      <th>8645c39f-b071-4b79-ba36-ab433ef4d79b</th>\n      <td>92.33</td>\n      <td>32.20</td>\n      <td>0</td>\n      <td>0.068940</td>\n      <td>14.096942</td>\n      <td>0.307972</td>\n    </tr>\n    <tr>\n      <th>6ea4aa64-c880-40fb-94d6-970fd1925949</th>\n      <td>81.73</td>\n      <td>60.55</td>\n      <td>0</td>\n      <td>0.229089</td>\n      <td>20.372334</td>\n      <td>0.336343</td>\n    </tr>\n  </tbody>\n</table>\n<p>11700 rows × 6 columns</p>\n</div>"
     },
     "execution_count": 15,
     "metadata": {},
     "output_type": "execute_result"
    }
   ],
   "source": [
    "def transform_coordinates_for_computation(x: float, y: float) -> (float, float):\n",
    "    \"\"\"\n",
    "    Question: What does this transformation do?\n",
    "    :param x: X coordinate of the shot taken.\n",
    "    :param y: Y coordinate of the shot taken\n",
    "    :return: Tuple of transformed X, Y coordinates.\n",
    "    \"\"\"\n",
    "    m_x: float = 100 - x\n",
    "    c: float = abs(y - 50)\n",
    "\n",
    "    return (m_x * 105) / 100, (c * 65) / 100\n",
    "\n",
    "def compute_shot_distance(x: float, y: float) -> float:\n",
    "    \"\"\"\n",
    "    Computes distance of a shot from goal.\n",
    "    :param x: X coordinate of the shot taken.\n",
    "    :param y: Y coordinate of the shot taken.\n",
    "    :return: Float denoting distance (in meters) of the shot from goal.\n",
    "    \"\"\"\n",
    "    t_x: float\n",
    "    t_y: float\n",
    "    t_x, t_y = transform_coordinates_for_computation(x, y)\n",
    "\n",
    "    return np.sqrt(t_x ** 2 + t_y ** 2)\n",
    "\n",
    "def compute_shot_angle(x: float, y: float) -> float:\n",
    "    \"\"\"\n",
    "    Computes the angle of the shot to the width of the goal post.\n",
    "    :param x: X coordinate of the shot taken.\n",
    "    :param y: Y coordinate of the shot taken\n",
    "    :return: Float denoting the angle (in radians) of the shot.\n",
    "    \"\"\"\n",
    "    t_x: float\n",
    "    t_y: float\n",
    "    t_x, t_y = transform_coordinates_for_computation(x, y)\n",
    "\n",
    "    angle: float = np.arctan((7.32 * t_x) / (t_x ** 2 + t_y ** 2 - (7.32 / 2) ** 2))\n",
    "    if angle < 0:\n",
    "        angle = np.pi + angle\n",
    "\n",
    "    return angle\n",
    "\n",
    "la_liga_xg_model_data: pd.DataFrame = (la_liga_shots_model_data\n",
    "                                       .assign(dist=lambda x: [compute_shot_distance(xc, yc)\n",
    "                                                               for xc, yc in zip(x[\"X\"], x[\"Y\"])])\n",
    "                                       .assign(angle=lambda x: [compute_shot_angle(xc, yc)\n",
    "                                                                for xc, yc in zip(x[\"X\"], x[\"Y\"])]))\n",
    "la_liga_xg_model_data"
   ],
   "metadata": {
    "collapsed": false
   }
  },
  {
   "cell_type": "markdown",
   "source": [
    "Let us now fit a Logistic Regression model using statsmodel's `glm()` method. As our output is binary, we specify the `family` argument to be `sm.families.Binomial()`. After fitting the model, let us print a summary of the model."
   ],
   "metadata": {
    "collapsed": false
   }
  },
  {
   "cell_type": "code",
   "execution_count": 16,
   "outputs": [
    {
     "data": {
      "text/plain": "<class 'statsmodels.iolib.summary.Summary'>\n\"\"\"\n                 Generalized Linear Model Regression Results                  \n==============================================================================\nDep. Variable:                is_goal   No. Observations:                11700\nModel:                            GLM   Df Residuals:                    11697\nModel Family:                Binomial   Df Model:                            2\nLink Function:                  Logit   Scale:                          1.0000\nMethod:                          IRLS   Log-Likelihood:                -4024.5\nDate:                Sat, 10 Dec 2022   Deviance:                       8049.0\nTime:                        22:33:31   Pearson chi2:                 1.15e+04\nNo. Iterations:                     6   Pseudo R-squ. (CS):            0.08902\nCovariance Type:            nonrobust                                         \n==============================================================================\n                 coef    std err          z      P>|z|      [0.025      0.975]\n------------------------------------------------------------------------------\nIntercept     -1.2611      0.187     -6.739      0.000      -1.628      -0.894\ndist          -0.0936      0.008    -11.455      0.000      -0.110      -0.078\nangle          1.4011      0.162      8.636      0.000       1.083       1.719\n==============================================================================\n\"\"\"",
      "text/html": "<table class=\"simpletable\">\n<caption>Generalized Linear Model Regression Results</caption>\n<tr>\n  <th>Dep. Variable:</th>        <td>is_goal</td>     <th>  No. Observations:  </th>  <td> 11700</td> \n</tr>\n<tr>\n  <th>Model:</th>                  <td>GLM</td>       <th>  Df Residuals:      </th>  <td> 11697</td> \n</tr>\n<tr>\n  <th>Model Family:</th>        <td>Binomial</td>     <th>  Df Model:          </th>  <td>     2</td> \n</tr>\n<tr>\n  <th>Link Function:</th>         <td>Logit</td>      <th>  Scale:             </th> <td>  1.0000</td>\n</tr>\n<tr>\n  <th>Method:</th>                <td>IRLS</td>       <th>  Log-Likelihood:    </th> <td> -4024.5</td>\n</tr>\n<tr>\n  <th>Date:</th>            <td>Sat, 10 Dec 2022</td> <th>  Deviance:          </th> <td>  8049.0</td>\n</tr>\n<tr>\n  <th>Time:</th>                <td>22:33:31</td>     <th>  Pearson chi2:      </th> <td>1.15e+04</td>\n</tr>\n<tr>\n  <th>No. Iterations:</th>          <td>6</td>        <th>  Pseudo R-squ. (CS):</th>  <td>0.08902</td>\n</tr>\n<tr>\n  <th>Covariance Type:</th>     <td>nonrobust</td>    <th>                     </th>     <td> </td>   \n</tr>\n</table>\n<table class=\"simpletable\">\n<tr>\n      <td></td>         <th>coef</th>     <th>std err</th>      <th>z</th>      <th>P>|z|</th>  <th>[0.025</th>    <th>0.975]</th>  \n</tr>\n<tr>\n  <th>Intercept</th> <td>   -1.2611</td> <td>    0.187</td> <td>   -6.739</td> <td> 0.000</td> <td>   -1.628</td> <td>   -0.894</td>\n</tr>\n<tr>\n  <th>dist</th>      <td>   -0.0936</td> <td>    0.008</td> <td>  -11.455</td> <td> 0.000</td> <td>   -0.110</td> <td>   -0.078</td>\n</tr>\n<tr>\n  <th>angle</th>     <td>    1.4011</td> <td>    0.162</td> <td>    8.636</td> <td> 0.000</td> <td>    1.083</td> <td>    1.719</td>\n</tr>\n</table>"
     },
     "execution_count": 16,
     "metadata": {},
     "output_type": "execute_result"
    }
   ],
   "source": [
    "baseline_model = smf.glm(formula=\"is_goal ~ dist + angle\", data=la_liga_xg_model_data,\n",
    "                         family=sm.families.Binomial()).fit()\n",
    "baseline_model.summary()"
   ],
   "metadata": {
    "collapsed": false
   }
  },
  {
   "cell_type": "markdown",
   "source": [
    "Looking at the model summary above, in particular the last table, we see that the probability of a shot becoming a goal decreases with increasing distance. We say this based on the negative value of the coefficient. Similarly, as the shot angle increases, i.e. as the shot is taken from between the goal posts, the probability of hitting the back of the net also increases. The near-zero P-values of both the coefficients suggest that we have sufficient evidence to reject the null hypothesis that the true coefficient value is zero.\n",
    "\n",
    "Let us now save the model parameters in a `.pkl` file."
   ],
   "metadata": {
    "collapsed": false
   }
  },
  {
   "cell_type": "code",
   "execution_count": 17,
   "outputs": [],
   "source": [
    "def save_model(params: pd.Series, model_fn: str, model_dir: str = \"../models\"):\n",
    "    \"\"\"\n",
    "    Save parameters of Logistic Regression to a pickle file.\n",
    "    :param params:    A Pandas Series of Logistic Regression parameters.\n",
    "    :param model_fn:  Name of pickle file (with extension) to save the parameters to.\n",
    "    :param model_dir: Directory to save the model to.\n",
    "    \"\"\"\n",
    "    with open(os.path.join(model_dir, model_fn), \"wb\") as pf:\n",
    "        pickle.dump(params, pf)\n",
    "\n",
    "baseline_model_params: pd.Series = baseline_model.params\n",
    "baseline_model_fn: str = \"baseline_logistic_model.pkl\"\n",
    "save_model(baseline_model_params, baseline_model_fn)"
   ],
   "metadata": {
    "collapsed": false
   }
  },
  {
   "cell_type": "markdown",
   "source": [
    "## Serving the model\n",
    "\n",
    "Let us now define a function that loads the parameters from a pickle file and computes the xG value."
   ],
   "metadata": {
    "collapsed": false
   }
  },
  {
   "cell_type": "code",
   "execution_count": 18,
   "outputs": [
    {
     "data": {
      "text/plain": "                                          X      Y  is_goal  statsbomb_xg  \\\nid                                                                          \nd0a3a318-9e65-4f79-9a78-1e65d4ea5b82  69.02  35.80        0      0.010060   \n572ebe7b-7efb-4370-98d4-3d178ce0c59d  91.60  69.30        0      0.062470   \n9f17a2a7-976c-4eb7-b4be-7cb6f2b9bdc1  76.88  28.15        0      0.012832   \nbb3d8291-0dba-40a9-9ed0-f395eef891f6  90.07  67.65        0      0.043368   \n71faa4ab-6734-4fa1-b309-29df1020285c  82.95  44.90        0      0.144784   \n...                                     ...    ...      ...           ...   \n6653337b-5599-453f-872d-379cfb5823eb  79.06  57.40        0      0.023162   \n7afa362d-de22-4a37-ac93-7d2f7579c593  90.93  33.70        0      0.110399   \n36ec2b3a-e40c-40bb-8c60-fc92bebf3a93  83.11  23.05        0      0.012569   \n8645c39f-b071-4b79-ba36-ab433ef4d79b  92.33  32.20        0      0.068940   \n6ea4aa64-c880-40fb-94d6-970fd1925949  81.73  60.55        0      0.229089   \n\n                                           dist     angle        xg  \nid                                                                   \nd0a3a318-9e65-4f79-9a78-1e65d4ea5b82  33.813145  0.207693  0.015755  \n572ebe7b-7efb-4370-98d4-3d178ce0c59d  15.335235  0.283289  0.091168  \n9f17a2a7-976c-4eb7-b4be-7cb6f2b9bdc1  28.125348  0.224655  0.027156  \nbb3d8291-0dba-40a9-9ed0-f395eef891f6  15.502586  0.324434  0.094707  \n71faa4ab-6734-4fa1-b309-29df1020285c  18.206832  0.390787  0.081841  \n...                                         ...       ...       ...  \n6653337b-5599-453f-872d-379cfb5823eb  22.506983  0.315451  0.050903  \n7afa362d-de22-4a37-ac93-7d2f7579c593  14.246090  0.352413  0.109032  \n36ec2b3a-e40c-40bb-8c60-fc92bebf3a93  24.927401  0.210362  0.035593  \n8645c39f-b071-4b79-ba36-ab433ef4d79b  14.096942  0.307972  0.104427  \n6ea4aa64-c880-40fb-94d6-970fd1925949  20.372334  0.336343  0.063178  \n\n[11700 rows x 7 columns]",
      "text/html": "<div>\n<style scoped>\n    .dataframe tbody tr th:only-of-type {\n        vertical-align: middle;\n    }\n\n    .dataframe tbody tr th {\n        vertical-align: top;\n    }\n\n    .dataframe thead th {\n        text-align: right;\n    }\n</style>\n<table border=\"1\" class=\"dataframe\">\n  <thead>\n    <tr style=\"text-align: right;\">\n      <th></th>\n      <th>X</th>\n      <th>Y</th>\n      <th>is_goal</th>\n      <th>statsbomb_xg</th>\n      <th>dist</th>\n      <th>angle</th>\n      <th>xg</th>\n    </tr>\n    <tr>\n      <th>id</th>\n      <th></th>\n      <th></th>\n      <th></th>\n      <th></th>\n      <th></th>\n      <th></th>\n      <th></th>\n    </tr>\n  </thead>\n  <tbody>\n    <tr>\n      <th>d0a3a318-9e65-4f79-9a78-1e65d4ea5b82</th>\n      <td>69.02</td>\n      <td>35.80</td>\n      <td>0</td>\n      <td>0.010060</td>\n      <td>33.813145</td>\n      <td>0.207693</td>\n      <td>0.015755</td>\n    </tr>\n    <tr>\n      <th>572ebe7b-7efb-4370-98d4-3d178ce0c59d</th>\n      <td>91.60</td>\n      <td>69.30</td>\n      <td>0</td>\n      <td>0.062470</td>\n      <td>15.335235</td>\n      <td>0.283289</td>\n      <td>0.091168</td>\n    </tr>\n    <tr>\n      <th>9f17a2a7-976c-4eb7-b4be-7cb6f2b9bdc1</th>\n      <td>76.88</td>\n      <td>28.15</td>\n      <td>0</td>\n      <td>0.012832</td>\n      <td>28.125348</td>\n      <td>0.224655</td>\n      <td>0.027156</td>\n    </tr>\n    <tr>\n      <th>bb3d8291-0dba-40a9-9ed0-f395eef891f6</th>\n      <td>90.07</td>\n      <td>67.65</td>\n      <td>0</td>\n      <td>0.043368</td>\n      <td>15.502586</td>\n      <td>0.324434</td>\n      <td>0.094707</td>\n    </tr>\n    <tr>\n      <th>71faa4ab-6734-4fa1-b309-29df1020285c</th>\n      <td>82.95</td>\n      <td>44.90</td>\n      <td>0</td>\n      <td>0.144784</td>\n      <td>18.206832</td>\n      <td>0.390787</td>\n      <td>0.081841</td>\n    </tr>\n    <tr>\n      <th>...</th>\n      <td>...</td>\n      <td>...</td>\n      <td>...</td>\n      <td>...</td>\n      <td>...</td>\n      <td>...</td>\n      <td>...</td>\n    </tr>\n    <tr>\n      <th>6653337b-5599-453f-872d-379cfb5823eb</th>\n      <td>79.06</td>\n      <td>57.40</td>\n      <td>0</td>\n      <td>0.023162</td>\n      <td>22.506983</td>\n      <td>0.315451</td>\n      <td>0.050903</td>\n    </tr>\n    <tr>\n      <th>7afa362d-de22-4a37-ac93-7d2f7579c593</th>\n      <td>90.93</td>\n      <td>33.70</td>\n      <td>0</td>\n      <td>0.110399</td>\n      <td>14.246090</td>\n      <td>0.352413</td>\n      <td>0.109032</td>\n    </tr>\n    <tr>\n      <th>36ec2b3a-e40c-40bb-8c60-fc92bebf3a93</th>\n      <td>83.11</td>\n      <td>23.05</td>\n      <td>0</td>\n      <td>0.012569</td>\n      <td>24.927401</td>\n      <td>0.210362</td>\n      <td>0.035593</td>\n    </tr>\n    <tr>\n      <th>8645c39f-b071-4b79-ba36-ab433ef4d79b</th>\n      <td>92.33</td>\n      <td>32.20</td>\n      <td>0</td>\n      <td>0.068940</td>\n      <td>14.096942</td>\n      <td>0.307972</td>\n      <td>0.104427</td>\n    </tr>\n    <tr>\n      <th>6ea4aa64-c880-40fb-94d6-970fd1925949</th>\n      <td>81.73</td>\n      <td>60.55</td>\n      <td>0</td>\n      <td>0.229089</td>\n      <td>20.372334</td>\n      <td>0.336343</td>\n      <td>0.063178</td>\n    </tr>\n  </tbody>\n</table>\n<p>11700 rows × 7 columns</p>\n</div>"
     },
     "execution_count": 18,
     "metadata": {},
     "output_type": "execute_result"
    }
   ],
   "source": [
    "def compute_xg(xc: float, yc: float, model_fn: str, model_dir: str = \"../models\") -> float:\n",
    "    \"\"\"\n",
    "    Compute the xG of a shot given the (X, Y) coordinates of where it was taken from.\n",
    "    :param xc:        X-coordinate of where the shot was taken from.\n",
    "    :param yc:        Y-coordinate of where the shot was taken from.\n",
    "    :param model_fn:  Name of the file containing Logistic Regression parameters.\n",
    "    :param model_dir: Directory containing the model file.\n",
    "    :return: A float representing xG value.\n",
    "    \"\"\"\n",
    "    shot_dist: float = compute_shot_distance(xc, yc)\n",
    "    shot_ang: float = compute_shot_angle(xc, yc)\n",
    "\n",
    "    with open(os.path.join(model_dir, model_fn), \"rb\") as pf:\n",
    "        model_params: pd.Series = pickle.load(pf)\n",
    "\n",
    "    linear_sum: float = (model_params[\"Intercept\"]\n",
    "                         + (shot_dist * model_params[\"dist\"])\n",
    "                         + (shot_ang * model_params[\"angle\"]))\n",
    "\n",
    "    return 1 / (1 + np.exp(-1 * linear_sum))\n",
    "\n",
    "la_liga_xg_model_data = (la_liga_xg_model_data\n",
    "                         .assign(xg=lambda x: [compute_xg(xi, yi, baseline_model_fn) for xi, yi in zip(x[\"X\"], x[\"Y\"])]))\n",
    "la_liga_xg_model_data"
   ],
   "metadata": {
    "collapsed": false
   }
  },
  {
   "cell_type": "markdown",
   "source": [
    "From the dataframe above, we see that our computed xG differs from the Statsbomb one. If we were to measure the difference in absolute terms, we see that the two xG values differ by about 7%."
   ],
   "metadata": {
    "collapsed": false
   }
  },
  {
   "cell_type": "code",
   "execution_count": 19,
   "outputs": [
    {
     "data": {
      "text/plain": "0.071261113252593"
     },
     "execution_count": 19,
     "metadata": {},
     "output_type": "execute_result"
    }
   ],
   "source": [
    "mean_absolute_error(la_liga_xg_model_data[\"statsbomb_xg\"], la_liga_xg_model_data[\"xg\"])"
   ],
   "metadata": {
    "collapsed": false
   }
  },
  {
   "cell_type": "markdown",
   "source": [
    "## Improvements\n",
    "\n",
    "If we look at the documentation of event information in `./data/statsbomb/doc/Open Data Events v4.0.0.pdf`, we can spot additional parameters that might improve the model. These include:\n",
    "- Freeze-frame which tells us about the opposition players in the vicinity when a shot was taken. This can be an important variable as more players around means more pressure on the player which in turn can lead to a false shot.\n",
    "- Open goal which tells us if the shot was taken in front of an open goal.\n",
    "- Deflected which tells us if the shot was deflected.\n",
    "- Technique whose values can be one of Backheel, Diving header, Half volley, Lob, Normal, Overhead kick, or volley.\n",
    "- Body part which indicates if the shot was taken with the head, left foot, right foot, or other body part. This variable combined with information about which foot a player prefers can be useful in predicting if a shot will turn into a goal.\n",
    "\n",
    "In his video [The Ultimate Guide to Expected Goals](https://www.youtube.com/watch?v=310_eW0hUqQ), Prof. Sumpter asserts that given the right variables, models more complex than Logistic Regression might not provide much better performance. Thus, improvements to the model can focus on adding more variables first and evaluating if they contribute to the model fit before experimenting with other models."
   ],
   "metadata": {
    "collapsed": false
   }
  },
  {
   "cell_type": "code",
   "execution_count": 19,
   "outputs": [],
   "source": [],
   "metadata": {
    "collapsed": false
   }
  }
 ],
 "metadata": {
  "kernelspec": {
   "display_name": "Python 3",
   "language": "python",
   "name": "python3"
  },
  "language_info": {
   "codemirror_mode": {
    "name": "ipython",
    "version": 2
   },
   "file_extension": ".py",
   "mimetype": "text/x-python",
   "name": "python",
   "nbconvert_exporter": "python",
   "pygments_lexer": "ipython2",
   "version": "2.7.6"
  }
 },
 "nbformat": 4,
 "nbformat_minor": 0
}
