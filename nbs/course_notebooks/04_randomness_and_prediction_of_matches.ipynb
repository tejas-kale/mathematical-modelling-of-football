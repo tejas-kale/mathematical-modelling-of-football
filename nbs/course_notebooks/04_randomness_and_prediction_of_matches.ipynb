{
 "cells": [
  {
   "cell_type": "code",
   "execution_count": null,
   "metadata": {},
   "outputs": [],
   "source": [
    "import os\n",
    "\n",
    "from scipy.stats import poisson\n",
    "from statsmodels.genmod.generalized_linear_model import GLMResultsWrapper\n",
    "import matplotlib.pyplot as plt\n",
    "import numpy as np\n",
    "import pandas as pd\n",
    "import scipy.stats\n",
    "import statsmodels.api as sm\n",
    "import statsmodels.formula.api as smf"
   ]
  },
  {
   "cell_type": "code",
   "execution_count": null,
   "metadata": {},
   "outputs": [],
   "source": [
    "plt.rcParams[\"figure.figsize\"] = 12/2.54, 8/2.54"
   ]
  },
  {
   "cell_type": "markdown",
   "metadata": {},
   "source": [
    "## Distribution of shots and goals\n",
    "\n",
    "First, let us use WyScout data to plot the distribution of shots and goals in a Bundesliga season. Let us first load the data."
   ]
  },
  {
   "cell_type": "code",
   "execution_count": null,
   "metadata": {},
   "outputs": [],
   "source": [
    "data_dir: str = \"../../data/wyscout/events\""
   ]
  },
  {
   "cell_type": "code",
   "execution_count": null,
   "metadata": {},
   "outputs": [],
   "source": [
    "data: pd.DataFrame = pd.read_json(os.path.join(data_dir, \"events_Germany.json\"))\n",
    "data.head()"
   ]
  },
  {
   "cell_type": "code",
   "execution_count": null,
   "metadata": {},
   "outputs": [],
   "source": [
    "data.shape"
   ]
  },
  {
   "cell_type": "markdown",
   "metadata": {},
   "source": [
    "Next, let us add an indicator column that specifies if the event (i.e. row) refers to a shot on goal."
   ]
  },
  {
   "cell_type": "code",
   "execution_count": null,
   "metadata": {},
   "outputs": [],
   "source": [
    "shot_event_names: list = [\"Shot\", \"Free kick shot\", \"Penalty\"]"
   ]
  },
  {
   "cell_type": "code",
   "execution_count": null,
   "metadata": {},
   "outputs": [],
   "source": [
    "shots = data[data[\"subEventName\"].isin(shot_event_names)]\n",
    "shots.head()"
   ]
  },
  {
   "cell_type": "markdown",
   "metadata": {},
   "source": [
    "We need another column that specifies if a shot resulted in a goal. This information is present in the `tags` column. If there was a goal scored from a shot, it contains a dictionary with a value `101` for the `id` key. Let us create this column."
   ]
  },
  {
   "cell_type": "code",
   "execution_count": null,
   "metadata": {},
   "outputs": [],
   "source": [
    "def is_shot_id_present(tags: list) -> int:\n",
    "    tag: dict\n",
    "    for tag in tags:\n",
    "        if tag[\"id\"] == 101:\n",
    "            return 1\n",
    "    return 0"
   ]
  },
  {
   "cell_type": "code",
   "execution_count": null,
   "metadata": {},
   "outputs": [],
   "source": [
    "shots.loc[:, \"goal\"] = shots.apply(lambda x: is_shot_id_present(x[\"tags\"]), axis=1)\n",
    "shots.head()"
   ]
  },
  {
   "cell_type": "markdown",
   "metadata": {},
   "source": [
    "As we want to visualise the distribution of shots and goals over an entire season, let us aggregate them by match."
   ]
  },
  {
   "cell_type": "code",
   "execution_count": null,
   "metadata": {},
   "outputs": [],
   "source": [
    "shots_per_match: list = []\n",
    "goals_per_match: list = []\n",
    "match_id: str\n",
    "match_data: pd.DataFrame\n",
    "for match_id, match_data in shots.groupby(\"matchId\"):\n",
    "    shots_per_match.append(len(match_data))\n",
    "    goals_per_match.append(sum(match_data[\"goal\"]))"
   ]
  },
  {
   "cell_type": "markdown",
   "metadata": {},
   "source": [
    "First, let us create a histogram of the goals."
   ]
  },
  {
   "cell_type": "code",
   "execution_count": null,
   "metadata": {},
   "outputs": [],
   "source": [
    "mean_goals: float = np.mean(goals_per_match)\n",
    "goals_dist: np.ndarray\n",
    "goals_bins: np.ndarray\n",
    "goals_dist, goals_bins = np.histogram(goals_per_match, bins=np.arange(-0.5, 10.5))\n",
    "goals_dist = goals_dist / shots[\"matchId\"].nunique()"
   ]
  },
  {
   "cell_type": "markdown",
   "metadata": {},
   "source": [
    "Based on the mean goals, let us create a Poisson distribution."
   ]
  },
  {
   "cell_type": "code",
   "execution_count": null,
   "metadata": {},
   "outputs": [],
   "source": [
    "possible_goals: np.ndarray = np.arange(0, 10).astype(int)\n",
    "x: int\n",
    "possible_goals_factorial: np.ndarray = np.array([np.math.factorial(x) for x in possible_goals])\n",
    "poisson_possible_goals: np.ndarray = np.power(mean_goals, possible_goals) * np.exp(-mean_goals) / possible_goals_factorial"
   ]
  },
  {
   "cell_type": "markdown",
   "metadata": {},
   "source": [
    "Finally, let us plot the distribution of goals in the Bundesliga season."
   ]
  },
  {
   "cell_type": "code",
   "execution_count": null,
   "metadata": {},
   "outputs": [],
   "source": [
    "fig = plt.figure()\n",
    "ax = fig.add_subplot(1,1,1)\n",
    "\n",
    "plt.hist(possible_goals - 0.5, 9, weights=goals_dist)\n",
    "plt.plot(possible_goals, poisson_possible_goals, color=\"black\")\n",
    "ax.set_yticks(np.arange(0, 0.3, 0.1))\n",
    "ax.spines[\"left\"].set_visible(True)\n",
    "ax.spines[\"bottom\"].set_position(\"zero\")\n",
    "ax.spines[\"top\"].set_visible(False)\n",
    "ax.spines[\"right\"].set_visible(False)\n",
    "ax.set_xticks(np.arange(0, 10, 1))\n",
    "ax.set_ylabel(\"Proportion of matches\")\n",
    "ax.set_xlabel(\"Number of goals scored\")\n",
    "plt.show()\n",
    "\n",
    "\n",
    "#Exercise:\n",
    "#1, Make a histogram of shots per game\n",
    "#2, Find the mean and standard deviation for shots per game\n",
    "#3, Show that shots per game is roughly normally distributed."
   ]
  },
  {
   "cell_type": "markdown",
   "metadata": {},
   "source": [
    "Some observations from the plot above are:\n",
    "- The Poisson distribution under-represents games with 2 goals (2-0, 0-2, or 1-1) while it over-represents single goal games.\n",
    "\n",
    "Let us now recreate the charts for shots per game. As there are way more shots per game than the number of goals, the Binomial distribution, which is the basis, converges to Normal distribution under the Law of Large Numbers. So, just like we plotted the Poisson distribution (as a Black line) with the mean number of goals per game as the parameters, we will need the mean number of shots per game and the standard deviation as parameters to plot the Normal distribution."
   ]
  },
  {
   "cell_type": "code",
   "execution_count": null,
   "metadata": {},
   "outputs": [],
   "source": [
    "mean_shots: float = np.mean(shots_per_match)\n",
    "std_shots: float = np.std(shots_per_match)\n",
    "shots_dist: np.ndarray\n",
    "shots_bins: np.ndarray\n",
    "shots_dist, shots_bins = np.histogram(shots_per_match, bins=np.arange(-0.5, 50.5))\n",
    "shots_dist = shots_dist / shots[\"matchId\"].nunique()"
   ]
  },
  {
   "cell_type": "code",
   "execution_count": null,
   "metadata": {},
   "outputs": [],
   "source": [
    "possible_shots: np.ndarray = np.arange(0, 50).astype(int)\n",
    "x: int\n",
    "normal_possible_shots: np.ndarray = np.array([scipy.stats.norm(mean_shots, std_shots).pdf(x) for x in possible_shots])"
   ]
  },
  {
   "cell_type": "code",
   "execution_count": null,
   "metadata": {},
   "outputs": [],
   "source": [
    "fig = plt.figure()\n",
    "ax = fig.add_subplot(1,1,1)\n",
    "\n",
    "plt.hist(possible_shots - 0.5, 49, weights=shots_dist)\n",
    "plt.plot(possible_shots, normal_possible_shots, color=\"black\")\n",
    "ax.set_yticks(np.arange(0, 0.15, 0.05))\n",
    "ax.spines[\"left\"].set_visible(True)\n",
    "ax.spines[\"bottom\"].set_position(\"zero\")\n",
    "ax.spines[\"top\"].set_visible(False)\n",
    "ax.spines[\"right\"].set_visible(False)\n",
    "ax.set_xticks(np.arange(0, 50, 5))\n",
    "ax.set_ylabel(\"Proportion of matches\")\n",
    "ax.set_xlabel(\"Number of shots hit\")\n",
    "plt.show()\n"
   ]
  },
  {
   "cell_type": "markdown",
   "metadata": {},
   "source": [
    "Some observations from the chart above:\n",
    "- There seem to be at least 10 shots per game and at most 39.\n",
    "- As the mean of the distribution suggests, there are 20-25 shots taken per game."
   ]
  },
  {
   "cell_type": "markdown",
   "metadata": {},
   "source": [
    "## Simulate a season\n",
    "\n",
    "Let us now see how to simulate matches over an entire season based on the league table for the previous season. We begin by download the table for the 2019-20 season of the English Premier League."
   ]
  },
  {
   "cell_type": "code",
   "execution_count": null,
   "metadata": {},
   "outputs": [],
   "source": [
    "epl: pd.DataFrame = pd.read_csv(\"https://www.football-data.co.uk/mmz4281/1920/E0.csv\")\n",
    "epl.head()"
   ]
  },
  {
   "cell_type": "markdown",
   "metadata": {},
   "source": [
    "Let us select the required columns and name them according to our preferences."
   ]
  },
  {
   "cell_type": "code",
   "execution_count": null,
   "metadata": {},
   "outputs": [],
   "source": [
    "epl = epl.loc[:, [\"HomeTeam\", \"AwayTeam\", \"FTHG\", \"FTAG\"]].rename(columns={\"FTHG\": \"HomeGoals\", \"FTAG\": \"AwayGoals\"})\n",
    "epl.head()"
   ]
  },
  {
   "cell_type": "markdown",
   "metadata": {},
   "source": [
    "Next, we want to fit a Poisson model that estimates the numbers of goals that will be scored by a team given the fixed effects like the base rate of the team itself, the opponent, and whether the game is at home or away. This is also called the *Dickson-Coles Model*. To fit this model, let us first construct the data."
   ]
  },
  {
   "cell_type": "code",
   "execution_count": null,
   "metadata": {},
   "outputs": [],
   "source": [
    "goal_model_data: pd.DataFrame = pd.concat([\n",
    "    (epl[[\"HomeTeam\", \"AwayTeam\", \"HomeGoals\"]].assign(home=1)\n",
    "     .rename(columns={\"HomeTeam\": \"team\", \"AwayTeam\": \"opponent\", \"HomeGoals\": \"goals\"})),\n",
    "    (epl[[\"AwayTeam\", \"HomeTeam\", \"AwayGoals\"]].assign(home=0)\n",
    "     .rename(columns={\"AwayTeam\": \"team\", \"HomeTeam\": \"opponent\", \"AwayGoals\": \"goals\"}))\n",
    "])\n",
    "goal_model_data.head()"
   ]
  },
  {
   "cell_type": "markdown",
   "metadata": {},
   "source": [
    "Now we fit the model using the `statsmodels` package."
   ]
  },
  {
   "cell_type": "code",
   "execution_count": null,
   "metadata": {},
   "outputs": [],
   "source": [
    "poisson_model: GLMResultsWrapper = smf.glm(formula=\"goals ~ home + team + opponent\",\n",
    "                                           data=goal_model_data,\n",
    "                                           family=sm.families.Poisson()).fit()\n",
    "poisson_model.summary()"
   ]
  },
  {
   "cell_type": "markdown",
   "metadata": {},
   "source": [
    "In the result above, the *intercept* refers to the first team in our data i.e. Arsenal. Some observations from the model summary are:\n",
    "- As the y-variable is the number of goals scored, coefficients of the home team (starting with `team`) represents how many more or fewer goals they score as compared to Arsenal per game. We see that only a handful of teams like Manchester City, Liverpool do better on this metric than Arsenal.\n",
    "- The coefficients of the away team (starting with `opponent`) indicate how many goals more does a team concede per game as compared to Arsenal.\n",
    "- We need to pay attention to the significance of these coefficients i.e. the $P > |z|$ column. A coefficient is said to be statistically significant if its p-value is less than `0.05`. When we consider the P-value, we see that only Manchester City and Liverpool score statistically significant more goals than Arsenal. Watford, Norwich, and Crystal Palace. We cannot make the same argument for any team conceding more goals than Arsenal.\n",
    "- Regardless of the fixed effects, we can see that playing at home carries a significant advantage in terms of the number of goals scored.\n",
    "\n",
    "Let us now consider the home team to be Manchester City and the away team to the Arsenal. We can use the model to predict the goals scored by each team in this case."
   ]
  },
  {
   "cell_type": "code",
   "execution_count": null,
   "metadata": {},
   "outputs": [],
   "source": [
    "home_team: str = \"Man City\"\n",
    "away_team: str = \"Arsenal\""
   ]
  },
  {
   "cell_type": "code",
   "execution_count": null,
   "metadata": {},
   "outputs": [],
   "source": [
    "home_score_rate: pd.DataFrame = poisson_model.predict(\n",
    "    pd.DataFrame(\n",
    "        data={\n",
    "            \"team\": home_team,\n",
    "            \"opponent\": away_team,\n",
    "            \"home\": 1\n",
    "        },\n",
    "        index=[1]\n",
    "    )\n",
    ")\n",
    "away_score_rate: pd.DataFrame = poisson_model.predict(\n",
    "    pd.DataFrame(\n",
    "        data={\n",
    "            \"team\": away_team,\n",
    "            \"opponent\": home_team,\n",
    "            \"home\": 0\n",
    "        },\n",
    "        index=[1]\n",
    "    )\n",
    ")\n",
    "print(f\"{home_team} against {away_team} expect to score: {round(home_score_rate.loc[1], 2)}\")\n",
    "print(f\"{away_team} against {home_team} expect to score: {round(away_score_rate.loc[1], 2)}\")"
   ]
  },
  {
   "cell_type": "markdown",
   "metadata": {},
   "source": [
    "Given that we derived the results from a Poisson model, the predictions above can be considered as the mean of the distribution. We can then simulate multiple matches between these two teams by providing this mean to the Poisson distribution.\n",
    "\n",
    "Let us write a function to do so. In this function, we will compute two lists, one each for the home and away team. The list represents the probability of the team scoring $i$ goals, where $i$ is the index (starting at 0), given the probability derived from our Poisson model. We then compute an outer matrix product of the two lists to yield the probabilities of various scorelines like 0-0, 1-0, etc."
   ]
  },
  {
   "cell_type": "code",
   "execution_count": null,
   "metadata": {},
   "outputs": [],
   "source": [
    "def simulate_matches(\n",
    "        goal_model: GLMResultsWrapper,\n",
    "        home_side: str,\n",
    "        away_side: str,\n",
    "        max_goals: int = 10\n",
    "):\n",
    "    mean_home_goals: float = goal_model.predict(\n",
    "        pd.DataFrame(\n",
    "            data={\n",
    "                \"team\": home_side,\n",
    "                \"opponent\": away_side,\n",
    "                \"home\": 1\n",
    "            },\n",
    "            index=[1]\n",
    "        )\n",
    "    ).loc[1]\n",
    "    mean_away_goals: float = goal_model.predict(\n",
    "        pd.DataFrame(\n",
    "            data={\n",
    "                \"team\": away_side,\n",
    "                \"opponent\": home_side,\n",
    "                \"home\": 0\n",
    "            },\n",
    "            index=[1]\n",
    "        )\n",
    "    ).loc[1]\n",
    "\n",
    "    i: int\n",
    "    team_mean: tuple\n",
    "    # Given the mean scoring rate of a team, compute the probability that a team will\n",
    "    # score `i` goals.\n",
    "    simulated_goals: list = [[poisson.pmf(i, team_mean)\n",
    "                              for i in range(0, (max_goals + 1))]\n",
    "                              for team_mean in [mean_home_goals, mean_away_goals]]\n",
    "\n",
    "    return np.outer(np.array(simulated_goals[0]), np.array(simulated_goals[1]))"
   ]
  },
  {
   "cell_type": "code",
   "execution_count": null,
   "metadata": {},
   "outputs": [],
   "source": [
    "required_max_goals: int = 5\n",
    "score_matrix: np.ndarray = simulate_matches(poisson_model, home_team, away_team, max_goals=required_max_goals)\n",
    "score_matrix"
   ]
  },
  {
   "cell_type": "markdown",
   "metadata": {},
   "source": [
    "In the table above, the rows represent the number of goals scored by Manchester City and the column represent goals by Arsenal. We see that the 2-0 scoreline has the highest probability.\n",
    "\n",
    "Instead of focusing further on the numbers, let us create a heatmap of these probabilities to make it easier to read the results."
   ]
  },
  {
   "cell_type": "code",
   "execution_count": null,
   "metadata": {},
   "outputs": [],
   "source": [
    "fig = plt.figure()\n",
    "ax = fig.add_subplot(1, 1, 1)\n",
    "\n",
    "pos=ax.imshow(score_matrix,\n",
    "              aspect=\"auto\",\n",
    "              cmap=plt.cm.Reds)\n",
    "fig.colorbar(pos, ax=ax)\n",
    "ax.set_title(\"Probability of outcome\")\n",
    "plt.xlim((-0.5, 5.5))\n",
    "plt.ylim((-0.5, 5.5))\n",
    "plt.tight_layout()\n",
    "ax.set_xlabel(f\"Goals scored by {away_team}\")\n",
    "ax.set_ylabel(f\"Goals scored by {home_team}\")\n",
    "plt.show()"
   ]
  },
  {
   "cell_type": "markdown",
   "metadata": {},
   "source": [
    "We can see that our model mostly predicts a win for Manchester city with them scoring 2-3 goals and Arsenal scoring 1-2 goals."
   ]
  },
  {
   "cell_type": "code",
   "execution_count": null,
   "metadata": {},
   "outputs": [],
   "source": []
  }
 ],
 "metadata": {
  "kernelspec": {
   "display_name": "Python 3",
   "language": "python",
   "name": "python3"
  },
  "language_info": {
   "codemirror_mode": {
    "name": "ipython",
    "version": 2
   },
   "file_extension": ".py",
   "mimetype": "text/x-python",
   "name": "python",
   "nbconvert_exporter": "python",
   "pygments_lexer": "ipython2"
  }
 },
 "nbformat": 4,
 "nbformat_minor": 0
}
