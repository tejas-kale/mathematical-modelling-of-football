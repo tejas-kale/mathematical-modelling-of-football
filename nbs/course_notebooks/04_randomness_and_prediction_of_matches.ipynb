{
 "cells": [
  {
   "cell_type": "code",
   "execution_count": 54,
   "outputs": [],
   "source": [
    "import os\n",
    "\n",
    "from scipy.stats import poisson\n",
    "from statsmodels.genmod.generalized_linear_model import GLMResultsWrapper\n",
    "import matplotlib.pyplot as plt\n",
    "import numpy as np\n",
    "import pandas as pd\n",
    "import scipy.stats\n",
    "import statsmodels.api as sm\n",
    "import statsmodels.formula.api as smf"
   ],
   "metadata": {
    "collapsed": false
   }
  },
  {
   "cell_type": "code",
   "execution_count": 20,
   "outputs": [],
   "source": [
    "plt.rcParams[\"figure.figsize\"] = 12/2.54, 8/2.54"
   ],
   "metadata": {
    "collapsed": false
   }
  },
  {
   "cell_type": "markdown",
   "source": [
    "## Distribution of shots and goals\n",
    "\n",
    "First, let us use WyScout data to plot the distribution of shots and goals in a Bundesliga season. Let us first load the data."
   ],
   "metadata": {
    "collapsed": false
   }
  },
  {
   "cell_type": "code",
   "execution_count": 2,
   "outputs": [],
   "source": [
    "data_dir: str = \"../../data/wyscout/events\""
   ],
   "metadata": {
    "collapsed": false
   }
  },
  {
   "cell_type": "code",
   "execution_count": 3,
   "outputs": [
    {
     "data": {
      "text/plain": "   eventId subEventName            tags  playerId  \\\n0        8  Simple pass  [{'id': 1801}]     15231   \n1        8  Simple pass  [{'id': 1801}]     14786   \n2        8  Simple pass  [{'id': 1801}]     14803   \n3        8  Simple pass  [{'id': 1801}]     14768   \n4        8  Simple pass  [{'id': 1801}]     14803   \n\n                                  positions  matchId eventName  teamId  \\\n0  [{'y': 50, 'x': 50}, {'y': 48, 'x': 50}]  2516739      Pass    2446   \n1  [{'y': 48, 'x': 50}, {'y': 22, 'x': 22}]  2516739      Pass    2446   \n2   [{'y': 22, 'x': 22}, {'y': 46, 'x': 6}]  2516739      Pass    2446   \n3   [{'y': 46, 'x': 6}, {'y': 10, 'x': 20}]  2516739      Pass    2446   \n4   [{'y': 10, 'x': 20}, {'y': 4, 'x': 27}]  2516739      Pass    2446   \n\n  matchPeriod   eventSec subEventId         id  \n0          1H   2.409746         85  179896442  \n1          1H   2.506082         85  179896443  \n2          1H   6.946706         85  179896444  \n3          1H  10.786491         85  179896445  \n4          1H  12.684514         85  179896446  ",
      "text/html": "<div>\n<style scoped>\n    .dataframe tbody tr th:only-of-type {\n        vertical-align: middle;\n    }\n\n    .dataframe tbody tr th {\n        vertical-align: top;\n    }\n\n    .dataframe thead th {\n        text-align: right;\n    }\n</style>\n<table border=\"1\" class=\"dataframe\">\n  <thead>\n    <tr style=\"text-align: right;\">\n      <th></th>\n      <th>eventId</th>\n      <th>subEventName</th>\n      <th>tags</th>\n      <th>playerId</th>\n      <th>positions</th>\n      <th>matchId</th>\n      <th>eventName</th>\n      <th>teamId</th>\n      <th>matchPeriod</th>\n      <th>eventSec</th>\n      <th>subEventId</th>\n      <th>id</th>\n    </tr>\n  </thead>\n  <tbody>\n    <tr>\n      <th>0</th>\n      <td>8</td>\n      <td>Simple pass</td>\n      <td>[{'id': 1801}]</td>\n      <td>15231</td>\n      <td>[{'y': 50, 'x': 50}, {'y': 48, 'x': 50}]</td>\n      <td>2516739</td>\n      <td>Pass</td>\n      <td>2446</td>\n      <td>1H</td>\n      <td>2.409746</td>\n      <td>85</td>\n      <td>179896442</td>\n    </tr>\n    <tr>\n      <th>1</th>\n      <td>8</td>\n      <td>Simple pass</td>\n      <td>[{'id': 1801}]</td>\n      <td>14786</td>\n      <td>[{'y': 48, 'x': 50}, {'y': 22, 'x': 22}]</td>\n      <td>2516739</td>\n      <td>Pass</td>\n      <td>2446</td>\n      <td>1H</td>\n      <td>2.506082</td>\n      <td>85</td>\n      <td>179896443</td>\n    </tr>\n    <tr>\n      <th>2</th>\n      <td>8</td>\n      <td>Simple pass</td>\n      <td>[{'id': 1801}]</td>\n      <td>14803</td>\n      <td>[{'y': 22, 'x': 22}, {'y': 46, 'x': 6}]</td>\n      <td>2516739</td>\n      <td>Pass</td>\n      <td>2446</td>\n      <td>1H</td>\n      <td>6.946706</td>\n      <td>85</td>\n      <td>179896444</td>\n    </tr>\n    <tr>\n      <th>3</th>\n      <td>8</td>\n      <td>Simple pass</td>\n      <td>[{'id': 1801}]</td>\n      <td>14768</td>\n      <td>[{'y': 46, 'x': 6}, {'y': 10, 'x': 20}]</td>\n      <td>2516739</td>\n      <td>Pass</td>\n      <td>2446</td>\n      <td>1H</td>\n      <td>10.786491</td>\n      <td>85</td>\n      <td>179896445</td>\n    </tr>\n    <tr>\n      <th>4</th>\n      <td>8</td>\n      <td>Simple pass</td>\n      <td>[{'id': 1801}]</td>\n      <td>14803</td>\n      <td>[{'y': 10, 'x': 20}, {'y': 4, 'x': 27}]</td>\n      <td>2516739</td>\n      <td>Pass</td>\n      <td>2446</td>\n      <td>1H</td>\n      <td>12.684514</td>\n      <td>85</td>\n      <td>179896446</td>\n    </tr>\n  </tbody>\n</table>\n</div>"
     },
     "execution_count": 3,
     "metadata": {},
     "output_type": "execute_result"
    }
   ],
   "source": [
    "data: pd.DataFrame = pd.read_json(os.path.join(data_dir, \"events_Germany.json\"))\n",
    "data.head()"
   ],
   "metadata": {
    "collapsed": false
   }
  },
  {
   "cell_type": "code",
   "execution_count": 4,
   "outputs": [
    {
     "data": {
      "text/plain": "(519407, 12)"
     },
     "execution_count": 4,
     "metadata": {},
     "output_type": "execute_result"
    }
   ],
   "source": [
    "data.shape"
   ],
   "metadata": {
    "collapsed": false
   }
  },
  {
   "cell_type": "markdown",
   "source": [
    "Next, let us add an indicator column that specifies if the event (i.e. row) refers to a shot on goal."
   ],
   "metadata": {
    "collapsed": false
   }
  },
  {
   "cell_type": "code",
   "execution_count": null,
   "outputs": [],
   "source": [
    "shot_event_names: list = [\"Shot\", \"Free kick shot\", \"Penalty\"]"
   ],
   "metadata": {
    "collapsed": false
   }
  },
  {
   "cell_type": "code",
   "execution_count": 6,
   "outputs": [
    {
     "data": {
      "text/plain": "     eventId subEventName                                               tags  \\\n104       10         Shot  [{'id': 402}, {'id': 201}, {'id': 1206}, {'id'...   \n178       10         Shot  [{'id': 101}, {'id': 403}, {'id': 201}, {'id':...   \n216       10         Shot  [{'id': 402}, {'id': 201}, {'id': 1201}, {'id'...   \n220       10         Shot  [{'id': 402}, {'id': 201}, {'id': 1212}, {'id'...   \n313       10         Shot          [{'id': 402}, {'id': 1216}, {'id': 1802}]   \n\n     playerId                                   positions  matchId eventName  \\\n104    209091      [{'y': 66, 'x': 83}, {'y': 0, 'x': 0}]  2516739      Shot   \n178    134383      [{'y': 59, 'x': 95}, {'y': 0, 'x': 0}]  2516739      Shot   \n216    105619  [{'y': 66, 'x': 91}, {'y': 100, 'x': 100}]  2516739      Shot   \n220     14786  [{'y': 49, 'x': 88}, {'y': 100, 'x': 100}]  2516739      Shot   \n313     20475      [{'y': 42, 'x': 74}, {'y': 0, 'x': 0}]  2516739      Shot   \n\n     teamId matchPeriod    eventSec subEventId         id  \n104    2444          1H  247.703507        100  179896573  \n178    2444          1H  529.393731        100  179896639  \n216    2446          1H  668.234340        100  179896684  \n220    2446          1H  672.925920        100  179896693  \n313    2444          1H  949.131592        100  179896798  ",
      "text/html": "<div>\n<style scoped>\n    .dataframe tbody tr th:only-of-type {\n        vertical-align: middle;\n    }\n\n    .dataframe tbody tr th {\n        vertical-align: top;\n    }\n\n    .dataframe thead th {\n        text-align: right;\n    }\n</style>\n<table border=\"1\" class=\"dataframe\">\n  <thead>\n    <tr style=\"text-align: right;\">\n      <th></th>\n      <th>eventId</th>\n      <th>subEventName</th>\n      <th>tags</th>\n      <th>playerId</th>\n      <th>positions</th>\n      <th>matchId</th>\n      <th>eventName</th>\n      <th>teamId</th>\n      <th>matchPeriod</th>\n      <th>eventSec</th>\n      <th>subEventId</th>\n      <th>id</th>\n    </tr>\n  </thead>\n  <tbody>\n    <tr>\n      <th>104</th>\n      <td>10</td>\n      <td>Shot</td>\n      <td>[{'id': 402}, {'id': 201}, {'id': 1206}, {'id'...</td>\n      <td>209091</td>\n      <td>[{'y': 66, 'x': 83}, {'y': 0, 'x': 0}]</td>\n      <td>2516739</td>\n      <td>Shot</td>\n      <td>2444</td>\n      <td>1H</td>\n      <td>247.703507</td>\n      <td>100</td>\n      <td>179896573</td>\n    </tr>\n    <tr>\n      <th>178</th>\n      <td>10</td>\n      <td>Shot</td>\n      <td>[{'id': 101}, {'id': 403}, {'id': 201}, {'id':...</td>\n      <td>134383</td>\n      <td>[{'y': 59, 'x': 95}, {'y': 0, 'x': 0}]</td>\n      <td>2516739</td>\n      <td>Shot</td>\n      <td>2444</td>\n      <td>1H</td>\n      <td>529.393731</td>\n      <td>100</td>\n      <td>179896639</td>\n    </tr>\n    <tr>\n      <th>216</th>\n      <td>10</td>\n      <td>Shot</td>\n      <td>[{'id': 402}, {'id': 201}, {'id': 1201}, {'id'...</td>\n      <td>105619</td>\n      <td>[{'y': 66, 'x': 91}, {'y': 100, 'x': 100}]</td>\n      <td>2516739</td>\n      <td>Shot</td>\n      <td>2446</td>\n      <td>1H</td>\n      <td>668.234340</td>\n      <td>100</td>\n      <td>179896684</td>\n    </tr>\n    <tr>\n      <th>220</th>\n      <td>10</td>\n      <td>Shot</td>\n      <td>[{'id': 402}, {'id': 201}, {'id': 1212}, {'id'...</td>\n      <td>14786</td>\n      <td>[{'y': 49, 'x': 88}, {'y': 100, 'x': 100}]</td>\n      <td>2516739</td>\n      <td>Shot</td>\n      <td>2446</td>\n      <td>1H</td>\n      <td>672.925920</td>\n      <td>100</td>\n      <td>179896693</td>\n    </tr>\n    <tr>\n      <th>313</th>\n      <td>10</td>\n      <td>Shot</td>\n      <td>[{'id': 402}, {'id': 1216}, {'id': 1802}]</td>\n      <td>20475</td>\n      <td>[{'y': 42, 'x': 74}, {'y': 0, 'x': 0}]</td>\n      <td>2516739</td>\n      <td>Shot</td>\n      <td>2444</td>\n      <td>1H</td>\n      <td>949.131592</td>\n      <td>100</td>\n      <td>179896798</td>\n    </tr>\n  </tbody>\n</table>\n</div>"
     },
     "execution_count": 6,
     "metadata": {},
     "output_type": "execute_result"
    }
   ],
   "source": [
    "shots = data[data[\"subEventName\"].isin(shot_event_names)]\n",
    "shots.head()"
   ],
   "metadata": {
    "collapsed": false
   }
  },
  {
   "cell_type": "markdown",
   "source": [
    "We need another column that specifies if a shot resulted in a goal. This information is present in the `tags` column. If there was a goal scored from a shot, it contains a dictionary with a value `101` for the `id` key. Let us create this column."
   ],
   "metadata": {
    "collapsed": false
   }
  },
  {
   "cell_type": "code",
   "execution_count": 7,
   "outputs": [],
   "source": [
    "def is_shot_id_present(tags: list) -> int:\n",
    "    tag: dict\n",
    "    for tag in tags:\n",
    "        if tag[\"id\"] == 101:\n",
    "            return 1\n",
    "    return 0"
   ],
   "metadata": {
    "collapsed": false
   }
  },
  {
   "cell_type": "code",
   "execution_count": 8,
   "outputs": [
    {
     "name": "stderr",
     "output_type": "stream",
     "text": [
      "/var/folders/_f/_mxr3yps0dn2fp263fqj4yy00000gn/T/ipykernel_29625/4021192228.py:1: SettingWithCopyWarning: \n",
      "A value is trying to be set on a copy of a slice from a DataFrame.\n",
      "Try using .loc[row_indexer,col_indexer] = value instead\n",
      "\n",
      "See the caveats in the documentation: https://pandas.pydata.org/pandas-docs/stable/user_guide/indexing.html#returning-a-view-versus-a-copy\n",
      "  shots.loc[:, \"goal\"] = shots.apply(lambda x: is_shot_id_present(x[\"tags\"]), axis=1)\n"
     ]
    },
    {
     "data": {
      "text/plain": "     eventId subEventName                                               tags  \\\n104       10         Shot  [{'id': 402}, {'id': 201}, {'id': 1206}, {'id'...   \n178       10         Shot  [{'id': 101}, {'id': 403}, {'id': 201}, {'id':...   \n216       10         Shot  [{'id': 402}, {'id': 201}, {'id': 1201}, {'id'...   \n220       10         Shot  [{'id': 402}, {'id': 201}, {'id': 1212}, {'id'...   \n313       10         Shot          [{'id': 402}, {'id': 1216}, {'id': 1802}]   \n\n     playerId                                   positions  matchId eventName  \\\n104    209091      [{'y': 66, 'x': 83}, {'y': 0, 'x': 0}]  2516739      Shot   \n178    134383      [{'y': 59, 'x': 95}, {'y': 0, 'x': 0}]  2516739      Shot   \n216    105619  [{'y': 66, 'x': 91}, {'y': 100, 'x': 100}]  2516739      Shot   \n220     14786  [{'y': 49, 'x': 88}, {'y': 100, 'x': 100}]  2516739      Shot   \n313     20475      [{'y': 42, 'x': 74}, {'y': 0, 'x': 0}]  2516739      Shot   \n\n     teamId matchPeriod    eventSec subEventId         id  goal  \n104    2444          1H  247.703507        100  179896573     0  \n178    2444          1H  529.393731        100  179896639     1  \n216    2446          1H  668.234340        100  179896684     0  \n220    2446          1H  672.925920        100  179896693     0  \n313    2444          1H  949.131592        100  179896798     0  ",
      "text/html": "<div>\n<style scoped>\n    .dataframe tbody tr th:only-of-type {\n        vertical-align: middle;\n    }\n\n    .dataframe tbody tr th {\n        vertical-align: top;\n    }\n\n    .dataframe thead th {\n        text-align: right;\n    }\n</style>\n<table border=\"1\" class=\"dataframe\">\n  <thead>\n    <tr style=\"text-align: right;\">\n      <th></th>\n      <th>eventId</th>\n      <th>subEventName</th>\n      <th>tags</th>\n      <th>playerId</th>\n      <th>positions</th>\n      <th>matchId</th>\n      <th>eventName</th>\n      <th>teamId</th>\n      <th>matchPeriod</th>\n      <th>eventSec</th>\n      <th>subEventId</th>\n      <th>id</th>\n      <th>goal</th>\n    </tr>\n  </thead>\n  <tbody>\n    <tr>\n      <th>104</th>\n      <td>10</td>\n      <td>Shot</td>\n      <td>[{'id': 402}, {'id': 201}, {'id': 1206}, {'id'...</td>\n      <td>209091</td>\n      <td>[{'y': 66, 'x': 83}, {'y': 0, 'x': 0}]</td>\n      <td>2516739</td>\n      <td>Shot</td>\n      <td>2444</td>\n      <td>1H</td>\n      <td>247.703507</td>\n      <td>100</td>\n      <td>179896573</td>\n      <td>0</td>\n    </tr>\n    <tr>\n      <th>178</th>\n      <td>10</td>\n      <td>Shot</td>\n      <td>[{'id': 101}, {'id': 403}, {'id': 201}, {'id':...</td>\n      <td>134383</td>\n      <td>[{'y': 59, 'x': 95}, {'y': 0, 'x': 0}]</td>\n      <td>2516739</td>\n      <td>Shot</td>\n      <td>2444</td>\n      <td>1H</td>\n      <td>529.393731</td>\n      <td>100</td>\n      <td>179896639</td>\n      <td>1</td>\n    </tr>\n    <tr>\n      <th>216</th>\n      <td>10</td>\n      <td>Shot</td>\n      <td>[{'id': 402}, {'id': 201}, {'id': 1201}, {'id'...</td>\n      <td>105619</td>\n      <td>[{'y': 66, 'x': 91}, {'y': 100, 'x': 100}]</td>\n      <td>2516739</td>\n      <td>Shot</td>\n      <td>2446</td>\n      <td>1H</td>\n      <td>668.234340</td>\n      <td>100</td>\n      <td>179896684</td>\n      <td>0</td>\n    </tr>\n    <tr>\n      <th>220</th>\n      <td>10</td>\n      <td>Shot</td>\n      <td>[{'id': 402}, {'id': 201}, {'id': 1212}, {'id'...</td>\n      <td>14786</td>\n      <td>[{'y': 49, 'x': 88}, {'y': 100, 'x': 100}]</td>\n      <td>2516739</td>\n      <td>Shot</td>\n      <td>2446</td>\n      <td>1H</td>\n      <td>672.925920</td>\n      <td>100</td>\n      <td>179896693</td>\n      <td>0</td>\n    </tr>\n    <tr>\n      <th>313</th>\n      <td>10</td>\n      <td>Shot</td>\n      <td>[{'id': 402}, {'id': 1216}, {'id': 1802}]</td>\n      <td>20475</td>\n      <td>[{'y': 42, 'x': 74}, {'y': 0, 'x': 0}]</td>\n      <td>2516739</td>\n      <td>Shot</td>\n      <td>2444</td>\n      <td>1H</td>\n      <td>949.131592</td>\n      <td>100</td>\n      <td>179896798</td>\n      <td>0</td>\n    </tr>\n  </tbody>\n</table>\n</div>"
     },
     "execution_count": 8,
     "metadata": {},
     "output_type": "execute_result"
    }
   ],
   "source": [
    "shots.loc[:, \"goal\"] = shots.apply(lambda x: is_shot_id_present(x[\"tags\"]), axis=1)\n",
    "shots.head()"
   ],
   "metadata": {
    "collapsed": false
   }
  },
  {
   "cell_type": "markdown",
   "source": [
    "As we want to visualise the distribution of shots and goals over an entire season, let us aggregate them by match."
   ],
   "metadata": {
    "collapsed": false
   }
  },
  {
   "cell_type": "code",
   "execution_count": 9,
   "outputs": [],
   "source": [
    "shots_per_match: list = []\n",
    "goals_per_match: list = []\n",
    "match_id: str\n",
    "match_data: pd.DataFrame\n",
    "for match_id, match_data in shots.groupby(\"matchId\"):\n",
    "    shots_per_match.append(len(match_data))\n",
    "    goals_per_match.append(sum(match_data[\"goal\"]))"
   ],
   "metadata": {
    "collapsed": false
   }
  },
  {
   "cell_type": "markdown",
   "source": [
    "First, let us create a histogram of the goals."
   ],
   "metadata": {
    "collapsed": false
   }
  },
  {
   "cell_type": "code",
   "execution_count": 15,
   "outputs": [],
   "source": [
    "mean_goals: float = np.mean(goals_per_match)\n",
    "goals_dist: np.ndarray\n",
    "goals_bins: np.ndarray\n",
    "goals_dist, goals_bins = np.histogram(goals_per_match, bins=np.arange(-0.5, 10.5))\n",
    "goals_dist = goals_dist / shots[\"matchId\"].nunique()"
   ],
   "metadata": {
    "collapsed": false
   }
  },
  {
   "cell_type": "markdown",
   "source": [
    "Based on the mean goals, let us create a Poisson distribution."
   ],
   "metadata": {
    "collapsed": false
   }
  },
  {
   "cell_type": "code",
   "execution_count": 19,
   "outputs": [],
   "source": [
    "possible_goals: np.ndarray = np.arange(0, 10).astype(int)\n",
    "x: int\n",
    "possible_goals_factorial: np.ndarray = np.array([np.math.factorial(x) for x in possible_goals])\n",
    "poisson_possible_goals: np.ndarray = np.power(mean_goals, possible_goals) * np.exp(-mean_goals) / possible_goals_factorial"
   ],
   "metadata": {
    "collapsed": false
   }
  },
  {
   "cell_type": "markdown",
   "source": [
    "Finally, let us plot the distribution of goals in the Bundesliga season."
   ],
   "metadata": {
    "collapsed": false
   }
  },
  {
   "cell_type": "code",
   "execution_count": 21,
   "metadata": {
    "collapsed": true
   },
   "outputs": [
    {
     "data": {
      "text/plain": "<Figure size 472.441x314.961 with 1 Axes>",
      "image/png": "[encoded data removed]"
     },
     "metadata": {},
     "output_type": "display_data"
    }
   ],
   "source": [
    "fig = plt.figure()\n",
    "ax = fig.add_subplot(1,1,1)\n",
    "\n",
    "plt.hist(possible_goals - 0.5, 9, weights=goals_dist)\n",
    "plt.plot(possible_goals, poisson_possible_goals, color=\"black\")\n",
    "ax.set_yticks(np.arange(0, 0.3, 0.1))\n",
    "ax.spines[\"left\"].set_visible(True)\n",
    "ax.spines[\"bottom\"].set_position(\"zero\")\n",
    "ax.spines[\"top\"].set_visible(False)\n",
    "ax.spines[\"right\"].set_visible(False)\n",
    "ax.set_xticks(np.arange(0, 10, 1))\n",
    "ax.set_ylabel(\"Proportion of matches\")\n",
    "ax.set_xlabel(\"Number of goals scored\")\n",
    "plt.show()\n",
    "\n",
    "\n",
    "#Exercise:\n",
    "#1, Make a histogram of shots per game\n",
    "#2, Find the mean and standard deviation for shots per game\n",
    "#3, Show that shots per game is roughly normally distributed."
   ]
  },
  {
   "cell_type": "markdown",
   "source": [
    "Some observations from the plot above are:\n",
    "- The Poisson distribution under-represents games with 2 goals (2-0, 0-2, or 1-1) while it over-represents single goal games.\n",
    "\n",
    "Let us now recreate the charts for shots per game. As there are way more shots per game than the number of goals, the Binomial distribution, which is the basis, converges to Normal distribution under the Law of Large Numbers. So, just like we plotted the Poisson distribution (as a Black line) with the mean number of goals per game as the parameters, we will need the mean number of shots per game and the standard deviation as parameters to plot the Normal distribution."
   ],
   "metadata": {
    "collapsed": false
   }
  },
  {
   "cell_type": "code",
   "execution_count": 27,
   "outputs": [],
   "source": [
    "mean_shots: float = np.mean(shots_per_match)\n",
    "std_shots: float = np.std(shots_per_match)\n",
    "shots_dist: np.ndarray\n",
    "shots_bins: np.ndarray\n",
    "shots_dist, shots_bins = np.histogram(shots_per_match, bins=np.arange(-0.5, 50.5))\n",
    "shots_dist = shots_dist / shots[\"matchId\"].nunique()"
   ],
   "metadata": {
    "collapsed": false
   }
  },
  {
   "cell_type": "code",
   "execution_count": 28,
   "outputs": [],
   "source": [
    "possible_shots: np.ndarray = np.arange(0, 50).astype(int)\n",
    "x: int\n",
    "normal_possible_shots: np.ndarray = np.array([scipy.stats.norm(mean_shots, std_shots).pdf(x) for x in possible_shots])"
   ],
   "metadata": {
    "collapsed": false
   }
  },
  {
   "cell_type": "code",
   "execution_count": 35,
   "outputs": [
    {
     "data": {
      "text/plain": "<Figure size 472.441x314.961 with 1 Axes>",
      "image/png": "[encoded data removed]"
     },
     "metadata": {},
     "output_type": "display_data"
    }
   ],
   "source": [
    "fig = plt.figure()\n",
    "ax = fig.add_subplot(1,1,1)\n",
    "\n",
    "plt.hist(possible_shots - 0.5, 49, weights=shots_dist)\n",
    "plt.plot(possible_shots, normal_possible_shots, color=\"black\")\n",
    "ax.set_yticks(np.arange(0, 0.15, 0.05))\n",
    "ax.spines[\"left\"].set_visible(True)\n",
    "ax.spines[\"bottom\"].set_position(\"zero\")\n",
    "ax.spines[\"top\"].set_visible(False)\n",
    "ax.spines[\"right\"].set_visible(False)\n",
    "ax.set_xticks(np.arange(0, 50, 5))\n",
    "ax.set_ylabel(\"Proportion of matches\")\n",
    "ax.set_xlabel(\"Number of shots hit\")\n",
    "plt.show()\n"
   ],
   "metadata": {
    "collapsed": false
   }
  },
  {
   "cell_type": "markdown",
   "source": [
    "Some observations from the chart above:\n",
    "- There seem to be at least 10 shots per game and at most 39.\n",
    "- As the mean of the distribution suggests, there are 20-25 shots taken per game."
   ],
   "metadata": {
    "collapsed": false
   }
  },
  {
   "cell_type": "markdown",
   "source": [
    "## Simulate a season\n",
    "\n",
    "Let us now see how to simulate matches over an entire season based on the league table for the previous season. We begin by download the table for the 2019-20 season of the English Premier League."
   ],
   "metadata": {
    "collapsed": false
   }
  },
  {
   "cell_type": "code",
   "execution_count": 37,
   "outputs": [
    {
     "data": {
      "text/plain": "  Div        Date   Time        HomeTeam          AwayTeam  FTHG  FTAG FTR  \\\n0  E0  09/08/2019  20:00       Liverpool           Norwich     4     1   H   \n1  E0  10/08/2019  12:30        West Ham          Man City     0     5   A   \n2  E0  10/08/2019  15:00     Bournemouth  Sheffield United     1     1   D   \n3  E0  10/08/2019  15:00         Burnley       Southampton     3     0   H   \n4  E0  10/08/2019  15:00  Crystal Palace           Everton     0     0   D   \n\n   HTHG  HTAG  ... AvgC<2.5  AHCh  B365CAHH  B365CAHA  PCAHH  PCAHA  MaxCAHH  \\\n0     4     0  ...     3.43 -2.25      1.91      1.99   1.94   1.98     1.99   \n1     0     1  ...     2.91  1.75      1.95      1.95   1.96   1.97     2.07   \n2     0     0  ...     1.92 -0.50      1.95      1.95   1.98   1.95     2.00   \n3     0     0  ...     1.71  0.00      1.87      2.03   1.89   2.03     1.90   \n4     0     0  ...     1.71  0.25      1.82      2.08   1.97   1.96     2.03   \n\n   MaxCAHA  AvgCAHH  AvgCAHA  \n0     2.07     1.90     1.99  \n1     1.98     1.97     1.92  \n2     1.96     1.96     1.92  \n3     2.07     1.86     2.02  \n4     2.08     1.96     1.93  \n\n[5 rows x 106 columns]",
      "text/html": "<div>\n<style scoped>\n    .dataframe tbody tr th:only-of-type {\n        vertical-align: middle;\n    }\n\n    .dataframe tbody tr th {\n        vertical-align: top;\n    }\n\n    .dataframe thead th {\n        text-align: right;\n    }\n</style>\n<table border=\"1\" class=\"dataframe\">\n  <thead>\n    <tr style=\"text-align: right;\">\n      <th></th>\n      <th>Div</th>\n      <th>Date</th>\n      <th>Time</th>\n      <th>HomeTeam</th>\n      <th>AwayTeam</th>\n      <th>FTHG</th>\n      <th>FTAG</th>\n      <th>FTR</th>\n      <th>HTHG</th>\n      <th>HTAG</th>\n      <th>...</th>\n      <th>AvgC&lt;2.5</th>\n      <th>AHCh</th>\n      <th>B365CAHH</th>\n      <th>B365CAHA</th>\n      <th>PCAHH</th>\n      <th>PCAHA</th>\n      <th>MaxCAHH</th>\n      <th>MaxCAHA</th>\n      <th>AvgCAHH</th>\n      <th>AvgCAHA</th>\n    </tr>\n  </thead>\n  <tbody>\n    <tr>\n      <th>0</th>\n      <td>E0</td>\n      <td>09/08/2019</td>\n      <td>20:00</td>\n      <td>Liverpool</td>\n      <td>Norwich</td>\n      <td>4</td>\n      <td>1</td>\n      <td>H</td>\n      <td>4</td>\n      <td>0</td>\n      <td>...</td>\n      <td>3.43</td>\n      <td>-2.25</td>\n      <td>1.91</td>\n      <td>1.99</td>\n      <td>1.94</td>\n      <td>1.98</td>\n      <td>1.99</td>\n      <td>2.07</td>\n      <td>1.90</td>\n      <td>1.99</td>\n    </tr>\n    <tr>\n      <th>1</th>\n      <td>E0</td>\n      <td>10/08/2019</td>\n      <td>12:30</td>\n      <td>West Ham</td>\n      <td>Man City</td>\n      <td>0</td>\n      <td>5</td>\n      <td>A</td>\n      <td>0</td>\n      <td>1</td>\n      <td>...</td>\n      <td>2.91</td>\n      <td>1.75</td>\n      <td>1.95</td>\n      <td>1.95</td>\n      <td>1.96</td>\n      <td>1.97</td>\n      <td>2.07</td>\n      <td>1.98</td>\n      <td>1.97</td>\n      <td>1.92</td>\n    </tr>\n    <tr>\n      <th>2</th>\n      <td>E0</td>\n      <td>10/08/2019</td>\n      <td>15:00</td>\n      <td>Bournemouth</td>\n      <td>Sheffield United</td>\n      <td>1</td>\n      <td>1</td>\n      <td>D</td>\n      <td>0</td>\n      <td>0</td>\n      <td>...</td>\n      <td>1.92</td>\n      <td>-0.50</td>\n      <td>1.95</td>\n      <td>1.95</td>\n      <td>1.98</td>\n      <td>1.95</td>\n      <td>2.00</td>\n      <td>1.96</td>\n      <td>1.96</td>\n      <td>1.92</td>\n    </tr>\n    <tr>\n      <th>3</th>\n      <td>E0</td>\n      <td>10/08/2019</td>\n      <td>15:00</td>\n      <td>Burnley</td>\n      <td>Southampton</td>\n      <td>3</td>\n      <td>0</td>\n      <td>H</td>\n      <td>0</td>\n      <td>0</td>\n      <td>...</td>\n      <td>1.71</td>\n      <td>0.00</td>\n      <td>1.87</td>\n      <td>2.03</td>\n      <td>1.89</td>\n      <td>2.03</td>\n      <td>1.90</td>\n      <td>2.07</td>\n      <td>1.86</td>\n      <td>2.02</td>\n    </tr>\n    <tr>\n      <th>4</th>\n      <td>E0</td>\n      <td>10/08/2019</td>\n      <td>15:00</td>\n      <td>Crystal Palace</td>\n      <td>Everton</td>\n      <td>0</td>\n      <td>0</td>\n      <td>D</td>\n      <td>0</td>\n      <td>0</td>\n      <td>...</td>\n      <td>1.71</td>\n      <td>0.25</td>\n      <td>1.82</td>\n      <td>2.08</td>\n      <td>1.97</td>\n      <td>1.96</td>\n      <td>2.03</td>\n      <td>2.08</td>\n      <td>1.96</td>\n      <td>1.93</td>\n    </tr>\n  </tbody>\n</table>\n<p>5 rows × 106 columns</p>\n</div>"
     },
     "execution_count": 37,
     "metadata": {},
     "output_type": "execute_result"
    }
   ],
   "source": [
    "epl: pd.DataFrame = pd.read_csv(\"https://www.football-data.co.uk/mmz4281/1920/E0.csv\")\n",
    "epl.head()"
   ],
   "metadata": {
    "collapsed": false
   }
  },
  {
   "cell_type": "markdown",
   "source": [
    "Let us select the required columns and name them according to our preferences."
   ],
   "metadata": {
    "collapsed": false
   }
  },
  {
   "cell_type": "code",
   "execution_count": 38,
   "outputs": [
    {
     "data": {
      "text/plain": "         HomeTeam          AwayTeam  HomeGoals  AwayGoals\n0       Liverpool           Norwich          4          1\n1        West Ham          Man City          0          5\n2     Bournemouth  Sheffield United          1          1\n3         Burnley       Southampton          3          0\n4  Crystal Palace           Everton          0          0",
      "text/html": "<div>\n<style scoped>\n    .dataframe tbody tr th:only-of-type {\n        vertical-align: middle;\n    }\n\n    .dataframe tbody tr th {\n        vertical-align: top;\n    }\n\n    .dataframe thead th {\n        text-align: right;\n    }\n</style>\n<table border=\"1\" class=\"dataframe\">\n  <thead>\n    <tr style=\"text-align: right;\">\n      <th></th>\n      <th>HomeTeam</th>\n      <th>AwayTeam</th>\n      <th>HomeGoals</th>\n      <th>AwayGoals</th>\n    </tr>\n  </thead>\n  <tbody>\n    <tr>\n      <th>0</th>\n      <td>Liverpool</td>\n      <td>Norwich</td>\n      <td>4</td>\n      <td>1</td>\n    </tr>\n    <tr>\n      <th>1</th>\n      <td>West Ham</td>\n      <td>Man City</td>\n      <td>0</td>\n      <td>5</td>\n    </tr>\n    <tr>\n      <th>2</th>\n      <td>Bournemouth</td>\n      <td>Sheffield United</td>\n      <td>1</td>\n      <td>1</td>\n    </tr>\n    <tr>\n      <th>3</th>\n      <td>Burnley</td>\n      <td>Southampton</td>\n      <td>3</td>\n      <td>0</td>\n    </tr>\n    <tr>\n      <th>4</th>\n      <td>Crystal Palace</td>\n      <td>Everton</td>\n      <td>0</td>\n      <td>0</td>\n    </tr>\n  </tbody>\n</table>\n</div>"
     },
     "execution_count": 38,
     "metadata": {},
     "output_type": "execute_result"
    }
   ],
   "source": [
    "epl = epl.loc[:, [\"HomeTeam\", \"AwayTeam\", \"FTHG\", \"FTAG\"]].rename(columns={\"FTHG\": \"HomeGoals\", \"FTAG\": \"AwayGoals\"})\n",
    "epl.head()"
   ],
   "metadata": {
    "collapsed": false
   }
  },
  {
   "cell_type": "markdown",
   "source": [
    "Next, we want to fit a Poisson model that estimates the numbers of goals that will be scored by a team given the fixed effects like the base rate of the team itself, the opponent, and whether the game is at home or away. This is also called the *Dickson-Coles Model*. To fit this model, let us first construct the data."
   ],
   "metadata": {
    "collapsed": false
   }
  },
  {
   "cell_type": "code",
   "execution_count": 39,
   "outputs": [
    {
     "data": {
      "text/plain": "             team          opponent  goals  home\n0       Liverpool           Norwich      4     1\n1        West Ham          Man City      0     1\n2     Bournemouth  Sheffield United      1     1\n3         Burnley       Southampton      3     1\n4  Crystal Palace           Everton      0     1",
      "text/html": "<div>\n<style scoped>\n    .dataframe tbody tr th:only-of-type {\n        vertical-align: middle;\n    }\n\n    .dataframe tbody tr th {\n        vertical-align: top;\n    }\n\n    .dataframe thead th {\n        text-align: right;\n    }\n</style>\n<table border=\"1\" class=\"dataframe\">\n  <thead>\n    <tr style=\"text-align: right;\">\n      <th></th>\n      <th>team</th>\n      <th>opponent</th>\n      <th>goals</th>\n      <th>home</th>\n    </tr>\n  </thead>\n  <tbody>\n    <tr>\n      <th>0</th>\n      <td>Liverpool</td>\n      <td>Norwich</td>\n      <td>4</td>\n      <td>1</td>\n    </tr>\n    <tr>\n      <th>1</th>\n      <td>West Ham</td>\n      <td>Man City</td>\n      <td>0</td>\n      <td>1</td>\n    </tr>\n    <tr>\n      <th>2</th>\n      <td>Bournemouth</td>\n      <td>Sheffield United</td>\n      <td>1</td>\n      <td>1</td>\n    </tr>\n    <tr>\n      <th>3</th>\n      <td>Burnley</td>\n      <td>Southampton</td>\n      <td>3</td>\n      <td>1</td>\n    </tr>\n    <tr>\n      <th>4</th>\n      <td>Crystal Palace</td>\n      <td>Everton</td>\n      <td>0</td>\n      <td>1</td>\n    </tr>\n  </tbody>\n</table>\n</div>"
     },
     "execution_count": 39,
     "metadata": {},
     "output_type": "execute_result"
    }
   ],
   "source": [
    "goal_model_data: pd.DataFrame = pd.concat([\n",
    "    (epl[[\"HomeTeam\", \"AwayTeam\", \"HomeGoals\"]].assign(home=1)\n",
    "     .rename(columns={\"HomeTeam\": \"team\", \"AwayTeam\": \"opponent\", \"HomeGoals\": \"goals\"})),\n",
    "    (epl[[\"AwayTeam\", \"HomeTeam\", \"AwayGoals\"]].assign(home=0)\n",
    "     .rename(columns={\"AwayTeam\": \"team\", \"HomeTeam\": \"opponent\", \"AwayGoals\": \"goals\"}))\n",
    "])\n",
    "goal_model_data.head()"
   ],
   "metadata": {
    "collapsed": false
   }
  },
  {
   "cell_type": "markdown",
   "source": [
    "Now we fit the model using the `statsmodels` package."
   ],
   "metadata": {
    "collapsed": false
   }
  },
  {
   "cell_type": "code",
   "execution_count": 45,
   "outputs": [
    {
     "data": {
      "text/plain": "<class 'statsmodels.iolib.summary.Summary'>\n\"\"\"\n                 Generalized Linear Model Regression Results                  \n==============================================================================\nDep. Variable:                  goals   No. Observations:                  760\nModel:                            GLM   Df Residuals:                      720\nModel Family:                 Poisson   Df Model:                           39\nLink Function:                    Log   Scale:                          1.0000\nMethod:                          IRLS   Log-Likelihood:                -1057.7\nDate:                Thu, 09 Mar 2023   Deviance:                       765.20\nTime:                        08:59:11   Pearson chi2:                     655.\nNo. Iterations:                     5   Pseudo R-squ. (CS):             0.2118\nCovariance Type:            nonrobust                                         \n================================================================================================\n                                   coef    std err          z      P>|z|      [0.025      0.975]\n------------------------------------------------------------------------------------------------\nIntercept                        0.1957      0.202      0.967      0.334      -0.201       0.593\nteam[T.Aston Villa]             -0.2932      0.206     -1.424      0.154      -0.697       0.110\nteam[T.Bournemouth]             -0.3200      0.207     -1.544      0.123      -0.726       0.086\nteam[T.Brighton]                -0.3566      0.209     -1.708      0.088      -0.766       0.053\nteam[T.Burnley]                 -0.2628      0.203     -1.294      0.196      -0.661       0.135\nteam[T.Chelsea]                  0.2157      0.180      1.197      0.231      -0.137       0.569\nteam[T.Crystal Palace]          -0.5906      0.224     -2.636      0.008      -1.030      -0.151\nteam[T.Everton]                 -0.2336      0.202     -1.158      0.247      -0.629       0.162\nteam[T.Leicester]                0.1727      0.181      0.952      0.341      -0.183       0.528\nteam[T.Liverpool]                0.4031      0.172      2.339      0.019       0.065       0.741\nteam[T.Man City]                 0.5881      0.167      3.530      0.000       0.262       0.915\nteam[T.Man United]               0.1525      0.182      0.838      0.402      -0.204       0.509\nteam[T.Newcastle]               -0.3786      0.210     -1.799      0.072      -0.791       0.034\nteam[T.Norwich]                 -0.7416      0.238     -3.121      0.002      -1.207      -0.276\nteam[T.Sheffield United]        -0.3716      0.209     -1.780      0.075      -0.781       0.038\nteam[T.Southampton]             -0.0815      0.194     -0.420      0.674      -0.461       0.298\nteam[T.Tottenham]                0.0847      0.185      0.457      0.647      -0.279       0.448\nteam[T.Watford]                 -0.4266      0.214     -1.995      0.046      -0.846      -0.007\nteam[T.West Ham]                -0.1195      0.196     -0.610      0.542      -0.504       0.264\nteam[T.Wolves]                  -0.1019      0.194     -0.526      0.599      -0.482       0.278\nopponent[T.Aston Villa]          0.3191      0.189      1.685      0.092      -0.052       0.690\nopponent[T.Bournemouth]          0.2876      0.191      1.509      0.131      -0.086       0.661\nopponent[T.Brighton]             0.1008      0.199      0.507      0.612      -0.289       0.490\nopponent[T.Burnley]              0.0277      0.202      0.137      0.891      -0.369       0.424\nopponent[T.Chelsea]              0.1316      0.199      0.663      0.508      -0.258       0.521\nopponent[T.Crystal Palace]       0.0156      0.202      0.077      0.938      -0.381       0.412\nopponent[T.Everton]              0.1423      0.197      0.722      0.470      -0.244       0.528\nopponent[T.Leicester]           -0.1468      0.213     -0.689      0.491      -0.564       0.271\nopponent[T.Liverpool]           -0.3459      0.226     -1.527      0.127      -0.790       0.098\nopponent[T.Man City]            -0.2690      0.223     -1.208      0.227      -0.705       0.167\nopponent[T.Man United]          -0.2782      0.221     -1.260      0.208      -0.711       0.154\nopponent[T.Newcastle]            0.1714      0.195      0.877      0.380      -0.212       0.554\nopponent[T.Norwich]              0.4168      0.185      2.252      0.024       0.054       0.780\nopponent[T.Sheffield United]    -0.2252      0.216     -1.044      0.297      -0.648       0.198\nopponent[T.Southampton]          0.2187      0.194      1.128      0.260      -0.161       0.599\nopponent[T.Tottenham]           -0.0160      0.206     -0.078      0.938      -0.419       0.387\nopponent[T.Watford]              0.2680      0.191      1.402      0.161      -0.107       0.643\nopponent[T.West Ham]             0.2495      0.193      1.296      0.195      -0.128       0.627\nopponent[T.Wolves]              -0.1878      0.214     -0.876      0.381      -0.608       0.232\nhome                             0.2292      0.063      3.662      0.000       0.107       0.352\n================================================================================================\n\"\"\"",
      "text/html": "<table class=\"simpletable\">\n<caption>Generalized Linear Model Regression Results</caption>\n<tr>\n  <th>Dep. Variable:</th>         <td>goals</td>      <th>  No. Observations:  </th>  <td>   760</td> \n</tr>\n<tr>\n  <th>Model:</th>                  <td>GLM</td>       <th>  Df Residuals:      </th>  <td>   720</td> \n</tr>\n<tr>\n  <th>Model Family:</th>         <td>Poisson</td>     <th>  Df Model:          </th>  <td>    39</td> \n</tr>\n<tr>\n  <th>Link Function:</th>          <td>Log</td>       <th>  Scale:             </th> <td>  1.0000</td>\n</tr>\n<tr>\n  <th>Method:</th>                <td>IRLS</td>       <th>  Log-Likelihood:    </th> <td> -1057.7</td>\n</tr>\n<tr>\n  <th>Date:</th>            <td>Thu, 09 Mar 2023</td> <th>  Deviance:          </th> <td>  765.20</td>\n</tr>\n<tr>\n  <th>Time:</th>                <td>08:59:11</td>     <th>  Pearson chi2:      </th>  <td>  655.</td> \n</tr>\n<tr>\n  <th>No. Iterations:</th>          <td>5</td>        <th>  Pseudo R-squ. (CS):</th>  <td>0.2118</td> \n</tr>\n<tr>\n  <th>Covariance Type:</th>     <td>nonrobust</td>    <th>                     </th>     <td> </td>   \n</tr>\n</table>\n<table class=\"simpletable\">\n<tr>\n                <td></td>                  <th>coef</th>     <th>std err</th>      <th>z</th>      <th>P>|z|</th>  <th>[0.025</th>    <th>0.975]</th>  \n</tr>\n<tr>\n  <th>Intercept</th>                    <td>    0.1957</td> <td>    0.202</td> <td>    0.967</td> <td> 0.334</td> <td>   -0.201</td> <td>    0.593</td>\n</tr>\n<tr>\n  <th>team[T.Aston Villa]</th>          <td>   -0.2932</td> <td>    0.206</td> <td>   -1.424</td> <td> 0.154</td> <td>   -0.697</td> <td>    0.110</td>\n</tr>\n<tr>\n  <th>team[T.Bournemouth]</th>          <td>   -0.3200</td> <td>    0.207</td> <td>   -1.544</td> <td> 0.123</td> <td>   -0.726</td> <td>    0.086</td>\n</tr>\n<tr>\n  <th>team[T.Brighton]</th>             <td>   -0.3566</td> <td>    0.209</td> <td>   -1.708</td> <td> 0.088</td> <td>   -0.766</td> <td>    0.053</td>\n</tr>\n<tr>\n  <th>team[T.Burnley]</th>              <td>   -0.2628</td> <td>    0.203</td> <td>   -1.294</td> <td> 0.196</td> <td>   -0.661</td> <td>    0.135</td>\n</tr>\n<tr>\n  <th>team[T.Chelsea]</th>              <td>    0.2157</td> <td>    0.180</td> <td>    1.197</td> <td> 0.231</td> <td>   -0.137</td> <td>    0.569</td>\n</tr>\n<tr>\n  <th>team[T.Crystal Palace]</th>       <td>   -0.5906</td> <td>    0.224</td> <td>   -2.636</td> <td> 0.008</td> <td>   -1.030</td> <td>   -0.151</td>\n</tr>\n<tr>\n  <th>team[T.Everton]</th>              <td>   -0.2336</td> <td>    0.202</td> <td>   -1.158</td> <td> 0.247</td> <td>   -0.629</td> <td>    0.162</td>\n</tr>\n<tr>\n  <th>team[T.Leicester]</th>            <td>    0.1727</td> <td>    0.181</td> <td>    0.952</td> <td> 0.341</td> <td>   -0.183</td> <td>    0.528</td>\n</tr>\n<tr>\n  <th>team[T.Liverpool]</th>            <td>    0.4031</td> <td>    0.172</td> <td>    2.339</td> <td> 0.019</td> <td>    0.065</td> <td>    0.741</td>\n</tr>\n<tr>\n  <th>team[T.Man City]</th>             <td>    0.5881</td> <td>    0.167</td> <td>    3.530</td> <td> 0.000</td> <td>    0.262</td> <td>    0.915</td>\n</tr>\n<tr>\n  <th>team[T.Man United]</th>           <td>    0.1525</td> <td>    0.182</td> <td>    0.838</td> <td> 0.402</td> <td>   -0.204</td> <td>    0.509</td>\n</tr>\n<tr>\n  <th>team[T.Newcastle]</th>            <td>   -0.3786</td> <td>    0.210</td> <td>   -1.799</td> <td> 0.072</td> <td>   -0.791</td> <td>    0.034</td>\n</tr>\n<tr>\n  <th>team[T.Norwich]</th>              <td>   -0.7416</td> <td>    0.238</td> <td>   -3.121</td> <td> 0.002</td> <td>   -1.207</td> <td>   -0.276</td>\n</tr>\n<tr>\n  <th>team[T.Sheffield United]</th>     <td>   -0.3716</td> <td>    0.209</td> <td>   -1.780</td> <td> 0.075</td> <td>   -0.781</td> <td>    0.038</td>\n</tr>\n<tr>\n  <th>team[T.Southampton]</th>          <td>   -0.0815</td> <td>    0.194</td> <td>   -0.420</td> <td> 0.674</td> <td>   -0.461</td> <td>    0.298</td>\n</tr>\n<tr>\n  <th>team[T.Tottenham]</th>            <td>    0.0847</td> <td>    0.185</td> <td>    0.457</td> <td> 0.647</td> <td>   -0.279</td> <td>    0.448</td>\n</tr>\n<tr>\n  <th>team[T.Watford]</th>              <td>   -0.4266</td> <td>    0.214</td> <td>   -1.995</td> <td> 0.046</td> <td>   -0.846</td> <td>   -0.007</td>\n</tr>\n<tr>\n  <th>team[T.West Ham]</th>             <td>   -0.1195</td> <td>    0.196</td> <td>   -0.610</td> <td> 0.542</td> <td>   -0.504</td> <td>    0.264</td>\n</tr>\n<tr>\n  <th>team[T.Wolves]</th>               <td>   -0.1019</td> <td>    0.194</td> <td>   -0.526</td> <td> 0.599</td> <td>   -0.482</td> <td>    0.278</td>\n</tr>\n<tr>\n  <th>opponent[T.Aston Villa]</th>      <td>    0.3191</td> <td>    0.189</td> <td>    1.685</td> <td> 0.092</td> <td>   -0.052</td> <td>    0.690</td>\n</tr>\n<tr>\n  <th>opponent[T.Bournemouth]</th>      <td>    0.2876</td> <td>    0.191</td> <td>    1.509</td> <td> 0.131</td> <td>   -0.086</td> <td>    0.661</td>\n</tr>\n<tr>\n  <th>opponent[T.Brighton]</th>         <td>    0.1008</td> <td>    0.199</td> <td>    0.507</td> <td> 0.612</td> <td>   -0.289</td> <td>    0.490</td>\n</tr>\n<tr>\n  <th>opponent[T.Burnley]</th>          <td>    0.0277</td> <td>    0.202</td> <td>    0.137</td> <td> 0.891</td> <td>   -0.369</td> <td>    0.424</td>\n</tr>\n<tr>\n  <th>opponent[T.Chelsea]</th>          <td>    0.1316</td> <td>    0.199</td> <td>    0.663</td> <td> 0.508</td> <td>   -0.258</td> <td>    0.521</td>\n</tr>\n<tr>\n  <th>opponent[T.Crystal Palace]</th>   <td>    0.0156</td> <td>    0.202</td> <td>    0.077</td> <td> 0.938</td> <td>   -0.381</td> <td>    0.412</td>\n</tr>\n<tr>\n  <th>opponent[T.Everton]</th>          <td>    0.1423</td> <td>    0.197</td> <td>    0.722</td> <td> 0.470</td> <td>   -0.244</td> <td>    0.528</td>\n</tr>\n<tr>\n  <th>opponent[T.Leicester]</th>        <td>   -0.1468</td> <td>    0.213</td> <td>   -0.689</td> <td> 0.491</td> <td>   -0.564</td> <td>    0.271</td>\n</tr>\n<tr>\n  <th>opponent[T.Liverpool]</th>        <td>   -0.3459</td> <td>    0.226</td> <td>   -1.527</td> <td> 0.127</td> <td>   -0.790</td> <td>    0.098</td>\n</tr>\n<tr>\n  <th>opponent[T.Man City]</th>         <td>   -0.2690</td> <td>    0.223</td> <td>   -1.208</td> <td> 0.227</td> <td>   -0.705</td> <td>    0.167</td>\n</tr>\n<tr>\n  <th>opponent[T.Man United]</th>       <td>   -0.2782</td> <td>    0.221</td> <td>   -1.260</td> <td> 0.208</td> <td>   -0.711</td> <td>    0.154</td>\n</tr>\n<tr>\n  <th>opponent[T.Newcastle]</th>        <td>    0.1714</td> <td>    0.195</td> <td>    0.877</td> <td> 0.380</td> <td>   -0.212</td> <td>    0.554</td>\n</tr>\n<tr>\n  <th>opponent[T.Norwich]</th>          <td>    0.4168</td> <td>    0.185</td> <td>    2.252</td> <td> 0.024</td> <td>    0.054</td> <td>    0.780</td>\n</tr>\n<tr>\n  <th>opponent[T.Sheffield United]</th> <td>   -0.2252</td> <td>    0.216</td> <td>   -1.044</td> <td> 0.297</td> <td>   -0.648</td> <td>    0.198</td>\n</tr>\n<tr>\n  <th>opponent[T.Southampton]</th>      <td>    0.2187</td> <td>    0.194</td> <td>    1.128</td> <td> 0.260</td> <td>   -0.161</td> <td>    0.599</td>\n</tr>\n<tr>\n  <th>opponent[T.Tottenham]</th>        <td>   -0.0160</td> <td>    0.206</td> <td>   -0.078</td> <td> 0.938</td> <td>   -0.419</td> <td>    0.387</td>\n</tr>\n<tr>\n  <th>opponent[T.Watford]</th>          <td>    0.2680</td> <td>    0.191</td> <td>    1.402</td> <td> 0.161</td> <td>   -0.107</td> <td>    0.643</td>\n</tr>\n<tr>\n  <th>opponent[T.West Ham]</th>         <td>    0.2495</td> <td>    0.193</td> <td>    1.296</td> <td> 0.195</td> <td>   -0.128</td> <td>    0.627</td>\n</tr>\n<tr>\n  <th>opponent[T.Wolves]</th>           <td>   -0.1878</td> <td>    0.214</td> <td>   -0.876</td> <td> 0.381</td> <td>   -0.608</td> <td>    0.232</td>\n</tr>\n<tr>\n  <th>home</th>                         <td>    0.2292</td> <td>    0.063</td> <td>    3.662</td> <td> 0.000</td> <td>    0.107</td> <td>    0.352</td>\n</tr>\n</table>"
     },
     "execution_count": 45,
     "metadata": {},
     "output_type": "execute_result"
    }
   ],
   "source": [
    "poisson_model: GLMResultsWrapper = smf.glm(formula=\"goals ~ home + team + opponent\",\n",
    "                                           data=goal_model_data,\n",
    "                                           family=sm.families.Poisson()).fit()\n",
    "poisson_model.summary()"
   ],
   "metadata": {
    "collapsed": false
   }
  },
  {
   "cell_type": "markdown",
   "source": [
    "In the result above, the *intercept* refers to the first team in our data i.e. Arsenal. Some observations from the model summary are:\n",
    "- As the y-variable is the number of goals scored, coefficients of the home team (starting with `team`) represents how many more or fewer goals they score as compared to Arsenal per game. We see that only a handful of teams like Manchester City, Liverpool do better on this metric than Arsenal.\n",
    "- The coefficients of the away team (starting with `opponent`) indicate how many goals more does a team concede per game as compared to Arsenal.\n",
    "- We need to pay attention to the significance of these coefficients i.e. the $P > |z|$ column. A coefficient is said to be statistically significant if its p-value is less than `0.05`. When we consider the P-value, we see that only Manchester City and Liverpool score statistically significant more goals than Arsenal. Watford, Norwich, and Crystal Palace. We cannot make the same argument for any team conceding more goals than Arsenal.\n",
    "- Regardless of the fixed effects, we can see that playing at home carries a significant advantage in terms of the number of goals scored.\n",
    "\n",
    "Let us now consider the home team to be Manchester City and the away team to the Arsenal. We can use the model to predict the goals scored by each team in this case."
   ],
   "metadata": {
    "collapsed": false
   }
  },
  {
   "cell_type": "code",
   "execution_count": 46,
   "outputs": [],
   "source": [
    "home_team: str = \"Man City\"\n",
    "away_team: str = \"Arsenal\""
   ],
   "metadata": {
    "collapsed": false
   }
  },
  {
   "cell_type": "code",
   "execution_count": 51,
   "outputs": [
    {
     "name": "stdout",
     "output_type": "stream",
     "text": [
      "Man City against Arsenal expect to score: 2.75\n",
      "Arsenal against Man City expect to score: 0.93\n"
     ]
    }
   ],
   "source": [
    "home_score_rate: pd.DataFrame = poisson_model.predict(\n",
    "    pd.DataFrame(\n",
    "        data={\n",
    "            \"team\": home_team,\n",
    "            \"opponent\": away_team,\n",
    "            \"home\": 1\n",
    "        },\n",
    "        index=[1]\n",
    "    )\n",
    ")\n",
    "away_score_rate: pd.DataFrame = poisson_model.predict(\n",
    "    pd.DataFrame(\n",
    "        data={\n",
    "            \"team\": away_team,\n",
    "            \"opponent\": home_team,\n",
    "            \"home\": 0\n",
    "        },\n",
    "        index=[1]\n",
    "    )\n",
    ")\n",
    "print(f\"{home_team} against {away_team} expect to score: {round(home_score_rate.loc[1], 2)}\")\n",
    "print(f\"{away_team} against {home_team} expect to score: {round(away_score_rate.loc[1], 2)}\")"
   ],
   "metadata": {
    "collapsed": false
   }
  },
  {
   "cell_type": "markdown",
   "source": [
    "Given that we derived the results from a Poisson model, the predictions above can be considered as the mean of the distribution. We can then simulate multiple matches between these two teams by providing this mean to the Poisson distribution.\n",
    "\n",
    "Let us write a function to do so. In this function, we will compute two lists, one each for the home and away team. The list represents the probability of the team scoring $i$ goals, where $i$ is the index (starting at 0), given the probability derived from our Poisson model. We then compute an outer matrix product of the two lists to yield the probabilities of various scorelines like 0-0, 1-0, etc."
   ],
   "metadata": {
    "collapsed": false
   }
  },
  {
   "cell_type": "code",
   "execution_count": 63,
   "outputs": [],
   "source": [
    "def simulate_matches(\n",
    "        goal_model: GLMResultsWrapper,\n",
    "        home_side: str,\n",
    "        away_side: str,\n",
    "        max_goals: int = 10\n",
    "):\n",
    "    mean_home_goals: float = goal_model.predict(\n",
    "        pd.DataFrame(\n",
    "            data={\n",
    "                \"team\": home_side,\n",
    "                \"opponent\": away_side,\n",
    "                \"home\": 1\n",
    "            },\n",
    "            index=[1]\n",
    "        )\n",
    "    ).loc[1]\n",
    "    mean_away_goals: float = goal_model.predict(\n",
    "        pd.DataFrame(\n",
    "            data={\n",
    "                \"team\": away_side,\n",
    "                \"opponent\": home_side,\n",
    "                \"home\": 0\n",
    "            },\n",
    "            index=[1]\n",
    "        )\n",
    "    ).loc[1]\n",
    "\n",
    "    i: int\n",
    "    team_mean: tuple\n",
    "    # Given the mean scoring rate of a team, compute the probability that a team will\n",
    "    # score `i` goals.\n",
    "    simulated_goals: list = [[poisson.pmf(i, team_mean)\n",
    "                              for i in range(0, (max_goals + 1))]\n",
    "                              for team_mean in [mean_home_goals, mean_away_goals]]\n",
    "\n",
    "    return np.outer(np.array(simulated_goals[0]), np.array(simulated_goals[1]))"
   ],
   "metadata": {
    "collapsed": false
   }
  },
  {
   "cell_type": "code",
   "execution_count": 64,
   "outputs": [
    {
     "data": {
      "text/plain": "array([[0.02513598, 0.02336056, 0.01085528, 0.00336285, 0.00078133,\n        0.00014523],\n       [0.06922668, 0.06433704, 0.02989638, 0.00926158, 0.00215185,\n        0.00039997],\n       [0.09532816, 0.08859491, 0.04116862, 0.0127536 , 0.0029632 ,\n        0.00055078],\n       [0.08751403, 0.08133271, 0.037794  , 0.01170817, 0.0027203 ,\n        0.00050563],\n       [0.06025532, 0.05599935, 0.02602199, 0.00806133, 0.00187299,\n        0.00034814],\n       [0.03318969, 0.03084542, 0.01433337, 0.00444032, 0.00103167,\n        0.00019176]])"
     },
     "execution_count": 64,
     "metadata": {},
     "output_type": "execute_result"
    }
   ],
   "source": [
    "required_max_goals: int = 5\n",
    "score_matrix: np.ndarray = simulate_matches(poisson_model, home_team, away_team, max_goals=required_max_goals)\n",
    "score_matrix"
   ],
   "metadata": {
    "collapsed": false
   }
  },
  {
   "cell_type": "markdown",
   "source": [
    "In the table above, the rows represent the number of goals scored by Manchester City and the column represent goals by Arsenal. We see that the 2-0 scoreline has the highest probability.\n",
    "\n",
    "Instead of focusing further on the numbers, let us create a heatmap of these probabilities to make it easier to read the results."
   ],
   "metadata": {
    "collapsed": false
   }
  },
  {
   "cell_type": "code",
   "execution_count": 70,
   "outputs": [
    {
     "data": {
      "text/plain": "<Figure size 472.441x314.961 with 2 Axes>",
      "image/png": "[encoded data removed]"
     },
     "metadata": {},
     "output_type": "display_data"
    }
   ],
   "source": [
    "fig = plt.figure()\n",
    "ax = fig.add_subplot(1, 1, 1)\n",
    "\n",
    "pos=ax.imshow(score_matrix,\n",
    "              aspect=\"auto\",\n",
    "              cmap=plt.cm.Reds)\n",
    "fig.colorbar(pos, ax=ax)\n",
    "ax.set_title(\"Probability of outcome\")\n",
    "plt.xlim((-0.5, 5.5))\n",
    "plt.ylim((-0.5, 5.5))\n",
    "plt.tight_layout()\n",
    "ax.set_xlabel(f\"Goals scored by {away_team}\")\n",
    "ax.set_ylabel(f\"Goals scored by {home_team}\")\n",
    "plt.show()"
   ],
   "metadata": {
    "collapsed": false
   }
  },
  {
   "cell_type": "markdown",
   "source": [
    "We can see that our model mostly predicts a win for Manchester city with them scoring 2-3 goals and Arsenal scoring 1-2 goals."
   ],
   "metadata": {
    "collapsed": false
   }
  },
  {
   "cell_type": "code",
   "execution_count": null,
   "outputs": [],
   "source": [],
   "metadata": {
    "collapsed": false
   }
  }
 ],
 "metadata": {
  "kernelspec": {
   "display_name": "Python 3",
   "language": "python",
   "name": "python3"
  },
  "language_info": {
   "codemirror_mode": {
    "name": "ipython",
    "version": 2
   },
   "file_extension": ".py",
   "mimetype": "text/x-python",
   "name": "python",
   "nbconvert_exporter": "python",
   "pygments_lexer": "ipython2",
   "version": "2.7.6"
  }
 },
 "nbformat": 4,
 "nbformat_minor": 0
}
