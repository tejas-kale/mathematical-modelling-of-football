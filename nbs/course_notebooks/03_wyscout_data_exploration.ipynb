{
 "cells": [
  {
   "cell_type": "markdown",
   "metadata": {},
   "source": [
    "# Exploring spatio-temporal events using public soccer-logs"
   ]
  },
  {
   "cell_type": "markdown",
   "metadata": {},
   "source": [
    "All the material of this tutorial can be found in:\n",
    "- https://github.com/Friends-of-Tracking-Data-FoTD/mapping-match-events-in-Python\n",
    "- https://github.com/jonpappalord/soccer_logs_exploration\n",
    "\n",
    "The data used in the notebook can be found in: \n",
    "\n",
    "- Pappalardo, Luca; Massucco, Emanuele (2019): Soccer match event dataset. figshare. Collection. https://doi.org/10.6084/m9.figshare.c.4415000.v5\n",
    "\n",
    "A detailed description of the data can be found in the following paper (please cite it if you use the data or the following code):\n",
    "\n",
    "\n",
    "- Pappalardo, L., Cintia, P., Rossi, A. et al. **A public data set of spatio-temporal match events in soccer competitions**. Scientific Data 6, 236 (2019) doi:10.1038/s41597-019-0247-7, https://www.nature.com/articles/s41597-019-0247-7"
   ]
  },
  {
   "cell_type": "markdown",
   "metadata": {},
   "source": [
    "## Outline of the notebook\n",
    "\n",
    "1. [Import libraries](#import_libraries)\n",
    "2. [Load public datasets](#load_public_dataset)\n",
    "3. [How are the data collected?](#data_collection)\n",
    "4. [Structure of data](#structure_of_data)\n",
    "    1. [Players](#players)\n",
    "    2. [Competitions](#competitions)\n",
    "    3. [Matches](#matches)\n",
    "    4. [Events](#events) \n",
    "5. [Basic statistics on events](#basic_statistics)\n",
    "    1. [Frequency of events by type](#frequency_by_type)\n",
    "    2. [Distribution of number of events per match](#events_per_match)\n",
    "6. [Plot events on the field](#plot_events_on_field)\n",
    "    1. [Static plot](#static_plot)\n",
    "    2. [Interactive plot](#interactive_plot)\n",
    "7. [Spatial distribution of events](#spatial_distribution_events)\n",
    "8. [Intra-match evolution](#intra_match_evolution)\n",
    "9. [Advanced statistics](#advanced_statistics)\n",
    "    1. [Passing networks](#passing_networks)\n",
    "    2. [Flow centrality](#flow_centrality)\n",
    "    3. [PlayeRank](#playerank)"
   ]
  },
  {
   "cell_type": "markdown",
   "metadata": {},
   "source": [
    "## 1. <a id='import_libraries'>Import libraries</a>"
   ]
  },
  {
   "cell_type": "code",
   "execution_count": null,
   "metadata": {},
   "outputs": [],
   "source": [
    "%matplotlib inline\n",
    "\n",
    "from src.utils import *\n",
    "from plot_utils import *\n",
    "from src.metrics import *\n",
    "\n",
    "import warnings\n",
    "warnings.filterwarnings('ignore')\n",
    "\n",
    "init_notebook_mode(connected=True)"
   ]
  },
  {
   "cell_type": "markdown",
   "metadata": {},
   "source": [
    "## 2. <a id='load_public_dataset'>Load public datasets</a>\n",
    "Here we import the *matches*, *events*, *players*, and *competition* data sets from the <a href=\"https://doi.org/10.6084/m9.figshare.c.4415000.v5\">figshare repository</a>. Data are stored in `.json` format. \n",
    "\n",
    "we set up a script to download the dataset and store it into *data* folder. \n",
    "\n",
    "The data set contains:\n",
    "- 1,941 matches\n",
    "- 3,251,294 events\n",
    "- 4,299 players."
   ]
  },
  {
   "cell_type": "code",
   "execution_count": null,
   "metadata": {},
   "outputs": [],
   "source": [
    "data_download() # automatic download from public figshare repository"
   ]
  },
  {
   "cell_type": "code",
   "execution_count": null,
   "metadata": {},
   "outputs": [],
   "source": [
    "match_id2match, match_id2events, player_id2player, competition_id2competition, team_id2team = load_public_dataset()\n"
   ]
  },
  {
   "cell_type": "code",
   "execution_count": null,
   "metadata": {},
   "outputs": [],
   "source": [
    "[competition['name'] for competition in competition_id2competition.values()]"
   ]
  },
  {
   "cell_type": "markdown",
   "metadata": {},
   "source": [
    "## 3. <a id='data_collection'>How are data collected?</a>\n",
    "\n",
    "The process of tagging the soccer events from a match video. **(a)** Screenshot from the tagging software. An action is tagged by an operator via a special custom keyboard, thus creating a new event on the match timeline. **(b)** When the event position on the pitch is set, the shot specific input module appears (top). Event related input modules also appear for setting additional attributes of the occurring event (bottom).\n",
    "More details here: https://www.nature.com/articles/s41597-019-0247-7\n",
    "\n",
    "![Events tagging process](system_figure.jpg \"Events tagging process\")"
   ]
  },
  {
   "cell_type": "markdown",
   "metadata": {},
   "source": [
    "## 4. <a id='structure_of_data'>Structure of data<a/>"
   ]
  },
  {
   "cell_type": "markdown",
   "metadata": {},
   "source": [
    "### 4.A. <a id='players'>Players</a>"
   ]
  },
  {
   "cell_type": "code",
   "execution_count": null,
   "metadata": {},
   "outputs": [],
   "source": [
    "a_player = list(player_id2player.keys())[0]\n",
    "player_id2player[a_player]"
   ]
  },
  {
   "cell_type": "code",
   "execution_count": null,
   "metadata": {},
   "outputs": [],
   "source": [
    "heights = [player['height'] for player in player_id2player.values() if player['height'] > 0]\n",
    "plt.hist(heights, rwidth=0.8)\n",
    "plt.xlabel('height [cm]', fontsize=20)\n",
    "plt.ylabel('frequency', fontsize=20)\n",
    "plt.show()"
   ]
  },
  {
   "cell_type": "markdown",
   "metadata": {},
   "source": [
    "### 4.B. <a id='competitions'>Competitions</a>"
   ]
  },
  {
   "cell_type": "code",
   "execution_count": null,
   "metadata": {},
   "outputs": [],
   "source": [
    "first_competition = list(competition_id2competition.keys())[0]\n",
    "competition_id2competition[first_competition]"
   ]
  },
  {
   "cell_type": "markdown",
   "metadata": {},
   "source": [
    "### 4.C. <a id='matches'>Matches</a>"
   ]
  },
  {
   "cell_type": "code",
   "execution_count": null,
   "metadata": {},
   "outputs": [],
   "source": [
    "a_match = list(match_id2match.keys())[0]\n",
    "match_id2match[a_match]#['teamsData'].keys()"
   ]
  },
  {
   "cell_type": "markdown",
   "metadata": {},
   "source": [
    "### Count goals in a season"
   ]
  },
  {
   "cell_type": "code",
   "execution_count": null,
   "metadata": {},
   "outputs": [],
   "source": [
    "match_id2match[a_match]['label']"
   ]
  },
  {
   "cell_type": "code",
   "execution_count": null,
   "metadata": {},
   "outputs": [],
   "source": [
    "sum_goals = 0\n",
    "for match_id, match in match_id2match.items():\n",
    "    goals = match['label'].split(', ')[1].split(' - ')\n",
    "    goals = [int(goal) for goal in goals]\n",
    "    sum_goals += sum(goals)\n",
    "sum_goals"
   ]
  },
  {
   "cell_type": "markdown",
   "metadata": {},
   "source": [
    "### Count average goals per match"
   ]
  },
  {
   "cell_type": "code",
   "execution_count": null,
   "metadata": {},
   "outputs": [],
   "source": [
    "goals_in_match = []\n",
    "for match_id, match in match_id2match.items():\n",
    "    goals = match['label'].split(', ')[1].split(' - ')\n",
    "    goals = [int(goal) for goal in goals]\n",
    "    goals_in_match.append(sum(goals))\n",
    "round(np.mean(goals_in_match), 2)"
   ]
  },
  {
   "cell_type": "markdown",
   "metadata": {},
   "source": [
    "### 4.D. <a id='events'>Events</a>"
   ]
  },
  {
   "cell_type": "code",
   "execution_count": null,
   "metadata": {},
   "outputs": [],
   "source": [
    "match_id2events[a_match][0]"
   ]
  },
  {
   "cell_type": "markdown",
   "metadata": {},
   "source": [
    "### List distinct combination of event types and subtypes\n",
    "refer to https://apidocs.wyscout.com/ for further information about event and subevents"
   ]
  },
  {
   "cell_type": "code",
   "execution_count": null,
   "metadata": {},
   "outputs": [],
   "source": [
    "event_types = []\n",
    "for match_id, events in match_id2events.items():\n",
    "    for event in events:\n",
    "        event_types.append((event['eventName'], event['subEventName']))\n",
    "set(event_types)"
   ]
  },
  {
   "cell_type": "markdown",
   "metadata": {},
   "source": [
    "## 5. <a id='basic_statistics'>Basic statistics</a>"
   ]
  },
  {
   "cell_type": "markdown",
   "metadata": {},
   "source": [
    "### 5.A. <a id=\"frequency_by_type\">Frequency of events per type</a>\n",
    "\n",
    "For each event type, we plot how frequent it is in the events data set."
   ]
  },
  {
   "cell_type": "code",
   "execution_count": null,
   "metadata": {},
   "outputs": [],
   "source": [
    "events_list = []\n",
    "for match_id, events in match_id2events.items():\n",
    "    for event in events:\n",
    "        events_list.append(event['eventName'])\n",
    "\n",
    "count = Counter(events_list)\n",
    "# express frequency in percentage\n",
    "counter = {}\n",
    "for i, n_events in zip(count.keys(), count.values()):\n",
    "    counter[i] = int(float(n_events)/len(events_list)*100)\n",
    "sorted_d = np.array(sorted(counter.items(), key=operator.itemgetter(1), reverse=False))\n",
    "\n",
    "#bar plot\n",
    "fig, ax = plt.subplots(figsize=(8,6))\n",
    "plt.barh(list(sorted_d[:,0]),[int(x) for x in list(sorted_d[:,1])])\n",
    "plt.xticks(rotation=90);plt.xticks(fontsize=18)\n",
    "plt.xlabel('events (%)', fontsize=25)\n",
    "plt.yticks(fontsize=18)\n",
    "plt.grid(alpha=0.3)\n",
    "fig.tight_layout()\n",
    "plt.show()"
   ]
  },
  {
   "cell_type": "markdown",
   "metadata": {},
   "source": [
    "### 5.B. <a id='events_per_match'>Distribution of the number of events per match</a>\n",
    "We compute the number of events in each match. We then plot the distribution of this quantity."
   ]
  },
  {
   "cell_type": "code",
   "execution_count": null,
   "metadata": {},
   "outputs": [],
   "source": [
    "values = [len(events) for events in match_id2events.values()]\n",
    "avg_n_events = np.mean(values)\n",
    "std_n_events = np.std(values)\n",
    "\n",
    "fig, ax = plt.subplots(figsize=(8,6))\n",
    "plt.hist(values, rwidth=0.9, bins=20)\n",
    "plt.grid(alpha=0.3)\n",
    "plt.yticks(fontsize=18)\n",
    "plt.xlabel('events (n)', fontsize=25)\n",
    "plt.ylabel('frequency (n)', fontsize=25)\n",
    "plt.xticks(fontsize=18)\n",
    "plt.text(0.1, 0.7, \n",
    "         '$\\mu$ = %i\\n$\\sigma$ = %i'%(avg_n_events, std_n_events), \n",
    "         fontsize=25, transform=ax.transAxes)\n",
    "fig.tight_layout()\n",
    "plt.show()"
   ]
  },
  {
   "cell_type": "markdown",
   "metadata": {},
   "source": [
    "## 6. <a id='plot_events_on_field'>Plot events on the field</a>\n",
    "We take an examplar match and plot on a soccer field all the events of the two teams. Each event is plotted on the position of the field where it has occurred."
   ]
  },
  {
   "cell_type": "code",
   "execution_count": null,
   "metadata": {},
   "outputs": [],
   "source": [
    "match_id = 2576335 # a single match in Italy\n",
    "match_events = match_id2events[match_id]\n",
    "match_label = match_id2match[match_id]['label']\n",
    "            \n",
    "match_df = pd.DataFrame(match_events)\n",
    "match_df.head()"
   ]
  },
  {
   "cell_type": "code",
   "execution_count": null,
   "metadata": {},
   "outputs": [],
   "source": [
    "match_df['x_start'] = [x[0]['x'] for x in match_df['positions']]\n",
    "match_df['y_start'] = [x[0]['y'] for x in match_df['positions']]"
   ]
  },
  {
   "cell_type": "markdown",
   "metadata": {},
   "source": [
    "### 6.A. <a id='static_plot'>Static plot</a>"
   ]
  },
  {
   "cell_type": "code",
   "execution_count": null,
   "metadata": {},
   "outputs": [],
   "source": [
    "team_1, team_2 = np.unique(match_df['teamId'])\n",
    "df_team_1 = match_df[match_df['teamId'] == team_1]\n",
    "df_team_2 = match_df[match_df['teamId'] == team_2]\n",
    "\n",
    "f = draw_pitch(\"white\", \"black\", \"h\", \"full\")\n",
    "plt.scatter(df_team_1['x_start'], df_team_1['y_start'], c='red', edgecolors=\"k\", zorder=12, \n",
    "            alpha=0.5, label='%s: %s events' %(team_id2team[team_1]['name'], len(df_team_1)))\n",
    "plt.scatter(df_team_2['x_start'], df_team_2['y_start'], marker='s', c='blue', edgecolors=\"w\", linewidth=0.25, zorder=12, \n",
    "            alpha=0.7, label='%s: %s events' %(team_id2team[team_2]['name'], len(df_team_2)))\n",
    "plt.legend(fontsize=20, bbox_to_anchor=(1.01, 1.05))\n",
    "plt.title(match_label, fontsize=20)\n",
    "plt.show()"
   ]
  },
  {
   "cell_type": "code",
   "execution_count": null,
   "metadata": {},
   "outputs": [],
   "source": [
    "def plot_events(match_id=2576335, team_id='both', event_name='all'):\n",
    "    \"\"\"\n",
    "    Plot the events onthe position where they have been generated.\n",
    "    \n",
    "    Parameters\n",
    "    ----------\n",
    "    match_id : int, optional\n",
    "        identifier of the match to plot\n",
    "        \n",
    "    team_id : str or int, optional\n",
    "        the identifier of the team to plot. \n",
    "        If 'both', it indicates to plot both teams The default is 'both'.\n",
    "        \n",
    "    event_name : str, optional\n",
    "        the type of the event to plot. If 'all', it plots all the events.\n",
    "        The defauult is 'all'.\n",
    "    \"\"\"\n",
    "    match_label = match_id2match[match_id]['label']\n",
    "    match_events = match_id2events[match_id]\n",
    "    selected_events = []\n",
    "    for event in match_events:\n",
    "        if team_id == 'both' or event['teamId'] == team_id:\n",
    "            if event_name == 'all' or event['eventName'] == event_name:\n",
    "                selected_events.append(event)\n",
    "    \n",
    "    match_df = pd.DataFrame(selected_events)\n",
    "    match_df['x_start'] = [x[0]['x'] for x in match_df['positions']]\n",
    "    match_df['y_start'] = [x[0]['y'] for x in match_df['positions']]\n",
    "    \n",
    "    if team_id == 'both':\n",
    "        team_1, team_2 = np.unique(match_df['teamId'])\n",
    "        df_team_1 = match_df[match_df['teamId'] == team_1]\n",
    "        df_team_2 = match_df[match_df['teamId'] == team_2]\n",
    "    else:\n",
    "        df_team = match_df[match_df['teamId'] == team_id]\n",
    "    \n",
    "    f = draw_pitch(\"white\", \"black\", \"h\", \"full\")\n",
    "    if team_id == 'both':\n",
    "        plt.scatter(df_team_1['x_start'], df_team_1['y_start'], c='red', edgecolors=\"k\", zorder=12, \n",
    "            alpha=0.5, label='%s: %s %s' %(team_id2team[team_1]['name'], len(df_team_1), 'events' if event_name=='all' else event_name))\n",
    "        plt.scatter(df_team_2['x_start'], df_team_2['y_start'], marker='s', c='blue', edgecolors=\"w\", linewidth=0.25, zorder=12, \n",
    "                    alpha=0.7, label='%s: %s %s' %(team_id2team[team_2]['name'], len(df_team_2), 'events' if event_name=='all' else event_name))\n",
    "        plt.legend(fontsize=20, bbox_to_anchor=(1.01, 1.05))\n",
    "    else:\n",
    "        plt.scatter(df_team['x_start'], df_team['y_start'], \n",
    "                    c='red', edgecolors=\"k\", zorder=12, alpha=0.5,\n",
    "                   label='%s: %s %s' %(team_id2team[team_id]['name'], len(df_team), 'events' if event_name=='all' else event_name))\n",
    "    plt.title(match_label, fontsize=20)\n",
    "    plt.legend(fontsize=20, bbox_to_anchor=(1.01, 1.05))\n",
    "    plt.show()\n",
    " "
   ]
  },
  {
   "cell_type": "code",
   "execution_count": null,
   "metadata": {},
   "outputs": [],
   "source": [
    "match_id, team1, team2 = 2576335, 3161, 3162\n",
    "plot_events(team_id=3161)\n",
    "plot_events(team_id=3162)\n",
    "plot_events(team_id='both')"
   ]
  },
  {
   "cell_type": "code",
   "execution_count": null,
   "metadata": {},
   "outputs": [],
   "source": [
    "match_id, team1, team2, event_name = 2576335, 3161, 3162, 'Foul'\n",
    "plot_events(team_id=3161, event_name=event_name)\n",
    "plot_events(team_id=3162, event_name=event_name)\n",
    "plot_events(team_id='both', event_name=event_name)"
   ]
  },
  {
   "cell_type": "markdown",
   "metadata": {},
   "source": [
    "### 6.B. <a id='interactive_plot'>Interactive plot</a>"
   ]
  },
  {
   "cell_type": "code",
   "execution_count": null,
   "metadata": {},
   "outputs": [],
   "source": [
    "def visualize_events(match_id=2576335, player_id='all', team_id='both', event_name='all'):\n",
    "    \"\"\"\n",
    "    Visualize all the events of a match on the soccer pitch.\n",
    "    \n",
    "    Parameters\n",
    "    ----------\n",
    "    match_id : int, optional\n",
    "        identifier of the match to plot\n",
    "        \n",
    "    team_id : str or int, optional\n",
    "        the identifier of the team to plot. \n",
    "        If 'both', it indicates to plot both teams The default is 'both'.\n",
    "        \n",
    "    event_name : str, optional\n",
    "        the type of the event to plot. If 'all', it plots all the events.\n",
    "        The defauult is 'all'.\n",
    "    \"\"\"\n",
    "    \n",
    "    match_events = []\n",
    "    for event in match_id2events[match_id]:\n",
    "        if team_id == 'both' or event['teamId'] == team_id:\n",
    "            if event_name == 'all' or event['eventName'] == event_name:\n",
    "                if player_id == 'all' or event['playerId'] == player_id:\n",
    "                    match_events.append(event)\n",
    "    \n",
    "    match = match_id2match[match_id] \n",
    "    match_label = match['label']\n",
    "    \n",
    "    team1, team2 = match['teamsData'].keys()\n",
    "    team_name1, team_name2 = team_id2team[int(team1)]['name'], team_id2team[int(team2)]['name']\n",
    "    \n",
    "    # Create and style traces\n",
    "    trace1 = go.Scatter(\n",
    "        x = [event['positions'][0]['x'] for event in match_events if str(event['teamId']) == team1],\n",
    "        y = [event['positions'][0]['y'] for event in match_events if str(event['teamId']) == team1],\n",
    "        text = ['%s by %s (%s)' %(event['eventName'], player_id2player[event['playerId']]['shortName'].encode('ascii', 'strict').decode('unicode-escape'), event['playerId']) for event in match_events if str(event['teamId']) == team1],\n",
    "        mode = 'markers',\n",
    "        name = team_name1,\n",
    "        marker = dict(\n",
    "            size = 8,\n",
    "            color = 'red',\n",
    "        )\n",
    "    )\n",
    "\n",
    "    trace2 = go.Scatter(\n",
    "        x = [event['positions'][0]['x'] for event in match_events if str(event['teamId']) == team2],\n",
    "        y = [event['positions'][0]['y'] for event in match_events if str(event['teamId']) == team2],\n",
    "        text = ['%s by %s (%s)' %(event['eventName'], player_id2player[event['playerId']]['shortName'].encode('ascii', 'strict').decode('unicode-escape'), event['playerId']) for event in match_events if str(event['teamId']) == team2],\n",
    "        mode = 'markers',\n",
    "        name = team_name2,\n",
    "        marker = dict(\n",
    "            size = 8,\n",
    "            color = 'blue',\n",
    "            symbol='square'\n",
    "        )\n",
    "    )\n",
    "\n",
    "    fig = dict(data=[trace1, trace2], layout=get_pitch_layout(match_label))\n",
    "    fig['data'][0]['name'] = team_name1\n",
    "    fig['data'][1]['name'] = team_name2\n",
    "    iplot(fig)"
   ]
  },
  {
   "cell_type": "code",
   "execution_count": null,
   "metadata": {},
   "outputs": [],
   "source": [
    "visualize_events(event_name='Pass')"
   ]
  },
  {
   "cell_type": "code",
   "execution_count": null,
   "metadata": {},
   "outputs": [],
   "source": [
    "visualize_events(event_name='Foul')"
   ]
  },
  {
   "cell_type": "code",
   "execution_count": null,
   "metadata": {},
   "outputs": [],
   "source": [
    "player_id = 116349\n",
    "visualize_events(event_name='Foul', player_id=player_id)"
   ]
  },
  {
   "cell_type": "markdown",
   "metadata": {},
   "source": [
    "## 7. <a id='spatial_distribution_events'>Spatial distribution of events</a>\n",
    "\n",
    "Distribution of positions per event type. Kernel density plots showing the distribution of the events’ positions during match. The darker is the green, the higher is the number of events in a specific field zone."
   ]
  },
  {
   "cell_type": "code",
   "execution_count": null,
   "metadata": {},
   "outputs": [],
   "source": [
    "def plot_kde_events_on_field(sample_size=10000):\n",
    "    \"\"\"\n",
    "    Generate density plots on the field for each event type\n",
    "    \n",
    "    Parameters\n",
    "    ----------\n",
    "    sample_size: int\n",
    "        random sample of values to use (default: 10000). The code becomes slow is you increase this value\n",
    "        significantly.\n",
    "    \"\"\"\n",
    "    positions = []\n",
    "    for match_events in match_id2events.values():\n",
    "        for event in match_events:\n",
    "            positions.append([event['eventName'], \n",
    "                              event['positions'][0]['x'], \n",
    "                              event['positions'][0]['y']])\n",
    "\n",
    "    positions_df = pd.DataFrame(positions, columns=['eventName','x','y'])\n",
    "\n",
    "    for event_type in EVENT_TYPES:\n",
    "        pos_event_df = positions_df[positions_df['eventName'] == event_type]\n",
    "        fig, ax = pitch()\n",
    "        if len(pos_event_df) >= sample_size:\n",
    "            x_y = pos_event_df[['x','y']].sample(sample_size).astype(float)\n",
    "        else:\n",
    "            x_y = pos_event_df[['x','y']].astype(float)\n",
    "        \n",
    "        sns.kdeplot(x_y['x'], x_y['y'], cmap = 'Greens', shade = True)\n",
    "        \n",
    "        plt.title(event_type, fontsize = 30)\n",
    "        plt.xlim(-1,101)\n",
    "        plt.ylim(-1,101)\n",
    "        plt.axis('off')\n",
    "        fig.tight_layout()\n",
    "        plt.show()"
   ]
  },
  {
   "cell_type": "code",
   "execution_count": null,
   "metadata": {},
   "outputs": [],
   "source": [
    "plot_kde_events_on_field(sample_size=10000)"
   ]
  },
  {
   "cell_type": "markdown",
   "metadata": {},
   "source": [
    "## 8. <a id='intra_match_evolution'>Intra-match evolution of the events</a>\n",
    "\n",
    "In-match evolution of the number of events. Number of events (e.g., goals on the top plot, yellow cards\n",
    "in the middle plot and the red cards in the bottom plot) that occur in all the matches in the data set, with time\n",
    "windows of 5 minutes."
   ]
  },
  {
   "cell_type": "code",
   "execution_count": null,
   "metadata": {},
   "outputs": [],
   "source": [
    "def in_match_evolution(event_name='Goal', event_tag=101):\n",
    "    \"\"\"\n",
    "    Plot the in-match evolution of the number of events of a specific type.\n",
    "    \n",
    "    Parameters\n",
    "    ----------\n",
    "    event_name : str, optional\n",
    "        the type of event to plot. The default is \"Goal\".\n",
    "        \n",
    "    event_tag : int, optional\n",
    "        the type of tag to plot. The default is 101.\n",
    "    \"\"\"\n",
    "    # slect specific event in accordance with event_tag\n",
    "    events_time = []\n",
    "    for match_id, match_events in match_id2events.items():\n",
    "        for event in match_events:\n",
    "            tags = event['tags']\n",
    "            for tag in tags:\n",
    "                if tag['id'] == event_tag:\n",
    "                    events_time.append([event['matchId'], \n",
    "                                        event['matchPeriod'], \n",
    "                                        event['eventSec']])\n",
    "                \n",
    "    # let us convert it into a DataFrame\n",
    "    event_df = pd.DataFrame(events_time, columns=['matchId','matchPeriod','eventSec'])\n",
    "    \n",
    "    # create figure\n",
    "    fig, ax = plt.subplots(figsize=(8,6))\n",
    "    \n",
    "    start_bin_2h = 11\n",
    "    \n",
    "    # define plot characteristics for 1H e 2H\n",
    "    for half, color_bar in zip(['1H','2H'],['blue','green']):\n",
    "        \n",
    "        # define DataFrame per half time\n",
    "        df_half = event_df[event_df['matchPeriod'] == half].sort_values(['matchPeriod','eventSec'])\n",
    "        \n",
    "        # create bins every 5 minutes\n",
    "        df_half['binned'] = df_half['eventSec'].pipe(lambda x: pd.to_timedelta(x, \"s\")).dt.floor(\"5min\").astype(\"category\").cat.codes\n",
    "        \n",
    "        # merge bins up to 45 minutes \n",
    "        df_half['binned'] = [9 if x>9 else x for x in df_half['binned']]\n",
    "        \n",
    "        # plot bin for second half\n",
    "        if half == '2H':\n",
    "            df_half['binned'] = [x+start_bin_2h for x in df_half['binned']]\n",
    "            \n",
    "        # barplot\n",
    "        count = Counter(df_half.binned)\n",
    "        barlist = plt.bar(count.keys(),count.values(),\n",
    "                          label=half,color=color_bar)\n",
    "        \n",
    "    plt.legend(loc=2, fontsize=15, frameon=True, shadow=True)\n",
    "    plt.xticks(list(range(0,23)),['0-5','5-10','10-15','15-20','20-25','25-30','30-35','35-40','40-45','>45','',\n",
    "                                  '45-50','50-55','55-60','60-65','65-70','70-75','75-80','80-85','85-90','>90'],\n",
    "              rotation=90, fontsize=18)\n",
    "    plt.yticks(fontsize=18)\n",
    "    max_count_value = np.max(list(count.values()))\n",
    "    plt.text(9.65, max_count_value-(max_count_value/100*10), 'half time', rotation=90, \n",
    "             bbox=dict(facecolor='w',edgecolor='r'),\n",
    "             verticalalignment='center', horizontalalignment='left', fontsize=15, \n",
    "             color='tomato')\n",
    "    plt.vlines(10, 0, max_count_value+(max_count_value/100*10),colors='r',alpha=0.5)\n",
    "    plt.ylim(0,max_count_value+(max_count_value/100*10))\n",
    "    plt.xlabel('match time (min)', fontsize=25)\n",
    "    plt.ylabel('%s (n)'%event_name, fontsize=25)\n",
    "    plt.grid(alpha=0.3)\n",
    "    fig.tight_layout()\n",
    "    plt.show()"
   ]
  },
  {
   "cell_type": "code",
   "execution_count": null,
   "metadata": {},
   "outputs": [],
   "source": [
    "in_match_evolution(event_name='Goal', event_tag=101)"
   ]
  },
  {
   "cell_type": "code",
   "execution_count": null,
   "metadata": {},
   "outputs": [],
   "source": [
    "in_match_evolution(event_name='Yellow Card', event_tag=1702)"
   ]
  },
  {
   "cell_type": "code",
   "execution_count": null,
   "metadata": {},
   "outputs": [],
   "source": [
    "in_match_evolution(event_name='Red Card', event_tag=1701)"
   ]
  },
  {
   "cell_type": "markdown",
   "metadata": {},
   "source": [
    "## 9. <a id='advanced_statistics'>Advanced Statistics</a>"
   ]
  },
  {
   "cell_type": "markdown",
   "metadata": {},
   "source": [
    "## 9.A. <a id=\"passing_networks\">Passing networks</a>\n",
    "A player passing network is a weighted network where nodes are players and weighted edges represent movements of the ball between players.\n",
    "\n",
    "In soccer-logs we do not have direct information about the destination player, i.e., the player to which the pass is directed. We infer this information by sorting all the events and looking at the outcome of each pass event. If the pass event of player $u_1$ of team $A$ is accurate and the next event   is by a teammate $u_2$, we assume that player $u_2$ is the destination player of the pass.\n",
    "\n",
    "```\n",
    "Cintia et al., The harsh rule of the goals: data-driven performance indicators for football teams, In Proceedings of the 2015 IEEE International Conference on Data Science and Advanced Analytics (DSAA'2015), 2015, https://ieeexplore.ieee.org/document/7344823.\n",
    "```"
   ]
  },
  {
   "cell_type": "code",
   "execution_count": null,
   "metadata": {},
   "outputs": [],
   "source": [
    "def passing_networks(match_id=2576105):\n",
    "    \"\"\"\n",
    "    Construct the passing networks of the teams in the match.\n",
    "    \n",
    "    Parameters\n",
    "    ----------\n",
    "    match_id : int, optional\n",
    "        identifier of the match to plot\n",
    "        \n",
    "    Returns\n",
    "    -------\n",
    "    tuple\n",
    "        the two constructed networks, as networkx objects.\n",
    "    \"\"\"\n",
    "    \n",
    "    # take the names of the two teams of the match\n",
    "    match_label = match_id2match[match_id]['label']\n",
    "    team1_name = match_label.split('-')[0].split(' ')[0]\n",
    "    team2_name = match_label.split('-')[1].split(' ')[1].split(',')[0]\n",
    "    \n",
    "    # take all the events of the match\n",
    "    match_events = []\n",
    "    for event in match_id2events[match_id]:\n",
    "        if event['eventName'] == 'Pass':\n",
    "            match_events.append(event)\n",
    "\n",
    "    match_events_df = pd.DataFrame(match_events)\n",
    "    first_half_max_duration = np.max(match_events_df[match_events_df['matchPeriod'] == '1H']['eventSec'])\n",
    "\n",
    "    # sum 1H time end to all the time in 2H\n",
    "    for event in match_events:\n",
    "        if event['matchPeriod'] == '2H':\n",
    "            event['eventSec'] += first_half_max_duration\n",
    "    \n",
    "    team2pass2weight = defaultdict(lambda: defaultdict(int))\n",
    "    for event, next_event, next_next_event in zip(match_events, match_events[1:], match_events[2:]):\n",
    "        try:\n",
    "            if event['eventName'] == 'Pass' and ACCURATE_PASS in [tag['id'] for tag in event['tags']]:\n",
    "                sender = player_id2player[event['playerId']]['shortName'].encode('ascii', 'strict').decode('unicode-escape')\n",
    "                # case of duel\n",
    "                if next_event['eventName'] == 'Duel':\n",
    "                    # if the next event of from a playero of the same tema\n",
    "                    if next_event['teamId'] == event['teamId']:\n",
    "                        receiver = player_id2player[next_event['playerId']]['shortName'].encode('ascii', 'strict').decode('unicode-escape')\n",
    "                        team2pass2weight[team_id2team[event['teamId']]['name']][(sender, receiver)] += 1\n",
    "                    else:\n",
    "                        receiver = player_id2player[next_next_event['playerId']]['shortName'].encode('ascii', 'strict').decode('unicode-escape')\n",
    "                        team2pass2weight[team_id2team[event['teamId']]['name']][(sender, receiver)] += 1\n",
    "                else:  # any other event \n",
    "                    if next_event['teamId'] == event['teamId']:\n",
    "                        receiver = player_id2player[next_event['playerId']]['shortName'].encode('ascii', 'strict').decode('unicode-escape')\n",
    "                        team2pass2weight[team_id2team[event['teamId']]['name']][(sender, receiver)] += 1\n",
    "        except KeyError:\n",
    "            pass\n",
    "    # crete networkx graphs\n",
    "    G1, G2 = nx.DiGraph(team=team1_name), nx.DiGraph(team=team2_name)\n",
    "    for (sender, receiver), weight in team2pass2weight[team1_name].items():\n",
    "        G1.add_edge(sender, receiver, weight=weight)\n",
    "    for (sender, receiver), weight in team2pass2weight[team2_name].items():\n",
    "        G2.add_edge(sender, receiver, weight=weight)    \n",
    "    \n",
    "    return G1, G2"
   ]
  },
  {
   "cell_type": "code",
   "execution_count": null,
   "metadata": {},
   "outputs": [],
   "source": [
    "def plot_passing_networks(G1, G2):\n",
    "    \"\"\"\n",
    "    Plot the two passing networks in input.\n",
    "    \n",
    "    Parameters\n",
    "    ----------\n",
    "    G1 : networkx object\n",
    "        the object representing the first network\n",
    "        \n",
    "    G2 : networkx object\n",
    "        the object representing the second network\n",
    "    \"\"\"\n",
    "    pos1 = nx.spring_layout(G1, 4)\n",
    "    pos2 = nx.spring_layout(G2, 4)\n",
    "    nome2degree = dict(G1.degree)\n",
    "    nx.draw(G1, pos=pos1, nodelist=list(nome2degree.keys()), \n",
    "            node_size=[deg * 50 for deg in nome2degree.values()], \n",
    "            node_color='red', edge_color='black',\n",
    "            with_labels=True, font_weight='bold', alpha=0.75)\n",
    "    plt.show()\n",
    "    \n",
    "    nome2degree = dict(G2.degree)\n",
    "    nx.draw(G2, pos=pos2, nodelist=list(nome2degree.keys()), \n",
    "            node_size=[deg * 50 for deg in nome2degree.values()],\n",
    "            node_color='blue', edge_color='black',\n",
    "            with_labels=True, font_weight='bold', alpha=0.75)\n",
    "    plt.show()"
   ]
  },
  {
   "cell_type": "code",
   "execution_count": null,
   "metadata": {},
   "outputs": [],
   "source": [
    "G1, G2 = passing_networks(match_id=2576105)"
   ]
  },
  {
   "cell_type": "code",
   "execution_count": null,
   "metadata": {},
   "outputs": [],
   "source": [
    "plot_passing_networks(G1, G2)"
   ]
  },
  {
   "cell_type": "markdown",
   "metadata": {},
   "source": [
    "### 9.B. <a id='flow_centrality'>Flow centrality</a>\n",
    "\n",
    "The **flow centrality** captures the fraction of times that a player intervenes in those paths that result in a shot. We take into account defensive efficiency by letting each player start a number of paths proportional to the number of balls that he recovers during the match.\n",
    "\n",
    "```\n",
    "Duch et al., Quantifying the Performance of Individual Players in a Team Activity, PLoS ONE 5(6): e10937. https://doi.org/10.1371/journal.pone.00109372010https://doi.org/10.1371/journal.pone.0010937\n",
    "```"
   ]
  },
  {
   "cell_type": "markdown",
   "metadata": {},
   "source": [
    "### Distribution of the flow centrality"
   ]
  },
  {
   "cell_type": "code",
   "execution_count": null,
   "metadata": {},
   "outputs": [],
   "source": [
    "def get_players_flow_centrality():\n",
    "    \"\"\"\n",
    "    Compute the sequence of flow centralities for each player.\n",
    "        \n",
    "    Returns\n",
    "    -------\n",
    "    dict\n",
    "        a dictionary of player names to a list of flow centralities\n",
    "        (one per each match played by the player).\n",
    "    \"\"\"\n",
    "    player2centralities = defaultdict(list)\n",
    "    for match in tqdm(match_id2match.values()):\n",
    "        match_id = match['wyId']\n",
    "        G1, G2 = passing_networks(match_id=match_id)\n",
    "        if G1.number_of_nodes() > 0:\n",
    "            for player_name in G1.nodes():\n",
    "                G1 = G1.to_undirected()\n",
    "                if nx.is_connected(G1):\n",
    "                    flow_centrality = nx.current_flow_betweenness_centrality(G1)[player_name]\n",
    "                    player2centralities[player_name].append(flow_centrality)\n",
    "        if G2.number_of_nodes() > 0:\n",
    "            for player_name in G2.nodes():\n",
    "                G2 = G2.to_undirected()\n",
    "                if nx.is_connected(G2):\n",
    "                    flow_centrality = nx.current_flow_betweenness_centrality(G2)[player_name]\n",
    "                    player2centralities[player_name].append(flow_centrality)\n",
    "    return player2centralities"
   ]
  },
  {
   "cell_type": "code",
   "execution_count": null,
   "metadata": {},
   "outputs": [],
   "source": [
    "player2centralities = get_players_flow_centrality()"
   ]
  },
  {
   "cell_type": "code",
   "execution_count": null,
   "metadata": {},
   "outputs": [],
   "source": [
    "chiellini_fcs = player2centralities['G. Chiellini']\n",
    "immobile_fcs = player2centralities['C. Immobile']\n",
    "barella_fcs = player2centralities['N. Barella']"
   ]
  },
  {
   "cell_type": "code",
   "execution_count": null,
   "metadata": {},
   "outputs": [],
   "source": [
    "def plot_flow_centrality(players_centralities, names):\n",
    "    \"\"\"\n",
    "    Plot the flow centralities in time of the players.\n",
    "    \n",
    "    Parameters\n",
    "    ----------\n",
    "    players_centralities : list of lists\n",
    "        the list of the list of flow centralities of the player\n",
    "        \n",
    "    names : list\n",
    "        the list of players\n",
    "    \"\"\"\n",
    "    sns.set_style('ticks')\n",
    "\n",
    "    f,ax = plt.subplots(figsize=(10,5))\n",
    "    for player_centralities, player_name in zip(players_centralities, names):\n",
    "        sns.kdeplot(pd.DataFrame(player_centralities, columns=['flow centrality'])['flow centrality'], \n",
    "                    shade=True, label=player_name)\n",
    "    plt.grid(alpha=0.3)\n",
    "    plt.xticks(fontsize=18)\n",
    "    plt.yticks(fontsize=18)\n",
    "    plt.xlabel('flow centrality', fontsize=25)\n",
    "    plt.ylabel('p(flow centrality)', fontsize=25)\n",
    "    lab = ax.legend(loc=1,fontsize=18,frameon=True,shadow=True)\n",
    "    f.tight_layout()\n",
    "    plt.show()"
   ]
  },
  {
   "cell_type": "code",
   "execution_count": null,
   "metadata": {},
   "outputs": [],
   "source": [
    "plot_flow_centrality([chiellini_fcs, immobile_fcs, barella_fcs], \n",
    "                     ['Chiellini', 'Immobile', 'Barella'])"
   ]
  },
  {
   "cell_type": "markdown",
   "metadata": {},
   "source": [
    "## 9.C <a id='playerank'>PlayeRank</a>"
   ]
  },
  {
   "cell_type": "markdown",
   "metadata": {},
   "source": [
    "PlayeRank is a data-driven framework to evaluate the performance of soccer players, designed to work with match events. The PlayeRank framework consists of four main components:\n",
    "<ol type=\"a\">\n",
    "\t<li>match events database</li>\n",
    "\t<li>learning module</li>\n",
    "\t<li>rating module</li>\n",
    "\t<li>ranking module</li>\n",
    "</ol>\n",
    "\n",
    "![PlayeRank framework schema](https://raw.githubusercontent.com/mesosbrodleto/playerank/master/playerank_schema_tist.png)\n",
    "\n",
    "**Schema of the PlayeRank framework**. Starting from a database of match events **(a)**, it consists of three main phases. The learning phase **(c)** is an \"online\" procedure: It must be executed at least once before the other phases, since it generates information used in the other two phases, but then it can be updated separately. The rating **(b)** and the ranking phases **(d)** are online procedures, i.e., they are executed every time anew match is available in the database of match events. \n",
    "\n",
    "An exhaustive description of PlayeRank framework is available in this paper:\n",
    "```\n",
    "Pappalardo, Luca, Cintia, Paolo, Ferragina, Paolo, Massucco, Emanuele, Pedreschi, Dino & Giannotti, Fosca (2019) PlayeRank: Data-driven Performance Evaluation and Player Ranking in Soccer via a Machine Learning Approach. ACM Transactions on Intelligent Systems and Technologies 10(5), DOI:https://doi.org/10.1145/3343172\n",
    "```\n",
    "\n",
    "To build player rankings from match events, the following steps are required:\n",
    "\n",
    "1. compute feature weights (learning)\n",
    "2. compute roles (learning)\n",
    "3. compute performance scores (rating)\n",
    "4. aggregate performance scores (ranking)\n",
    "\n",
    "More details on our github repository: https://github.com/mesosbrodleto/playerank"
   ]
  },
  {
   "cell_type": "code",
   "execution_count": null,
   "metadata": {},
   "outputs": [],
   "source": [
    "!git clone https://github.com/mesosbrodleto/playerank.git\n",
    "!python playerank/playerank/setup.py install "
   ]
  },
  {
   "cell_type": "markdown",
   "metadata": {},
   "source": [
    "### Learning phase\n",
    "\n",
    "Here we create Features weight and Role detector. The following blocks store the results on two configuration files: *feature_weights.json* and *role_matrix.json*. We already provide such files, you can skip the execution of the learning blocks. "
   ]
  },
  {
   "cell_type": "markdown",
   "metadata": {},
   "source": [
    "#### features weight\n",
    "\n",
    "We aggregate QualityFeatures and goal scored by team and matches. Features weight will be stored into a json file, to be used for performance scores computation.\n",
    "\n",
    "*QualityFeatures* are all the events with their corresponding outcomes. \n",
    "\n",
    "Example of quality feature:\n",
    "\n",
    "```{\n",
    "'match':  111,\n",
    "'feature': 'Pass-Simple Pass-accurate',\n",
    "'entity': 3890, \n",
    "'value': 400\n",
    "}```\n",
    "\n",
    "\n",
    "\n",
    "On learning phase, the `entity` for quality features is the team, while the value is the number of `feature` events observed for team in `match`\n",
    "\n",
    "*GoalScoredFeatures* are the goals difference for a team in a match.\n",
    "Example of GoalScored feature:\n",
    "\n",
    "\n",
    "```{ 'match': 111, 'feature': 'goal-scored', 'entity': 3159, 'value': -2 }```\n",
    "\n",
    "In this case, `entity` 3159  lost `match` 111 with a goals diffence of 2. (e.g. 0-2, 1-3, ...)"
   ]
  },
  {
   "cell_type": "raw",
   "metadata": {},
   "source": [
    "from playerank.playerank.features import qualityFeatures,relativeAggregation,goalScoredFeatures\n",
    "from playerank.playerank.models import Weighter\n",
    "\n",
    "\n",
    "qualityFeat = qualityFeatures.qualityFeatures()\n",
    "quality = qualityFeat.createFeature(events_path = 'data/events',\n",
    "                        players_file='data/players.json' ,entity = 'team')\n",
    "gs = goalScoredFeatures.goalScoredFeatures()\n",
    "goals = gs.createFeature('data/matches')\n",
    "\n",
    "#merging of quality features and goals scored\n",
    "aggregation = relativeAggregation.relativeAggregation()\n",
    "aggregation.set_features([quality,goals])\n",
    "df = aggregation.aggregate(to_dataframe = True)\n",
    "\n",
    "weighter = Weighter.Weighter(label_type='w-dl')\n",
    "output_path = \"feature_weights.json\"\n",
    "weighter.fit(df, target = 'goal-scored',  var_threshold = 0.02, filename=output_path)\n",
    "print (\"features weights stored in %s\"%output_path)"
   ]
  },
  {
   "cell_type": "markdown",
   "metadata": {},
   "source": [
    "#### roles matrix computation\n",
    "\n",
    "A role matrix is a data structure where, given x and y (integer, between 0 and 100),\n",
    "it contains the correspinding roles for a player having center of performance = x,y\n",
    "\n",
    "The structure of role_matrix is: x->y->role\n",
    "\n",
    "'kind' could be either 'multi' or 'single'. 'Multi' considers also hybrid roles, i.e. roles not definitely belonging to one single role. A player with an hybrid role has a center of performance that is in the edge between two roles (clusters). \n",
    "\n",
    "To compute roles, we create a new feature, named *centerOfPerformanceFeature*, in this format:\n",
    "\n",
    "```{\n",
    "'match':  111,\n",
    "'feature': 'avg_x' | 'avg_y',\n",
    "'entity': 3890, \n",
    "'value': 35.0\n",
    "} ```\n",
    "\n",
    "For each player, in each match, we compute both average x position and average y position. Then we aggregate it, in order to use them with a clustering function, that will results in the role detection module, stored into *role_matrix*. \n"
   ]
  },
  {
   "cell_type": "raw",
   "metadata": {},
   "source": [
    "from playerank.playerank.features import centerOfPerformanceFeature, plainAggregation\n",
    "from playerank.playerank.models import Clusterer\n",
    "import pandas as pd\n",
    "import json\n",
    "\n",
    "#getting average position for each player in each match\n",
    "centerfeat = centerOfPerformanceFeature.centerOfPerformanceFeature()\n",
    "centerfeat = centerfeat.createFeature(events_path = 'data/events',\n",
    "                    players_file='data/players.json')\n",
    "\n",
    "#plain aggregation to get a dataframe\n",
    "aggregation = plainAggregation.plainAggregation()\n",
    "aggregation.set_features([centerfeat])\n",
    "df = aggregation.aggregate(to_dataframe = True )\n",
    "\n",
    "#use clustering object to get the best fit\n",
    "clusterer = Clusterer.Clusterer(verbose=True, k_range=(8, 9))\n",
    "clusterer.fit(df.entity, df.match, df[['avg_x', 'avg_y']], kind='single')\n",
    "\n",
    "matrix_role = clusterer.get_clusters_matrix(kind = 'single') \n",
    "\n",
    "json.dump(matrix_role, open(\"role_matrix.json\",'w'))\n"
   ]
  },
  {
   "cell_type": "markdown",
   "metadata": {},
   "source": [
    "### Features weight"
   ]
  },
  {
   "cell_type": "code",
   "execution_count": null,
   "metadata": {},
   "outputs": [],
   "source": [
    "import plotly.graph_objs as go\n",
    "import plotly.offline as py\n",
    "import pandas as pd\n",
    "import json\n",
    "\n",
    "feature_data = json.load(open(\"feature_weights.json\"))\n",
    "\n",
    "fig = go.Figure([go.Bar(x=list(feature_data.keys()), y=list(feature_data.values()))])\n",
    "py.iplot(fig)"
   ]
  },
  {
   "cell_type": "markdown",
   "metadata": {},
   "source": [
    "### Role matrix"
   ]
  },
  {
   "cell_type": "code",
   "execution_count": null,
   "metadata": {},
   "outputs": [],
   "source": [
    "from collections import defaultdict\n",
    "\n",
    "matrix_role = json.load(open(\"role_matrix.json\",'r'))\n",
    "\n",
    "##we create a dictionary in the form: role->[list of points associated to the role]\n",
    "role_points = defaultdict(list)\n",
    "\n",
    "for x in matrix_role:\n",
    "    for y in matrix_role[x]:\n",
    "        role = matrix_role[x][y]\n",
    "        role_points[role].append((x,y))\n",
    "traces = []\n",
    "\n",
    "for role in role_points:\n",
    "    traces.append(go.Scatter(\n",
    "              x=[x[0] for x in role_points[role]],\n",
    "              y=[x[1] for x in role_points[role]],\n",
    "              mode='markers',\n",
    "              opacity=0.8,\n",
    "              marker={\n",
    "                  'size': 10,\n",
    "                  'line': {'width': 0.1, 'color': 'white'}\n",
    "              },\n",
    "              name=role\n",
    "          ))\n",
    "\n",
    "\n",
    "fig = go.Figure( data = traces + [\n",
    "                                go.Scatter(\n",
    "                                    showlegend=False,\n",
    "                                    y=[0, 100],\n",
    "                                    x=[50, 50],\n",
    "                                    mode='lines',\n",
    "                                    line={'width': 2, 'color': 'white'}\n",
    "                                ),\n",
    "                                go.Scatter(\n",
    "                                    showlegend=False,\n",
    "                                    y=[20, 20, 80, 80],\n",
    "                                    x=[0, 16, 16, 0],\n",
    "                                    mode='lines',\n",
    "                                    line={'width': 2, 'color': 'white'},\n",
    "                                ),\n",
    "                                go.Scatter(\n",
    "                                    showlegend=False,\n",
    "                                    y=[20, 20, 80, 80],\n",
    "                                    x=[100, 84, 84, 100],\n",
    "                                    mode='lines',\n",
    "                                    line={'width': 2, 'color': 'white'}\n",
    "                                ),\n",
    "                                go.Scatter(\n",
    "                                    showlegend=False,\n",
    "                                    y=[35, 35, 65, 65],\n",
    "                                    x=[100, 94, 94, 100],\n",
    "                                    mode='lines',\n",
    "                                    line={'width': 2, 'color': 'white'}\n",
    "                                ),\n",
    "                                go.Scatter(\n",
    "                                    showlegend=False,\n",
    "                                    y=[35, 35, 65, 65],\n",
    "                                    x=[0, 6, 6, 0],\n",
    "                                    mode='lines',\n",
    "                                    line={'width': 2, 'color': 'white'}\n",
    "                                ), ],\n",
    "\n",
    "                            layout = \n",
    "                                go.Layout(\n",
    "                                    hovermode='closest',\n",
    "                                    autosize=True,\n",
    "                                    width=550,\n",
    "                                    height=400,\n",
    "                                    plot_bgcolor='rgb(59,205,55)',\n",
    "                                    xaxis={\n",
    "                                        'range': [0, 100],\n",
    "                                        'showgrid': False,\n",
    "                                        'showticklabels': False,\n",
    "                                    },\n",
    "                                    yaxis={\n",
    "                                        'range': [0, 100],\n",
    "                                        'showgrid': False,\n",
    "                                        'showticklabels': False,\n",
    "                                    },\n",
    "                                    shapes=[\n",
    "                                        {\n",
    "                                            'type': 'circle',\n",
    "                                            'xref': 'x',\n",
    "                                            'yref': 'y',\n",
    "                                            'y0': 30,\n",
    "                                            'x0': 35,\n",
    "                                            'y1': 70,\n",
    "                                            'x1': 65,\n",
    "                                            'line': {\n",
    "                                                'color': 'white',\n",
    "                                            },\n",
    "                                        }]) )\n",
    "                                \n",
    "py.iplot(fig)"
   ]
  },
  {
   "cell_type": "markdown",
   "metadata": {},
   "source": [
    "### Playerank scores computation"
   ]
  },
  {
   "cell_type": "markdown",
   "metadata": {},
   "source": [
    "Conversely to learning phase, we now compute quality features aggregating by player.\n",
    "\n",
    "*QualityFeatures* are all the events with their corresponding outcomes. \n",
    "\n",
    "Example of quality feature:\n",
    "\n",
    "``` \n",
    "{\n",
    "'match':  111,\n",
    "'feature': 'Pass-Simple Pass-accurate',\n",
    "'entity': 311032, \n",
    "'value': 400\n",
    "}\n",
    "```\n",
    "\n",
    "\n",
    "\n",
    "\n",
    "\n",
    "\n",
    "\n",
    "In this phase, the `entity` for quality features is the player, while the value is the number of `feature` events observed for player, in  `match`"
   ]
  },
  {
   "cell_type": "code",
   "execution_count": null,
   "metadata": {},
   "outputs": [],
   "source": [
    "from playerank.playerank.models import Weighter\n",
    "\n",
    "from playerank.playerank.features import centerOfPerformanceFeature,qualityFeatures,playerankFeatures, plainAggregation, matchPlayedFeatures,roleFeatures\n",
    "import sys,json"
   ]
  },
  {
   "cell_type": "code",
   "execution_count": null,
   "metadata": {},
   "outputs": [],
   "source": [
    "qualityFeat = qualityFeatures.qualityFeatures()\n",
    "quality= qualityFeat.createFeature(events_path = 'data/events/*Italy.json',\n",
    "                    players_file='data/players.json', entity = 'player' )"
   ]
  },
  {
   "cell_type": "markdown",
   "metadata": {},
   "source": [
    "We computed feature weights during the learning phase. Now we compute the performane scores, by applying feature weights to quality features.\n",
    "\n",
    "We obtain playerank features, i.e. features in this format:\n",
    "\n",
    "{\n",
    "'match':  111,\n",
    "'feature': 'playerank_score',\n",
    "'entity': 311032, \n",
    "'value': 0.2\n",
    "}"
   ]
  },
  {
   "cell_type": "code",
   "execution_count": null,
   "metadata": {},
   "outputs": [],
   "source": [
    "weights_file ='feature_weights.json'\n",
    "\n",
    "prFeat = playerankFeatures.playerankFeatures()\n",
    "prFeat.set_features([quality])\n",
    "pr= prFeat.createFeature(weights_file)\n"
   ]
  },
  {
   "cell_type": "markdown",
   "metadata": {},
   "source": [
    "We then compute goal scored for each player, and other features such as: minutes played, player's team and timestamp of the performance."
   ]
  },
  {
   "cell_type": "code",
   "execution_count": null,
   "metadata": {},
   "outputs": [],
   "source": [
    "matchPlayedFeat = matchPlayedFeatures.matchPlayedFeatures()\n",
    "matchplayed = matchPlayedFeat.createFeature(matches_path = 'data/matches/*Italy.json',\n",
    "                    players_file='data/players.json')\n",
    "\n"
   ]
  },
  {
   "cell_type": "markdown",
   "metadata": {},
   "source": [
    "We compute center of performance for each player in each match. We use such centers to compute role of each player in eact match, using the matrix role computed during the learning phase"
   ]
  },
  {
   "cell_type": "code",
   "execution_count": null,
   "metadata": {},
   "outputs": [],
   "source": [
    "center_performance = centerOfPerformanceFeature.centerOfPerformanceFeature()\n",
    "\n",
    "center_performance = center_performance.createFeature(events_path = 'data/events/*Italy.json',\n",
    "                                        players_file = 'data/players.json' )\n",
    "\n",
    "\n",
    "roleFeat = roleFeatures.roleFeatures()\n",
    "roleFeat.set_features([center_performance])\n",
    "roles= roleFeat.createFeature(matrix_role_file = 'role_matrix.json')"
   ]
  },
  {
   "cell_type": "markdown",
   "metadata": {},
   "source": [
    "Finally, we compute player ratings, by normalizing playerank scores and combining them with goals scored, given the goal weight assigned by the user (default goal weight is 0)"
   ]
  },
  {
   "cell_type": "code",
   "execution_count": null,
   "metadata": {},
   "outputs": [],
   "source": [
    "from playerank.playerank.models import Rater\n",
    "\n",
    "\n",
    "aggregation = plainAggregation.plainAggregation()\n",
    "\n",
    "aggregation.set_features([matchplayed,pr,roles])\n",
    "\n",
    "df = aggregation.aggregate(to_dataframe = True)\n",
    "\n",
    "weighter = Rater.Rater(alpha_goal = 0.1) #we set goal weight as 10% of total performance score\n",
    "\n",
    "df['ratings'] = weighter.predict(df,  'playerankScore', 'goalScored')\n",
    "\n"
   ]
  },
  {
   "cell_type": "markdown",
   "metadata": {},
   "source": [
    "#### playerank scores aggregation by role"
   ]
  },
  {
   "cell_type": "code",
   "execution_count": null,
   "metadata": {},
   "outputs": [],
   "source": [
    "#from pandas.compat import u\n",
    "\n",
    "grouped = df[['entity','roleCluster', 'ratings']].groupby(['entity','roleCluster']).agg(['mean','count'])\n",
    "grouped = grouped.reset_index()\n",
    "\n",
    "players = pd.read_json(('data/players.json'))\n",
    "players = players[['wyId','shortName']]\n",
    "players['entity'] = players['wyId']\n",
    "\n",
    "grouped = pd.merge(grouped,players, on='entity')\n",
    "grouped['shortName'] = grouped['shortName'].apply(lambda x: x.encode().decode('unicode_escape'))\n",
    "grouped.columns = ['entity', 'entity', 'roleCluster', 'ratings_mean', 'ratings_count','wyId','shortName']\n",
    "grouped = grouped[grouped['ratings_count'] > 15]"
   ]
  },
  {
   "cell_type": "code",
   "execution_count": null,
   "metadata": {},
   "outputs": [],
   "source": [
    "import plotly.graph_objs as go\n",
    "import plotly.offline as py\n",
    "import pandas as pd\n",
    "import json\n",
    "colors = ['blue', 'green', 'red', 'cyan', 'magenta', 'maroon', 'crimson', 'orange']\n",
    "    \n",
    "cluster2color = {cluster: color for cluster, color in zip(grouped['roleCluster'].unique(), colors)}\n",
    "\n",
    "traces = []\n",
    "for cluster in grouped['roleCluster'].unique():\n",
    " \n",
    "  trace = go.Box(\n",
    "              y=grouped[grouped['roleCluster'] == cluster]['ratings_mean'].values,\n",
    "              boxpoints='all',\n",
    "              jitter=0.8,\n",
    "              pointpos=0,\n",
    "              name=cluster,\n",
    "              text=grouped[grouped['roleCluster'] == cluster]['shortName'],\n",
    "              marker=dict(color=cluster2color[cluster], size=3),\n",
    "              hoverinfo='text'\n",
    "          )\n",
    "  traces.append(trace)\n",
    "\n",
    "  \n",
    "figure=go.Figure(\n",
    "                  data=traces,\n",
    "                  layout=go.Layout(\n",
    "                      title='Best performance of players by role',\n",
    "                      xaxis=dict(title=\"role\", zeroline=True, showgrid=False,\n",
    "                                 zerolinewidth=2),\n",
    "                      yaxis=dict(title=\"PlayeRank score\", zeroline=True, showgrid=False),\n",
    "                      showlegend=False,\n",
    "                      # autosize=True,\n",
    "                  ),\n",
    "              )\n",
    "\n",
    "py.iplot(figure)"
   ]
  },
  {
   "cell_type": "markdown",
   "metadata": {},
   "source": [
    "#### compare playerank scores over time"
   ]
  },
  {
   "cell_type": "code",
   "execution_count": null,
   "metadata": {},
   "outputs": [],
   "source": [
    "df_evolution = pd.merge(df,players, on = \"entity\") #adding player names to playerank dataframe"
   ]
  },
  {
   "cell_type": "code",
   "execution_count": null,
   "metadata": {},
   "outputs": [],
   "source": [
    "def compare_player(b):\n",
    "    trace_A =  go.Line(\n",
    "        x = df_evolution[df_evolution.shortName == playerA.value][\"timestamp\"],\n",
    "        y = df_evolution[df_evolution.shortName == playerA.value][\"ratings\"],\n",
    "        name = playerA.value\n",
    "    )\n",
    "    trace_B =  go.Line(\n",
    "        x = df_evolution[df_evolution.shortName == playerB.value][\"timestamp\"],\n",
    "        y = df_evolution[df_evolution.shortName == playerB.value][\"ratings\"],\n",
    "        name = playerB.value\n",
    "    )\n",
    "    traces = [trace_A,trace_B]\n",
    "    figure=go.Figure(\n",
    "                  data=traces,\n",
    "                  layout=go.Layout(\n",
    "                      title='Performance Comparison',\n",
    "                      xaxis=dict(title=\"timestamp\", zeroline=True, showgrid=False,\n",
    "                                 zerolinewidth=2),\n",
    "                      yaxis=dict(title=\"PlayeRank score\", zeroline=True, showgrid=False),\n",
    "                      showlegend=True,\n",
    "                      # autosize=True,\n",
    "                  ),\n",
    "              )\n",
    "\n",
    "    py.iplot(figure)"
   ]
  },
  {
   "cell_type": "code",
   "execution_count": null,
   "metadata": {},
   "outputs": [],
   "source": [
    "import ipywidgets as widgets\n",
    "f_list = sorted(df_evolution[\"shortName\"].drop_duplicates())\n",
    "playerA = widgets.Dropdown(options=f_list)\n",
    "playerB = widgets.Dropdown(options=f_list)\n",
    "button = widgets.Button(description = \"compare\")\n",
    "button.on_click(compare_player)\n",
    "widgets.HBox([playerA,playerB, button])\n"
   ]
  },
  {
   "cell_type": "code",
   "execution_count": null,
   "metadata": {},
   "outputs": [],
   "source": [
    "df"
   ]
  },
  {
   "cell_type": "code",
   "execution_count": null,
   "metadata": {},
   "outputs": [],
   "source": []
  }
 ],
 "metadata": {
  "hide_input": false,
  "kernelspec": {
   "display_name": "Python [conda:soccerenv]",
   "language": "python",
   "name": "soccerenv"
  },
  "language_info": {
   "codemirror_mode": {
    "name": "ipython",
    "version": 3
   },
   "file_extension": ".py",
   "mimetype": "text/x-python",
   "name": "python",
   "nbconvert_exporter": "python",
   "pygments_lexer": "ipython3"
  },
  "latex_envs": {
   "LaTeX_envs_menu_present": true,
   "autoclose": false,
   "autocomplete": true,
   "bibliofile": "biblio.bib",
   "cite_by": "apalike",
   "current_citInitial": 1,
   "eqLabelWithNumbers": true,
   "eqNumInitial": 1,
   "hotkeys": {
    "equation": "Ctrl-E",
    "itemize": "Ctrl-I"
   },
   "labels_anchors": false,
   "latex_user_defs": false,
   "report_style_numbering": true,
   "user_envs_cfg": false
  }
 },
 "nbformat": 4,
 "nbformat_minor": 4
}
